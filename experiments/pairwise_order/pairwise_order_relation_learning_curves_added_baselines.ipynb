{
 "cells": [
  {
   "cell_type": "markdown",
   "metadata": {},
   "source": [
    "# Pairwise Order relation"
   ]
  },
  {
   "cell_type": "markdown",
   "metadata": {},
   "source": [
    "## Set Up"
   ]
  },
  {
   "cell_type": "code",
   "execution_count": 1,
   "metadata": {},
   "outputs": [],
   "source": [
    "import sys\n",
    "sys.path.append('../..'); sys.path.append('../');\n",
    "\n",
    "import numpy as np\n",
    "import matplotlib.pyplot as plt\n",
    "\n",
    "import os\n",
    "os.environ['TF_CPP_MIN_LOG_LEVEL'] = '3'  # or any {'0', '1', '2'}\n",
    "import tensorflow as tf\n",
    "\n",
    "import itertools\n",
    "\n",
    "import utils\n",
    "\n",
    "from tqdm import tqdm, trange\n",
    "import wandb\n",
    "\n",
    "import plotly.express as px"
   ]
  },
  {
   "cell_type": "markdown",
   "metadata": {},
   "source": [
    "## Object Dataset"
   ]
  },
  {
   "cell_type": "code",
   "execution_count": 2,
   "metadata": {},
   "outputs": [
    {
     "name": "stdout",
     "output_type": "stream",
     "text": [
      "object pair: (24, 18); relation: 0\n",
      "object pair: (20, 54); relation: 1\n",
      "object pair: (38, 23); relation: 0\n",
      "object pair: (38, 2); relation: 0\n",
      "object pair: (56, 8); relation: 0\n",
      "object pair: (33, 36); relation: 1\n",
      "object pair: (24, 49); relation: 1\n",
      "object pair: (38, 55); relation: 1\n",
      "object pair: (29, 20); relation: 0\n",
      "object pair: (11, 13); relation: 1\n"
     ]
    }
   ],
   "source": [
    "# create data set for learning order relatios\n",
    "# num_objects = 32\n",
    "# object_dim = 8\n",
    "num_objects = 64\n",
    "object_dim = 32\n",
    "object_pairs = np.array(list(itertools.permutations(range(num_objects), r=2)))\n",
    "object_order_relations = (object_pairs[:,0] < object_pairs[:, 1]).astype(int)\n",
    "sample = np.random.choice(len(object_pairs), 10)\n",
    "for object_pair, relation in zip(object_pairs[sample], object_order_relations[sample]):\n",
    "    print(f'object pair: {tuple(object_pair)}; relation: {relation}')"
   ]
  },
  {
   "cell_type": "code",
   "execution_count": 3,
   "metadata": {},
   "outputs": [],
   "source": [
    "objects = np.random.normal(loc=0., scale=1., size=(num_objects, object_dim))\n",
    "\n",
    "X = objects[object_pairs]\n",
    "y = object_order_relations"
   ]
  },
  {
   "cell_type": "code",
   "execution_count": 4,
   "metadata": {},
   "outputs": [
    {
     "data": {
      "text/plain": [
       "((4032, 2, 32), (4032,), 0.5)"
      ]
     },
     "execution_count": 4,
     "metadata": {},
     "output_type": "execute_result"
    }
   ],
   "source": [
    "X.shape, y.shape, y.mean()"
   ]
  },
  {
   "cell_type": "code",
   "execution_count": 5,
   "metadata": {},
   "outputs": [],
   "source": [
    "from sklearn.model_selection import train_test_split\n",
    "test_size = 0.35\n",
    "val_size = 0.15\n",
    "X_train, X_test, y_train, y_test = train_test_split(X, y, test_size=test_size)\n",
    "X_train, X_val, y_train, y_val = train_test_split(X_train, y_train, test_size=val_size/(1-test_size))"
   ]
  },
  {
   "cell_type": "code",
   "execution_count": 6,
   "metadata": {},
   "outputs": [
    {
     "data": {
      "text/plain": [
       "(2015, 605, 1412)"
      ]
     },
     "execution_count": 6,
     "metadata": {},
     "output_type": "execute_result"
    }
   ],
   "source": [
    "len(y_train), len(y_val), len(y_test)"
   ]
  },
  {
   "cell_type": "code",
   "execution_count": 7,
   "metadata": {},
   "outputs": [],
   "source": [
    "loss = tf.keras.losses.SparseCategoricalCrossentropy(from_logits=True, name='binary_crossentropy')\n",
    "create_opt = lambda : tf.keras.optimizers.Adam(learning_rate=0.001)"
   ]
  },
  {
   "cell_type": "markdown",
   "metadata": {},
   "source": [
    "## Abstractor"
   ]
  },
  {
   "cell_type": "code",
   "execution_count": 8,
   "metadata": {},
   "outputs": [],
   "source": [
    "from abstractor import Abstractor\n",
    "from tensorflow.keras import layers"
   ]
  },
  {
   "cell_type": "code",
   "execution_count": 9,
   "metadata": {},
   "outputs": [
    {
     "name": "stdout",
     "output_type": "stream",
     "text": [
      "Model: \"order_abstractor\"\n",
      "_________________________________________________________________\n",
      " Layer (type)                Output Shape              Param #   \n",
      "=================================================================\n",
      " input_1 (InputLayer)        [(None, 2, 32)]           0         \n",
      "                                                                 \n",
      " dense (Dense)               (None, 2, 64)             2112      \n",
      "                                                                 \n",
      " abstractor (Abstractor)     (None, 2, 64)             20928     \n",
      "                                                                 \n",
      " flatten (Flatten)           (None, 128)               0         \n",
      "                                                                 \n",
      " hidden_layer (Dense)        (None, 32)                4128      \n",
      "                                                                 \n",
      " final_layer (Dense)         (None, 1)                 33        \n",
      "                                                                 \n",
      "=================================================================\n",
      "Total params: 27,201\n",
      "Trainable params: 27,201\n",
      "Non-trainable params: 0\n",
      "_________________________________________________________________\n",
      "None\n"
     ]
    }
   ],
   "source": [
    "embedding_dim = 64\n",
    "\n",
    "abstractor_kwargs = dict(\n",
    "        num_layers=1,\n",
    "        rel_dim=4,\n",
    "        symbol_dim=64,\n",
    "        proj_dim=16,\n",
    "        dff=64,\n",
    "        symmetric_rels=False,\n",
    "        encoder_kwargs=dict(use_bias=False),\n",
    "        rel_activation_type='sigmoid',\n",
    "        use_self_attn=False,\n",
    "        use_layer_norm=False,\n",
    "        dropout_rate=0.1,)\n",
    "\n",
    "orderabstractor_kwargs = dict(embedding_dim=embedding_dim, abstractor_kwargs=abstractor_kwargs)\n",
    "\n",
    "class AbstractorOrderModel(tf.keras.Model):\n",
    "    def __init__(self, embedding_dim, abstractor_kwargs, name=None):\n",
    "        super().__init__(name=name)\n",
    "        self.embedder = layers.Dense(embedding_dim)\n",
    "        self.abstractor = Abstractor(**abstractor_kwargs)\n",
    "        self.flatten = layers.Flatten()\n",
    "        self.hidden_dense = layers.Dense(32, activation='relu', name='hidden_layer')\n",
    "        self.final_layer = layers.Dense(1, activation='sigmoid', name='final_layer')\n",
    "\n",
    "    def call(self, inputs):\n",
    "        x = self.embedder(inputs)\n",
    "        x = self.abstractor(x)\n",
    "        x = self.flatten(x)\n",
    "        x = self.hidden_dense(x)\n",
    "        x = self.final_layer(x)\n",
    "\n",
    "        return x\n",
    "\n",
    "    def print_summary(self, input_shape):\n",
    "        inputs = layers.Input(input_shape)\n",
    "        outputs = self.call(inputs)\n",
    "        print(tf.keras.Model(inputs, outputs, name=self.name).summary())\n",
    "\n",
    "abstractor_model = AbstractorOrderModel(**orderabstractor_kwargs, name='order_abstractor')\n",
    "abstractor_model.compile(loss='binary_crossentropy', optimizer=create_opt(), metrics=['binary_accuracy'])\n",
    "abstractor_model(X_train[:32])\n",
    "abstractor_model.print_summary(X.shape[1:]);"
   ]
  },
  {
   "cell_type": "code",
   "execution_count": 10,
   "metadata": {},
   "outputs": [
    {
     "name": "stdout",
     "output_type": "stream",
     "text": [
      "Epoch 1/100\n",
      "7/7 [==============================] - 5s 175ms/step - loss: 0.7268 - binary_accuracy: 0.5350 - val_loss: 0.7128 - val_binary_accuracy: 0.5438\n",
      "Epoch 2/100\n",
      "7/7 [==============================] - 0s 26ms/step - loss: 0.6518 - binary_accuracy: 0.5875 - val_loss: 0.6947 - val_binary_accuracy: 0.5570\n",
      "Epoch 3/100\n",
      "7/7 [==============================] - 0s 28ms/step - loss: 0.5989 - binary_accuracy: 0.7075 - val_loss: 0.7033 - val_binary_accuracy: 0.5686\n",
      "Epoch 4/100\n",
      "7/7 [==============================] - 0s 25ms/step - loss: 0.5597 - binary_accuracy: 0.7025 - val_loss: 0.7058 - val_binary_accuracy: 0.5983\n",
      "Epoch 5/100\n",
      "7/7 [==============================] - 0s 26ms/step - loss: 0.4967 - binary_accuracy: 0.7450 - val_loss: 0.7242 - val_binary_accuracy: 0.6116\n",
      "Epoch 6/100\n",
      "7/7 [==============================] - 0s 23ms/step - loss: 0.4407 - binary_accuracy: 0.8050 - val_loss: 0.7175 - val_binary_accuracy: 0.6430\n",
      "Epoch 7/100\n",
      "7/7 [==============================] - 0s 23ms/step - loss: 0.3829 - binary_accuracy: 0.8650 - val_loss: 0.6940 - val_binary_accuracy: 0.6579\n",
      "Epoch 8/100\n",
      "7/7 [==============================] - 0s 23ms/step - loss: 0.3130 - binary_accuracy: 0.8725 - val_loss: 0.6519 - val_binary_accuracy: 0.6893\n",
      "Epoch 9/100\n",
      "7/7 [==============================] - 0s 25ms/step - loss: 0.2568 - binary_accuracy: 0.9075 - val_loss: 0.6140 - val_binary_accuracy: 0.7355\n",
      "Epoch 10/100\n",
      "7/7 [==============================] - 0s 24ms/step - loss: 0.2141 - binary_accuracy: 0.9250 - val_loss: 0.6135 - val_binary_accuracy: 0.7355\n",
      "Epoch 11/100\n",
      "7/7 [==============================] - 0s 23ms/step - loss: 0.1753 - binary_accuracy: 0.9575 - val_loss: 0.6311 - val_binary_accuracy: 0.7405\n",
      "Epoch 12/100\n",
      "7/7 [==============================] - 0s 25ms/step - loss: 0.1693 - binary_accuracy: 0.9525 - val_loss: 0.6413 - val_binary_accuracy: 0.7421\n",
      "Epoch 13/100\n",
      "7/7 [==============================] - 0s 23ms/step - loss: 0.1327 - binary_accuracy: 0.9525 - val_loss: 0.6625 - val_binary_accuracy: 0.7521\n",
      "Epoch 14/100\n",
      "7/7 [==============================] - 0s 23ms/step - loss: 0.1244 - binary_accuracy: 0.9575 - val_loss: 0.6463 - val_binary_accuracy: 0.7421\n",
      "Epoch 15/100\n",
      "7/7 [==============================] - 0s 23ms/step - loss: 0.1093 - binary_accuracy: 0.9575 - val_loss: 0.6494 - val_binary_accuracy: 0.7570\n",
      "Epoch 16/100\n",
      "7/7 [==============================] - 0s 23ms/step - loss: 0.0754 - binary_accuracy: 0.9750 - val_loss: 0.6557 - val_binary_accuracy: 0.7686\n",
      "Epoch 17/100\n",
      "7/7 [==============================] - 0s 36ms/step - loss: 0.0656 - binary_accuracy: 0.9850 - val_loss: 0.6794 - val_binary_accuracy: 0.7686\n",
      "Epoch 18/100\n",
      "7/7 [==============================] - 0s 23ms/step - loss: 0.0490 - binary_accuracy: 0.9925 - val_loss: 0.6747 - val_binary_accuracy: 0.7686\n",
      "Epoch 19/100\n",
      "7/7 [==============================] - 0s 24ms/step - loss: 0.0351 - binary_accuracy: 0.9925 - val_loss: 0.6799 - val_binary_accuracy: 0.7686\n",
      "Epoch 20/100\n",
      "7/7 [==============================] - 0s 25ms/step - loss: 0.0385 - binary_accuracy: 0.9950 - val_loss: 0.7015 - val_binary_accuracy: 0.7736\n",
      "Epoch 21/100\n",
      "7/7 [==============================] - 0s 21ms/step - loss: 0.0275 - binary_accuracy: 0.9950 - val_loss: 0.7414 - val_binary_accuracy: 0.7587\n",
      "Epoch 22/100\n",
      "7/7 [==============================] - 0s 20ms/step - loss: 0.0230 - binary_accuracy: 0.9975 - val_loss: 0.7648 - val_binary_accuracy: 0.7686\n",
      "Epoch 23/100\n",
      "7/7 [==============================] - 0s 27ms/step - loss: 0.0264 - binary_accuracy: 0.9900 - val_loss: 0.8002 - val_binary_accuracy: 0.7587\n",
      "Epoch 24/100\n",
      "7/7 [==============================] - 0s 24ms/step - loss: 0.0227 - binary_accuracy: 0.9950 - val_loss: 0.8177 - val_binary_accuracy: 0.7653\n",
      "Epoch 25/100\n",
      "7/7 [==============================] - 0s 24ms/step - loss: 0.0125 - binary_accuracy: 1.0000 - val_loss: 0.8214 - val_binary_accuracy: 0.7669\n",
      "Epoch 26/100\n",
      "7/7 [==============================] - 0s 23ms/step - loss: 0.0181 - binary_accuracy: 1.0000 - val_loss: 0.8230 - val_binary_accuracy: 0.7686\n",
      "Epoch 27/100\n",
      "7/7 [==============================] - 0s 22ms/step - loss: 0.0106 - binary_accuracy: 1.0000 - val_loss: 0.8469 - val_binary_accuracy: 0.7686\n",
      "Epoch 28/100\n",
      "7/7 [==============================] - 0s 23ms/step - loss: 0.0172 - binary_accuracy: 0.9950 - val_loss: 0.8328 - val_binary_accuracy: 0.7802\n",
      "Epoch 29/100\n",
      "7/7 [==============================] - 0s 23ms/step - loss: 0.0087 - binary_accuracy: 1.0000 - val_loss: 0.8464 - val_binary_accuracy: 0.7785\n",
      "Epoch 30/100\n",
      "7/7 [==============================] - 0s 37ms/step - loss: 0.0072 - binary_accuracy: 1.0000 - val_loss: 0.8724 - val_binary_accuracy: 0.7769\n",
      "Epoch 31/100\n",
      "7/7 [==============================] - 0s 23ms/step - loss: 0.0069 - binary_accuracy: 1.0000 - val_loss: 0.8837 - val_binary_accuracy: 0.7785\n",
      "Epoch 32/100\n",
      "7/7 [==============================] - 0s 23ms/step - loss: 0.0057 - binary_accuracy: 1.0000 - val_loss: 0.8815 - val_binary_accuracy: 0.7802\n",
      "Epoch 33/100\n",
      "7/7 [==============================] - 0s 24ms/step - loss: 0.0043 - binary_accuracy: 1.0000 - val_loss: 0.8934 - val_binary_accuracy: 0.7818\n",
      "Epoch 34/100\n",
      "7/7 [==============================] - 0s 23ms/step - loss: 0.0052 - binary_accuracy: 1.0000 - val_loss: 0.9036 - val_binary_accuracy: 0.7802\n",
      "Epoch 35/100\n",
      "7/7 [==============================] - 0s 23ms/step - loss: 0.0037 - binary_accuracy: 1.0000 - val_loss: 0.9301 - val_binary_accuracy: 0.7736\n",
      "Epoch 36/100\n",
      "7/7 [==============================] - 0s 25ms/step - loss: 0.0049 - binary_accuracy: 1.0000 - val_loss: 0.9327 - val_binary_accuracy: 0.7736\n",
      "Epoch 37/100\n",
      "7/7 [==============================] - 0s 23ms/step - loss: 0.0027 - binary_accuracy: 1.0000 - val_loss: 0.9366 - val_binary_accuracy: 0.7702\n",
      "Epoch 38/100\n",
      "7/7 [==============================] - 0s 34ms/step - loss: 0.0028 - binary_accuracy: 1.0000 - val_loss: 0.9578 - val_binary_accuracy: 0.7719\n",
      "Epoch 39/100\n",
      "7/7 [==============================] - 0s 23ms/step - loss: 0.0030 - binary_accuracy: 1.0000 - val_loss: 0.9756 - val_binary_accuracy: 0.7702\n",
      "Epoch 40/100\n",
      "7/7 [==============================] - 0s 22ms/step - loss: 0.0028 - binary_accuracy: 1.0000 - val_loss: 0.9807 - val_binary_accuracy: 0.7686\n",
      "Epoch 41/100\n",
      "7/7 [==============================] - 0s 23ms/step - loss: 0.0031 - binary_accuracy: 1.0000 - val_loss: 0.9847 - val_binary_accuracy: 0.7719\n",
      "Epoch 42/100\n",
      "7/7 [==============================] - 0s 24ms/step - loss: 0.0035 - binary_accuracy: 1.0000 - val_loss: 0.9920 - val_binary_accuracy: 0.7702\n",
      "Epoch 43/100\n",
      "7/7 [==============================] - 0s 21ms/step - loss: 0.0031 - binary_accuracy: 1.0000 - val_loss: 0.9991 - val_binary_accuracy: 0.7653\n",
      "Epoch 44/100\n",
      "7/7 [==============================] - 0s 22ms/step - loss: 0.0026 - binary_accuracy: 1.0000 - val_loss: 1.0084 - val_binary_accuracy: 0.7603\n",
      "Epoch 45/100\n",
      "7/7 [==============================] - 0s 22ms/step - loss: 0.0030 - binary_accuracy: 1.0000 - val_loss: 1.0177 - val_binary_accuracy: 0.7620\n",
      "Epoch 46/100\n",
      "7/7 [==============================] - 0s 21ms/step - loss: 0.0024 - binary_accuracy: 1.0000 - val_loss: 1.0382 - val_binary_accuracy: 0.7620\n",
      "Epoch 47/100\n",
      "7/7 [==============================] - 0s 22ms/step - loss: 0.0024 - binary_accuracy: 1.0000 - val_loss: 1.0389 - val_binary_accuracy: 0.7603\n",
      "Epoch 48/100\n",
      "7/7 [==============================] - 0s 22ms/step - loss: 0.0018 - binary_accuracy: 1.0000 - val_loss: 1.0351 - val_binary_accuracy: 0.7686\n",
      "Epoch 49/100\n",
      "7/7 [==============================] - 0s 22ms/step - loss: 0.0015 - binary_accuracy: 1.0000 - val_loss: 1.0355 - val_binary_accuracy: 0.7686\n",
      "Epoch 50/100\n",
      "7/7 [==============================] - 0s 24ms/step - loss: 0.0018 - binary_accuracy: 1.0000 - val_loss: 1.0477 - val_binary_accuracy: 0.7669\n",
      "Epoch 51/100\n",
      "7/7 [==============================] - 0s 26ms/step - loss: 0.0024 - binary_accuracy: 1.0000 - val_loss: 1.0774 - val_binary_accuracy: 0.7537\n",
      "Epoch 52/100\n",
      "7/7 [==============================] - 0s 23ms/step - loss: 0.0018 - binary_accuracy: 1.0000 - val_loss: 1.0992 - val_binary_accuracy: 0.7587\n",
      "Epoch 53/100\n",
      "7/7 [==============================] - 0s 25ms/step - loss: 0.0017 - binary_accuracy: 1.0000 - val_loss: 1.0955 - val_binary_accuracy: 0.7620\n",
      "Epoch 54/100\n",
      "7/7 [==============================] - 0s 28ms/step - loss: 0.0024 - binary_accuracy: 1.0000 - val_loss: 1.0969 - val_binary_accuracy: 0.7587\n",
      "Epoch 55/100\n",
      "7/7 [==============================] - 0s 26ms/step - loss: 0.0015 - binary_accuracy: 1.0000 - val_loss: 1.1126 - val_binary_accuracy: 0.7620\n",
      "Epoch 56/100\n",
      "7/7 [==============================] - 0s 24ms/step - loss: 0.0010 - binary_accuracy: 1.0000 - val_loss: 1.1277 - val_binary_accuracy: 0.7554\n",
      "Epoch 57/100\n",
      "7/7 [==============================] - 0s 22ms/step - loss: 0.0016 - binary_accuracy: 1.0000 - val_loss: 1.1217 - val_binary_accuracy: 0.7603\n",
      "Epoch 58/100\n",
      "7/7 [==============================] - 0s 23ms/step - loss: 0.0015 - binary_accuracy: 1.0000 - val_loss: 1.1187 - val_binary_accuracy: 0.7603\n",
      "Epoch 59/100\n",
      "7/7 [==============================] - 0s 22ms/step - loss: 0.0012 - binary_accuracy: 1.0000 - val_loss: 1.1271 - val_binary_accuracy: 0.7636\n",
      "Epoch 60/100\n",
      "7/7 [==============================] - 0s 24ms/step - loss: 0.0010 - binary_accuracy: 1.0000 - val_loss: 1.1367 - val_binary_accuracy: 0.7636\n",
      "Epoch 61/100\n",
      "7/7 [==============================] - 0s 22ms/step - loss: 8.9774e-04 - binary_accuracy: 1.0000 - val_loss: 1.1454 - val_binary_accuracy: 0.7620\n",
      "Epoch 62/100\n",
      "7/7 [==============================] - 0s 23ms/step - loss: 9.0909e-04 - binary_accuracy: 1.0000 - val_loss: 1.1498 - val_binary_accuracy: 0.7587\n",
      "Epoch 63/100\n",
      "7/7 [==============================] - 0s 21ms/step - loss: 6.6756e-04 - binary_accuracy: 1.0000 - val_loss: 1.1461 - val_binary_accuracy: 0.7570\n",
      "Epoch 64/100\n",
      "7/7 [==============================] - 0s 20ms/step - loss: 0.0011 - binary_accuracy: 1.0000 - val_loss: 1.1495 - val_binary_accuracy: 0.7587\n",
      "Epoch 65/100\n",
      "7/7 [==============================] - 0s 23ms/step - loss: 0.0011 - binary_accuracy: 1.0000 - val_loss: 1.1587 - val_binary_accuracy: 0.7620\n",
      "Epoch 66/100\n",
      "7/7 [==============================] - 0s 21ms/step - loss: 0.0011 - binary_accuracy: 1.0000 - val_loss: 1.1711 - val_binary_accuracy: 0.7620\n",
      "Epoch 67/100\n",
      "7/7 [==============================] - 0s 21ms/step - loss: 0.0012 - binary_accuracy: 1.0000 - val_loss: 1.1926 - val_binary_accuracy: 0.7537\n",
      "Epoch 68/100\n",
      "7/7 [==============================] - 0s 38ms/step - loss: 0.0011 - binary_accuracy: 1.0000 - val_loss: 1.1542 - val_binary_accuracy: 0.7554\n",
      "Epoch 69/100\n",
      "7/7 [==============================] - 0s 24ms/step - loss: 0.0012 - binary_accuracy: 1.0000 - val_loss: 1.1449 - val_binary_accuracy: 0.7603\n",
      "Epoch 70/100\n",
      "7/7 [==============================] - 0s 24ms/step - loss: 0.0012 - binary_accuracy: 1.0000 - val_loss: 1.1470 - val_binary_accuracy: 0.7603\n",
      "Epoch 71/100\n",
      "7/7 [==============================] - 0s 24ms/step - loss: 0.0014 - binary_accuracy: 1.0000 - val_loss: 1.1885 - val_binary_accuracy: 0.7620\n",
      "Epoch 72/100\n",
      "7/7 [==============================] - 0s 28ms/step - loss: 7.3568e-04 - binary_accuracy: 1.0000 - val_loss: 1.2085 - val_binary_accuracy: 0.7587\n",
      "Epoch 73/100\n",
      "7/7 [==============================] - 0s 25ms/step - loss: 6.2114e-04 - binary_accuracy: 1.0000 - val_loss: 1.2038 - val_binary_accuracy: 0.7587\n",
      "Epoch 74/100\n",
      "7/7 [==============================] - 0s 23ms/step - loss: 7.0790e-04 - binary_accuracy: 1.0000 - val_loss: 1.1985 - val_binary_accuracy: 0.7521\n",
      "Epoch 75/100\n",
      "7/7 [==============================] - 0s 23ms/step - loss: 9.2897e-04 - binary_accuracy: 1.0000 - val_loss: 1.2036 - val_binary_accuracy: 0.7570\n",
      "Epoch 76/100\n",
      "7/7 [==============================] - 0s 26ms/step - loss: 6.8683e-04 - binary_accuracy: 1.0000 - val_loss: 1.2125 - val_binary_accuracy: 0.7570\n",
      "Epoch 77/100\n",
      "7/7 [==============================] - 0s 29ms/step - loss: 5.0427e-04 - binary_accuracy: 1.0000 - val_loss: 1.2151 - val_binary_accuracy: 0.7570\n",
      "Epoch 78/100\n",
      "7/7 [==============================] - 0s 22ms/step - loss: 8.4672e-04 - binary_accuracy: 1.0000 - val_loss: 1.2063 - val_binary_accuracy: 0.7554\n",
      "Epoch 79/100\n",
      "7/7 [==============================] - 0s 23ms/step - loss: 5.8739e-04 - binary_accuracy: 1.0000 - val_loss: 1.2042 - val_binary_accuracy: 0.7554\n",
      "Epoch 80/100\n",
      "7/7 [==============================] - 0s 21ms/step - loss: 0.0010 - binary_accuracy: 1.0000 - val_loss: 1.2162 - val_binary_accuracy: 0.7537\n",
      "Epoch 81/100\n",
      "7/7 [==============================] - 0s 28ms/step - loss: 7.6921e-04 - binary_accuracy: 1.0000 - val_loss: 1.2309 - val_binary_accuracy: 0.7587\n",
      "Epoch 82/100\n",
      "7/7 [==============================] - 0s 23ms/step - loss: 6.7499e-04 - binary_accuracy: 1.0000 - val_loss: 1.2512 - val_binary_accuracy: 0.7554\n",
      "Epoch 83/100\n",
      "7/7 [==============================] - 0s 24ms/step - loss: 7.2673e-04 - binary_accuracy: 1.0000 - val_loss: 1.2624 - val_binary_accuracy: 0.7554\n",
      "Epoch 84/100\n",
      "7/7 [==============================] - 0s 24ms/step - loss: 5.4399e-04 - binary_accuracy: 1.0000 - val_loss: 1.2650 - val_binary_accuracy: 0.7554\n",
      "Epoch 85/100\n",
      "7/7 [==============================] - 0s 25ms/step - loss: 6.2723e-04 - binary_accuracy: 1.0000 - val_loss: 1.2547 - val_binary_accuracy: 0.7554\n",
      "Epoch 86/100\n",
      "7/7 [==============================] - 0s 24ms/step - loss: 5.0429e-04 - binary_accuracy: 1.0000 - val_loss: 1.2482 - val_binary_accuracy: 0.7537\n",
      "Epoch 87/100\n",
      "7/7 [==============================] - 0s 23ms/step - loss: 5.7084e-04 - binary_accuracy: 1.0000 - val_loss: 1.2528 - val_binary_accuracy: 0.7554\n",
      "Epoch 88/100\n",
      "7/7 [==============================] - 0s 25ms/step - loss: 3.6790e-04 - binary_accuracy: 1.0000 - val_loss: 1.2600 - val_binary_accuracy: 0.7554\n",
      "Epoch 89/100\n",
      "7/7 [==============================] - 0s 24ms/step - loss: 4.2275e-04 - binary_accuracy: 1.0000 - val_loss: 1.2685 - val_binary_accuracy: 0.7554\n",
      "Epoch 90/100\n",
      "7/7 [==============================] - 0s 24ms/step - loss: 3.8468e-04 - binary_accuracy: 1.0000 - val_loss: 1.2759 - val_binary_accuracy: 0.7537\n",
      "Epoch 91/100\n",
      "7/7 [==============================] - 0s 23ms/step - loss: 4.6318e-04 - binary_accuracy: 1.0000 - val_loss: 1.2789 - val_binary_accuracy: 0.7537\n",
      "Epoch 92/100\n",
      "7/7 [==============================] - 0s 21ms/step - loss: 4.8645e-04 - binary_accuracy: 1.0000 - val_loss: 1.2887 - val_binary_accuracy: 0.7537\n",
      "Epoch 93/100\n",
      "7/7 [==============================] - 0s 22ms/step - loss: 3.5872e-04 - binary_accuracy: 1.0000 - val_loss: 1.2987 - val_binary_accuracy: 0.7537\n",
      "Epoch 94/100\n",
      "7/7 [==============================] - 0s 23ms/step - loss: 2.8375e-04 - binary_accuracy: 1.0000 - val_loss: 1.3066 - val_binary_accuracy: 0.7570\n",
      "Epoch 95/100\n",
      "7/7 [==============================] - 0s 21ms/step - loss: 3.4596e-04 - binary_accuracy: 1.0000 - val_loss: 1.3079 - val_binary_accuracy: 0.7554\n",
      "Epoch 96/100\n",
      "7/7 [==============================] - 0s 22ms/step - loss: 2.7947e-04 - binary_accuracy: 1.0000 - val_loss: 1.3063 - val_binary_accuracy: 0.7554\n",
      "Epoch 97/100\n",
      "7/7 [==============================] - 0s 21ms/step - loss: 2.5323e-04 - binary_accuracy: 1.0000 - val_loss: 1.3068 - val_binary_accuracy: 0.7554\n",
      "Epoch 98/100\n",
      "7/7 [==============================] - 0s 22ms/step - loss: 2.3988e-04 - binary_accuracy: 1.0000 - val_loss: 1.3085 - val_binary_accuracy: 0.7537\n",
      "Epoch 99/100\n",
      "7/7 [==============================] - 0s 23ms/step - loss: 3.1233e-04 - binary_accuracy: 1.0000 - val_loss: 1.3128 - val_binary_accuracy: 0.7537\n",
      "Epoch 100/100\n",
      "7/7 [==============================] - 0s 25ms/step - loss: 4.4708e-04 - binary_accuracy: 1.0000 - val_loss: 1.3194 - val_binary_accuracy: 0.7537\n"
     ]
    }
   ],
   "source": [
    "train_size = 400\n",
    "X_train_, y_train_ = X_train[:train_size], y_train[:train_size]\n",
    "history = abstractor_model.fit(X_train_, y_train_, validation_data=(X_val, y_val),\n",
    "    verbose=1, epochs=100, batch_size=64)"
   ]
  },
  {
   "cell_type": "code",
   "execution_count": 11,
   "metadata": {},
   "outputs": [
    {
     "data": {
      "image/png": "[encoded data removed]",
      "text/plain": [
       "<Figure size 640x480 with 2 Axes>"
      ]
     },
     "metadata": {},
     "output_type": "display_data"
    }
   ],
   "source": [
    "utils.plot_history(history, ('loss', 'binary_accuracy'));"
   ]
  },
  {
   "cell_type": "code",
   "execution_count": 12,
   "metadata": {},
   "outputs": [
    {
     "name": "stdout",
     "output_type": "stream",
     "text": [
      "63/63 [==============================] - 0s 4ms/step - loss: 1.2440 - binary_accuracy: 0.7856\n"
     ]
    },
    {
     "data": {
      "text/plain": [
       "[1.2439626455307007, 0.7856079339981079]"
      ]
     },
     "execution_count": 12,
     "metadata": {},
     "output_type": "execute_result"
    }
   ],
   "source": [
    "abstractor_model.evaluate(X_train, y_train)"
   ]
  },
  {
   "cell_type": "code",
   "execution_count": 13,
   "metadata": {},
   "outputs": [
    {
     "name": "stdout",
     "output_type": "stream",
     "text": [
      "45/45 [==============================] - 0s 4ms/step - loss: 1.5928 - binary_accuracy: 0.7174\n"
     ]
    },
    {
     "data": {
      "text/plain": [
       "[1.5927987098693848, 0.7174220681190491]"
      ]
     },
     "execution_count": 13,
     "metadata": {},
     "output_type": "execute_result"
    }
   ],
   "source": [
    "abstractor_model.evaluate(X_test, y_test)"
   ]
  },
  {
   "cell_type": "markdown",
   "metadata": {},
   "source": [
    "## MLP"
   ]
  },
  {
   "cell_type": "code",
   "execution_count": 14,
   "metadata": {},
   "outputs": [],
   "source": [
    "from tensorflow.keras import layers"
   ]
  },
  {
   "cell_type": "code",
   "execution_count": 15,
   "metadata": {},
   "outputs": [
    {
     "name": "stdout",
     "output_type": "stream",
     "text": [
      "Model: \"model\"\n",
      "_________________________________________________________________\n",
      " Layer (type)                Output Shape              Param #   \n",
      "=================================================================\n",
      " input_2 (InputLayer)        [(None, 2, 32)]           0         \n",
      "                                                                 \n",
      " flatten_1 (Flatten)         (None, 64)                0         \n",
      "                                                                 \n",
      " hidden_layer1 (Dense)       (None, 32)                2080      \n",
      "                                                                 \n",
      " hidden_layer2 (Dense)       (None, 32)                1056      \n",
      "                                                                 \n",
      " final_layer (Dense)         (None, 1)                 33        \n",
      "                                                                 \n",
      "=================================================================\n",
      "Total params: 3,169\n",
      "Trainable params: 3,169\n",
      "Non-trainable params: 0\n",
      "_________________________________________________________________\n",
      "None\n"
     ]
    }
   ],
   "source": [
    "embedding_dim = 64\n",
    "mlp_kwargs = dict(embedding_dim=embedding_dim, h1=32, h2=32)\n",
    "\n",
    "class MLPModel(tf.keras.Model):\n",
    "    def __init__(self, embedding_dim, h1, h2, name=None):\n",
    "        super().__init__(name=name)\n",
    "        self.flatten = layers.Flatten()\n",
    "        self.hidden_dense1 = layers.Dense(h1, activation='relu', name='hidden_layer1')\n",
    "        self.hidden_dense2 = layers.Dense(h2, activation='relu', name='hidden_layer2')\n",
    "        self.final_layer = layers.Dense(1, activation='sigmoid', name='final_layer')\n",
    "\n",
    "    def call(self, inputs):\n",
    "        # x = self.embedder(inputs)\n",
    "        x = inputs\n",
    "        x = self.flatten(x)\n",
    "        x = self.hidden_dense1(x)\n",
    "        x = self.hidden_dense2(x)\n",
    "        x = self.final_layer(x)\n",
    "\n",
    "        return x\n",
    "\n",
    "    def print_summary(self, input_shape):\n",
    "        inputs = layers.Input(input_shape)\n",
    "        outputs = self.call(inputs)\n",
    "        print(tf.keras.Model(inputs, outputs).summary())\n",
    "\n",
    "loss = tf.keras.losses.SparseCategoricalCrossentropy(from_logits=True, name='binary_crossentropy')\n",
    "create_opt = lambda : tf.keras.optimizers.Adam(learning_rate=0.001)\n",
    "\n",
    "mlp_model = MLPModel(**mlp_kwargs, name='mlp')\n",
    "mlp_model.compile(loss='binary_crossentropy', optimizer=create_opt(), metrics=['binary_accuracy']);\n",
    "mlp_model(X_train[:32]);\n",
    "mlp_model.print_summary(X.shape[1:]);"
   ]
  },
  {
   "cell_type": "code",
   "execution_count": 16,
   "metadata": {},
   "outputs": [
    {
     "name": "stdout",
     "output_type": "stream",
     "text": [
      "Epoch 1/100\n",
      "7/7 [==============================] - 1s 58ms/step - loss: 0.7557 - binary_accuracy: 0.5175 - val_loss: 0.7506 - val_binary_accuracy: 0.4959\n",
      "Epoch 2/100\n",
      "7/7 [==============================] - 0s 12ms/step - loss: 0.6912 - binary_accuracy: 0.5725 - val_loss: 0.7209 - val_binary_accuracy: 0.5455\n",
      "Epoch 3/100\n",
      "7/7 [==============================] - 0s 13ms/step - loss: 0.6552 - binary_accuracy: 0.5975 - val_loss: 0.7031 - val_binary_accuracy: 0.5570\n",
      "Epoch 4/100\n",
      "7/7 [==============================] - 0s 12ms/step - loss: 0.6275 - binary_accuracy: 0.6425 - val_loss: 0.6881 - val_binary_accuracy: 0.5653\n",
      "Epoch 5/100\n",
      "7/7 [==============================] - 0s 12ms/step - loss: 0.6029 - binary_accuracy: 0.6900 - val_loss: 0.6747 - val_binary_accuracy: 0.5802\n",
      "Epoch 6/100\n",
      "7/7 [==============================] - 0s 13ms/step - loss: 0.5798 - binary_accuracy: 0.7350 - val_loss: 0.6633 - val_binary_accuracy: 0.5950\n",
      "Epoch 7/100\n",
      "7/7 [==============================] - 0s 12ms/step - loss: 0.5584 - binary_accuracy: 0.7550 - val_loss: 0.6524 - val_binary_accuracy: 0.6116\n",
      "Epoch 8/100\n",
      "7/7 [==============================] - 0s 12ms/step - loss: 0.5385 - binary_accuracy: 0.7700 - val_loss: 0.6420 - val_binary_accuracy: 0.6215\n",
      "Epoch 9/100\n",
      "7/7 [==============================] - 0s 19ms/step - loss: 0.5193 - binary_accuracy: 0.7925 - val_loss: 0.6317 - val_binary_accuracy: 0.6331\n",
      "Epoch 10/100\n",
      "7/7 [==============================] - 0s 13ms/step - loss: 0.5010 - binary_accuracy: 0.8050 - val_loss: 0.6226 - val_binary_accuracy: 0.6430\n",
      "Epoch 11/100\n",
      "7/7 [==============================] - 0s 12ms/step - loss: 0.4818 - binary_accuracy: 0.8200 - val_loss: 0.6145 - val_binary_accuracy: 0.6463\n",
      "Epoch 12/100\n",
      "7/7 [==============================] - 0s 12ms/step - loss: 0.4632 - binary_accuracy: 0.8400 - val_loss: 0.6062 - val_binary_accuracy: 0.6612\n",
      "Epoch 13/100\n",
      "7/7 [==============================] - 0s 12ms/step - loss: 0.4451 - binary_accuracy: 0.8550 - val_loss: 0.5983 - val_binary_accuracy: 0.6612\n",
      "Epoch 14/100\n",
      "7/7 [==============================] - 0s 12ms/step - loss: 0.4274 - binary_accuracy: 0.8575 - val_loss: 0.5902 - val_binary_accuracy: 0.6744\n",
      "Epoch 15/100\n",
      "7/7 [==============================] - 0s 12ms/step - loss: 0.4091 - binary_accuracy: 0.8675 - val_loss: 0.5833 - val_binary_accuracy: 0.6777\n",
      "Epoch 16/100\n",
      "7/7 [==============================] - 0s 12ms/step - loss: 0.3923 - binary_accuracy: 0.8700 - val_loss: 0.5763 - val_binary_accuracy: 0.6843\n",
      "Epoch 17/100\n",
      "7/7 [==============================] - 0s 12ms/step - loss: 0.3753 - binary_accuracy: 0.8800 - val_loss: 0.5703 - val_binary_accuracy: 0.6942\n",
      "Epoch 18/100\n",
      "7/7 [==============================] - 0s 11ms/step - loss: 0.3589 - binary_accuracy: 0.8775 - val_loss: 0.5666 - val_binary_accuracy: 0.7008\n",
      "Epoch 19/100\n",
      "7/7 [==============================] - 0s 12ms/step - loss: 0.3431 - binary_accuracy: 0.8750 - val_loss: 0.5621 - val_binary_accuracy: 0.7025\n",
      "Epoch 20/100\n",
      "7/7 [==============================] - 0s 11ms/step - loss: 0.3279 - binary_accuracy: 0.8800 - val_loss: 0.5571 - val_binary_accuracy: 0.7140\n",
      "Epoch 21/100\n",
      "7/7 [==============================] - 0s 15ms/step - loss: 0.3133 - binary_accuracy: 0.8900 - val_loss: 0.5539 - val_binary_accuracy: 0.7256\n",
      "Epoch 22/100\n",
      "7/7 [==============================] - 0s 14ms/step - loss: 0.2994 - binary_accuracy: 0.8950 - val_loss: 0.5512 - val_binary_accuracy: 0.7256\n",
      "Epoch 23/100\n",
      "7/7 [==============================] - 0s 15ms/step - loss: 0.2857 - binary_accuracy: 0.9000 - val_loss: 0.5483 - val_binary_accuracy: 0.7355\n",
      "Epoch 24/100\n",
      "7/7 [==============================] - 0s 13ms/step - loss: 0.2725 - binary_accuracy: 0.9050 - val_loss: 0.5445 - val_binary_accuracy: 0.7339\n",
      "Epoch 25/100\n",
      "7/7 [==============================] - 0s 13ms/step - loss: 0.2603 - binary_accuracy: 0.9075 - val_loss: 0.5427 - val_binary_accuracy: 0.7322\n",
      "Epoch 26/100\n",
      "7/7 [==============================] - 0s 15ms/step - loss: 0.2477 - binary_accuracy: 0.9175 - val_loss: 0.5410 - val_binary_accuracy: 0.7372\n",
      "Epoch 27/100\n",
      "7/7 [==============================] - 0s 14ms/step - loss: 0.2360 - binary_accuracy: 0.9275 - val_loss: 0.5399 - val_binary_accuracy: 0.7421\n",
      "Epoch 28/100\n",
      "7/7 [==============================] - 0s 16ms/step - loss: 0.2247 - binary_accuracy: 0.9425 - val_loss: 0.5396 - val_binary_accuracy: 0.7471\n",
      "Epoch 29/100\n",
      "7/7 [==============================] - 0s 16ms/step - loss: 0.2142 - binary_accuracy: 0.9475 - val_loss: 0.5380 - val_binary_accuracy: 0.7554\n",
      "Epoch 30/100\n",
      "7/7 [==============================] - 0s 13ms/step - loss: 0.2037 - binary_accuracy: 0.9550 - val_loss: 0.5377 - val_binary_accuracy: 0.7537\n",
      "Epoch 31/100\n",
      "7/7 [==============================] - 0s 12ms/step - loss: 0.1940 - binary_accuracy: 0.9575 - val_loss: 0.5388 - val_binary_accuracy: 0.7570\n",
      "Epoch 32/100\n",
      "7/7 [==============================] - 0s 14ms/step - loss: 0.1847 - binary_accuracy: 0.9575 - val_loss: 0.5412 - val_binary_accuracy: 0.7570\n",
      "Epoch 33/100\n",
      "7/7 [==============================] - 0s 15ms/step - loss: 0.1758 - binary_accuracy: 0.9625 - val_loss: 0.5432 - val_binary_accuracy: 0.7603\n",
      "Epoch 34/100\n",
      "7/7 [==============================] - 0s 13ms/step - loss: 0.1678 - binary_accuracy: 0.9625 - val_loss: 0.5404 - val_binary_accuracy: 0.7636\n",
      "Epoch 35/100\n",
      "7/7 [==============================] - 0s 13ms/step - loss: 0.1592 - binary_accuracy: 0.9650 - val_loss: 0.5403 - val_binary_accuracy: 0.7620\n",
      "Epoch 36/100\n",
      "7/7 [==============================] - 0s 13ms/step - loss: 0.1513 - binary_accuracy: 0.9650 - val_loss: 0.5431 - val_binary_accuracy: 0.7669\n",
      "Epoch 37/100\n",
      "7/7 [==============================] - 0s 14ms/step - loss: 0.1440 - binary_accuracy: 0.9700 - val_loss: 0.5433 - val_binary_accuracy: 0.7669\n",
      "Epoch 38/100\n",
      "7/7 [==============================] - 0s 12ms/step - loss: 0.1367 - binary_accuracy: 0.9725 - val_loss: 0.5443 - val_binary_accuracy: 0.7686\n",
      "Epoch 39/100\n",
      "7/7 [==============================] - 0s 13ms/step - loss: 0.1293 - binary_accuracy: 0.9725 - val_loss: 0.5464 - val_binary_accuracy: 0.7653\n",
      "Epoch 40/100\n",
      "7/7 [==============================] - 0s 12ms/step - loss: 0.1229 - binary_accuracy: 0.9775 - val_loss: 0.5463 - val_binary_accuracy: 0.7669\n",
      "Epoch 41/100\n",
      "7/7 [==============================] - 0s 12ms/step - loss: 0.1167 - binary_accuracy: 0.9800 - val_loss: 0.5494 - val_binary_accuracy: 0.7669\n",
      "Epoch 42/100\n",
      "7/7 [==============================] - 0s 12ms/step - loss: 0.1110 - binary_accuracy: 0.9850 - val_loss: 0.5519 - val_binary_accuracy: 0.7702\n",
      "Epoch 43/100\n",
      "7/7 [==============================] - 0s 13ms/step - loss: 0.1043 - binary_accuracy: 0.9875 - val_loss: 0.5518 - val_binary_accuracy: 0.7719\n",
      "Epoch 44/100\n",
      "7/7 [==============================] - 0s 13ms/step - loss: 0.0993 - binary_accuracy: 0.9875 - val_loss: 0.5549 - val_binary_accuracy: 0.7719\n",
      "Epoch 45/100\n",
      "7/7 [==============================] - 0s 12ms/step - loss: 0.0943 - binary_accuracy: 0.9875 - val_loss: 0.5598 - val_binary_accuracy: 0.7752\n",
      "Epoch 46/100\n",
      "7/7 [==============================] - 0s 12ms/step - loss: 0.0888 - binary_accuracy: 0.9875 - val_loss: 0.5643 - val_binary_accuracy: 0.7769\n",
      "Epoch 47/100\n",
      "7/7 [==============================] - 0s 12ms/step - loss: 0.0840 - binary_accuracy: 0.9875 - val_loss: 0.5680 - val_binary_accuracy: 0.7785\n",
      "Epoch 48/100\n",
      "7/7 [==============================] - 0s 12ms/step - loss: 0.0796 - binary_accuracy: 0.9950 - val_loss: 0.5719 - val_binary_accuracy: 0.7785\n",
      "Epoch 49/100\n",
      "7/7 [==============================] - 0s 11ms/step - loss: 0.0755 - binary_accuracy: 0.9950 - val_loss: 0.5748 - val_binary_accuracy: 0.7752\n",
      "Epoch 50/100\n",
      "7/7 [==============================] - 0s 12ms/step - loss: 0.0717 - binary_accuracy: 0.9950 - val_loss: 0.5772 - val_binary_accuracy: 0.7785\n",
      "Epoch 51/100\n",
      "7/7 [==============================] - 0s 12ms/step - loss: 0.0674 - binary_accuracy: 0.9975 - val_loss: 0.5809 - val_binary_accuracy: 0.7835\n",
      "Epoch 52/100\n",
      "7/7 [==============================] - 0s 13ms/step - loss: 0.0635 - binary_accuracy: 1.0000 - val_loss: 0.5837 - val_binary_accuracy: 0.7851\n",
      "Epoch 53/100\n",
      "7/7 [==============================] - 0s 12ms/step - loss: 0.0611 - binary_accuracy: 1.0000 - val_loss: 0.5869 - val_binary_accuracy: 0.7835\n",
      "Epoch 54/100\n",
      "7/7 [==============================] - 0s 16ms/step - loss: 0.0575 - binary_accuracy: 1.0000 - val_loss: 0.5903 - val_binary_accuracy: 0.7835\n",
      "Epoch 55/100\n",
      "7/7 [==============================] - 0s 16ms/step - loss: 0.0545 - binary_accuracy: 1.0000 - val_loss: 0.5913 - val_binary_accuracy: 0.7884\n",
      "Epoch 56/100\n",
      "7/7 [==============================] - 0s 16ms/step - loss: 0.0511 - binary_accuracy: 1.0000 - val_loss: 0.5960 - val_binary_accuracy: 0.7884\n",
      "Epoch 57/100\n",
      "7/7 [==============================] - 0s 15ms/step - loss: 0.0485 - binary_accuracy: 1.0000 - val_loss: 0.6001 - val_binary_accuracy: 0.7884\n",
      "Epoch 58/100\n",
      "7/7 [==============================] - 0s 15ms/step - loss: 0.0457 - binary_accuracy: 1.0000 - val_loss: 0.6045 - val_binary_accuracy: 0.7884\n",
      "Epoch 59/100\n",
      "7/7 [==============================] - 0s 16ms/step - loss: 0.0433 - binary_accuracy: 1.0000 - val_loss: 0.6077 - val_binary_accuracy: 0.7884\n",
      "Epoch 60/100\n",
      "7/7 [==============================] - 0s 14ms/step - loss: 0.0411 - binary_accuracy: 1.0000 - val_loss: 0.6110 - val_binary_accuracy: 0.7901\n",
      "Epoch 61/100\n",
      "7/7 [==============================] - 0s 24ms/step - loss: 0.0390 - binary_accuracy: 1.0000 - val_loss: 0.6154 - val_binary_accuracy: 0.7917\n",
      "Epoch 62/100\n",
      "7/7 [==============================] - 0s 13ms/step - loss: 0.0371 - binary_accuracy: 1.0000 - val_loss: 0.6206 - val_binary_accuracy: 0.7901\n",
      "Epoch 63/100\n",
      "7/7 [==============================] - 0s 13ms/step - loss: 0.0353 - binary_accuracy: 1.0000 - val_loss: 0.6236 - val_binary_accuracy: 0.7901\n",
      "Epoch 64/100\n",
      "7/7 [==============================] - 0s 15ms/step - loss: 0.0335 - binary_accuracy: 1.0000 - val_loss: 0.6254 - val_binary_accuracy: 0.7917\n",
      "Epoch 65/100\n",
      "7/7 [==============================] - 0s 13ms/step - loss: 0.0318 - binary_accuracy: 1.0000 - val_loss: 0.6278 - val_binary_accuracy: 0.7950\n",
      "Epoch 66/100\n",
      "7/7 [==============================] - 0s 12ms/step - loss: 0.0304 - binary_accuracy: 1.0000 - val_loss: 0.6310 - val_binary_accuracy: 0.7934\n",
      "Epoch 67/100\n",
      "7/7 [==============================] - 0s 12ms/step - loss: 0.0288 - binary_accuracy: 1.0000 - val_loss: 0.6340 - val_binary_accuracy: 0.7934\n",
      "Epoch 68/100\n",
      "7/7 [==============================] - 0s 16ms/step - loss: 0.0274 - binary_accuracy: 1.0000 - val_loss: 0.6403 - val_binary_accuracy: 0.7868\n",
      "Epoch 69/100\n",
      "7/7 [==============================] - 0s 13ms/step - loss: 0.0260 - binary_accuracy: 1.0000 - val_loss: 0.6449 - val_binary_accuracy: 0.7868\n",
      "Epoch 70/100\n",
      "7/7 [==============================] - 0s 12ms/step - loss: 0.0248 - binary_accuracy: 1.0000 - val_loss: 0.6468 - val_binary_accuracy: 0.7851\n",
      "Epoch 71/100\n",
      "7/7 [==============================] - 0s 12ms/step - loss: 0.0236 - binary_accuracy: 1.0000 - val_loss: 0.6492 - val_binary_accuracy: 0.7868\n",
      "Epoch 72/100\n",
      "7/7 [==============================] - 0s 17ms/step - loss: 0.0226 - binary_accuracy: 1.0000 - val_loss: 0.6509 - val_binary_accuracy: 0.7868\n",
      "Epoch 73/100\n",
      "7/7 [==============================] - 0s 15ms/step - loss: 0.0216 - binary_accuracy: 1.0000 - val_loss: 0.6541 - val_binary_accuracy: 0.7851\n",
      "Epoch 74/100\n",
      "7/7 [==============================] - 0s 17ms/step - loss: 0.0205 - binary_accuracy: 1.0000 - val_loss: 0.6564 - val_binary_accuracy: 0.7884\n",
      "Epoch 75/100\n",
      "7/7 [==============================] - 0s 14ms/step - loss: 0.0197 - binary_accuracy: 1.0000 - val_loss: 0.6596 - val_binary_accuracy: 0.7868\n",
      "Epoch 76/100\n",
      "7/7 [==============================] - 0s 16ms/step - loss: 0.0189 - binary_accuracy: 1.0000 - val_loss: 0.6637 - val_binary_accuracy: 0.7884\n",
      "Epoch 77/100\n",
      "7/7 [==============================] - 0s 16ms/step - loss: 0.0181 - binary_accuracy: 1.0000 - val_loss: 0.6669 - val_binary_accuracy: 0.7868\n",
      "Epoch 78/100\n",
      "7/7 [==============================] - 0s 14ms/step - loss: 0.0173 - binary_accuracy: 1.0000 - val_loss: 0.6706 - val_binary_accuracy: 0.7884\n",
      "Epoch 79/100\n",
      "7/7 [==============================] - 0s 13ms/step - loss: 0.0165 - binary_accuracy: 1.0000 - val_loss: 0.6743 - val_binary_accuracy: 0.7884\n",
      "Epoch 80/100\n",
      "7/7 [==============================] - 0s 15ms/step - loss: 0.0158 - binary_accuracy: 1.0000 - val_loss: 0.6781 - val_binary_accuracy: 0.7901\n",
      "Epoch 81/100\n",
      "7/7 [==============================] - 0s 14ms/step - loss: 0.0152 - binary_accuracy: 1.0000 - val_loss: 0.6817 - val_binary_accuracy: 0.7884\n",
      "Epoch 82/100\n",
      "7/7 [==============================] - 0s 12ms/step - loss: 0.0146 - binary_accuracy: 1.0000 - val_loss: 0.6847 - val_binary_accuracy: 0.7901\n",
      "Epoch 83/100\n",
      "7/7 [==============================] - 0s 14ms/step - loss: 0.0140 - binary_accuracy: 1.0000 - val_loss: 0.6868 - val_binary_accuracy: 0.7901\n",
      "Epoch 84/100\n",
      "7/7 [==============================] - 0s 12ms/step - loss: 0.0134 - binary_accuracy: 1.0000 - val_loss: 0.6887 - val_binary_accuracy: 0.7901\n",
      "Epoch 85/100\n",
      "7/7 [==============================] - 0s 13ms/step - loss: 0.0129 - binary_accuracy: 1.0000 - val_loss: 0.6912 - val_binary_accuracy: 0.7950\n",
      "Epoch 86/100\n",
      "7/7 [==============================] - 0s 12ms/step - loss: 0.0124 - binary_accuracy: 1.0000 - val_loss: 0.6944 - val_binary_accuracy: 0.7950\n",
      "Epoch 87/100\n",
      "7/7 [==============================] - 0s 13ms/step - loss: 0.0120 - binary_accuracy: 1.0000 - val_loss: 0.6963 - val_binary_accuracy: 0.7934\n",
      "Epoch 88/100\n",
      "7/7 [==============================] - 0s 13ms/step - loss: 0.0115 - binary_accuracy: 1.0000 - val_loss: 0.6982 - val_binary_accuracy: 0.7934\n",
      "Epoch 89/100\n",
      "7/7 [==============================] - 0s 13ms/step - loss: 0.0111 - binary_accuracy: 1.0000 - val_loss: 0.6992 - val_binary_accuracy: 0.7934\n",
      "Epoch 90/100\n",
      "7/7 [==============================] - 0s 13ms/step - loss: 0.0106 - binary_accuracy: 1.0000 - val_loss: 0.7012 - val_binary_accuracy: 0.7934\n",
      "Epoch 91/100\n",
      "7/7 [==============================] - 0s 14ms/step - loss: 0.0103 - binary_accuracy: 1.0000 - val_loss: 0.7014 - val_binary_accuracy: 0.7917\n",
      "Epoch 92/100\n",
      "7/7 [==============================] - 0s 12ms/step - loss: 0.0099 - binary_accuracy: 1.0000 - val_loss: 0.7034 - val_binary_accuracy: 0.7917\n",
      "Epoch 93/100\n",
      "7/7 [==============================] - 0s 12ms/step - loss: 0.0096 - binary_accuracy: 1.0000 - val_loss: 0.7065 - val_binary_accuracy: 0.7917\n",
      "Epoch 94/100\n",
      "7/7 [==============================] - 0s 12ms/step - loss: 0.0093 - binary_accuracy: 1.0000 - val_loss: 0.7104 - val_binary_accuracy: 0.7917\n",
      "Epoch 95/100\n",
      "7/7 [==============================] - 0s 11ms/step - loss: 0.0089 - binary_accuracy: 1.0000 - val_loss: 0.7128 - val_binary_accuracy: 0.7934\n",
      "Epoch 96/100\n",
      "7/7 [==============================] - 0s 12ms/step - loss: 0.0087 - binary_accuracy: 1.0000 - val_loss: 0.7154 - val_binary_accuracy: 0.7934\n",
      "Epoch 97/100\n",
      "7/7 [==============================] - 0s 12ms/step - loss: 0.0084 - binary_accuracy: 1.0000 - val_loss: 0.7178 - val_binary_accuracy: 0.7934\n",
      "Epoch 98/100\n",
      "7/7 [==============================] - 0s 12ms/step - loss: 0.0081 - binary_accuracy: 1.0000 - val_loss: 0.7202 - val_binary_accuracy: 0.7934\n",
      "Epoch 99/100\n",
      "7/7 [==============================] - 0s 12ms/step - loss: 0.0078 - binary_accuracy: 1.0000 - val_loss: 0.7227 - val_binary_accuracy: 0.7934\n",
      "Epoch 100/100\n",
      "7/7 [==============================] - 0s 11ms/step - loss: 0.0076 - binary_accuracy: 1.0000 - val_loss: 0.7241 - val_binary_accuracy: 0.7934\n"
     ]
    }
   ],
   "source": [
    "train_size = 400\n",
    "X_train_, y_train_ = X_train[:train_size], y_train[:train_size]\n",
    "history = mlp_model.fit(X_train_, y_train_, validation_data=(X_val, y_val),\n",
    "    verbose=1, epochs=100, batch_size=64)"
   ]
  },
  {
   "cell_type": "code",
   "execution_count": 17,
   "metadata": {},
   "outputs": [
    {
     "data": {
      "image/png": "[encoded data removed]",
      "text/plain": [
       "<Figure size 640x480 with 2 Axes>"
      ]
     },
     "metadata": {},
     "output_type": "display_data"
    }
   ],
   "source": [
    "utils.plot_history(history, ('loss', 'binary_accuracy'));"
   ]
  },
  {
   "cell_type": "code",
   "execution_count": 18,
   "metadata": {},
   "outputs": [
    {
     "name": "stdout",
     "output_type": "stream",
     "text": [
      "63/63 [==============================] - 0s 3ms/step - loss: 0.6047 - binary_accuracy: 0.8228\n"
     ]
    },
    {
     "data": {
      "text/plain": [
       "[0.6047059297561646, 0.8228287696838379]"
      ]
     },
     "execution_count": 18,
     "metadata": {},
     "output_type": "execute_result"
    }
   ],
   "source": [
    "mlp_model.evaluate(X_train, y_train)"
   ]
  },
  {
   "cell_type": "code",
   "execution_count": 19,
   "metadata": {},
   "outputs": [
    {
     "name": "stdout",
     "output_type": "stream",
     "text": [
      "45/45 [==============================] - 0s 2ms/step - loss: 0.7765 - binary_accuracy: 0.7677\n"
     ]
    },
    {
     "data": {
      "text/plain": [
       "[0.7765435576438904, 0.7677053809165955]"
      ]
     },
     "execution_count": 19,
     "metadata": {},
     "output_type": "execute_result"
    }
   ],
   "source": [
    "mlp_model.evaluate(X_test, y_test)"
   ]
  },
  {
   "cell_type": "markdown",
   "metadata": {},
   "source": [
    "## PrediNet"
   ]
  },
  {
   "cell_type": "code",
   "execution_count": 20,
   "metadata": {},
   "outputs": [],
   "source": [
    "from tensorflow.keras import layers\n",
    "from baseline_models.predinet import PrediNet"
   ]
  },
  {
   "cell_type": "code",
   "execution_count": 21,
   "metadata": {},
   "outputs": [
    {
     "name": "stdout",
     "output_type": "stream",
     "text": [
      "Model: \"model_1\"\n",
      "_________________________________________________________________\n",
      " Layer (type)                Output Shape              Param #   \n",
      "=================================================================\n",
      " input_3 (InputLayer)        [(None, 2, 32)]           0         \n",
      "                                                                 \n",
      " predi_net (PrediNet)        (None, 64)                2688      \n",
      "                                                                 \n",
      " flatten_3 (Flatten)         (None, 64)                0         \n",
      "                                                                 \n",
      " hidden_layer (Dense)        (None, 32)                2080      \n",
      "                                                                 \n",
      " final_layer (Dense)         (None, 1)                 33        \n",
      "                                                                 \n",
      "=================================================================\n",
      "Total params: 4,801\n",
      "Trainable params: 4,801\n",
      "Non-trainable params: 0\n",
      "_________________________________________________________________\n",
      "None\n"
     ]
    }
   ],
   "source": [
    "embedding_dim = 64\n",
    "predinet_kwargs = dict(embedding_dim=embedding_dim, predinet_kwargs=dict(key_dim=4, n_heads=4, n_relations=16, add_temp_tag=False))\n",
    "\n",
    "class PrediNetModel(tf.keras.Model):\n",
    "    def __init__(self, embedding_dim, predinet_kwargs, name=None):\n",
    "        super().__init__(name=name)\n",
    "        self.flatten = layers.Flatten()\n",
    "        self.predinet = PrediNet(**predinet_kwargs)\n",
    "        self.flatten = layers.Flatten()\n",
    "        self.hidden_dense = layers.Dense(32, activation='relu', name='hidden_layer')\n",
    "        self.final_layer = layers.Dense(1, activation='sigmoid', name='final_layer')\n",
    "\n",
    "    def call(self, inputs):\n",
    "        x = self.predinet(inputs)\n",
    "        x = self.flatten(x)\n",
    "        x = self.hidden_dense(x)\n",
    "        x = self.final_layer(x)\n",
    "        return x\n",
    "\n",
    "    def print_summary(self, input_shape):\n",
    "        inputs = layers.Input(input_shape)\n",
    "        outputs = self.call(inputs)\n",
    "        print(tf.keras.Model(inputs, outputs).summary())\n",
    "\n",
    "loss = tf.keras.losses.SparseCategoricalCrossentropy(from_logits=True, name='binary_crossentropy')\n",
    "create_opt = lambda : tf.keras.optimizers.Adam(learning_rate=0.001)\n",
    "\n",
    "predinet_model = PrediNetModel(**predinet_kwargs, name='predinet')\n",
    "predinet_model.compile(loss='binary_crossentropy', optimizer=create_opt(), metrics=['binary_accuracy']);\n",
    "predinet_model(X_train[:32]);\n",
    "predinet_model.print_summary(X.shape[1:]);"
   ]
  },
  {
   "cell_type": "code",
   "execution_count": 22,
   "metadata": {},
   "outputs": [
    {
     "name": "stdout",
     "output_type": "stream",
     "text": [
      "Epoch 1/100\n",
      "7/7 [==============================] - 3s 100ms/step - loss: 0.7998 - binary_accuracy: 0.4575 - val_loss: 0.7704 - val_binary_accuracy: 0.5058\n",
      "Epoch 2/100\n",
      "7/7 [==============================] - 0s 16ms/step - loss: 0.7271 - binary_accuracy: 0.5225 - val_loss: 0.7531 - val_binary_accuracy: 0.5124\n",
      "Epoch 3/100\n",
      "7/7 [==============================] - 0s 16ms/step - loss: 0.6833 - binary_accuracy: 0.5650 - val_loss: 0.7415 - val_binary_accuracy: 0.5174\n",
      "Epoch 4/100\n",
      "7/7 [==============================] - 0s 13ms/step - loss: 0.6483 - binary_accuracy: 0.6100 - val_loss: 0.7313 - val_binary_accuracy: 0.5174\n",
      "Epoch 5/100\n",
      "7/7 [==============================] - 0s 18ms/step - loss: 0.6201 - binary_accuracy: 0.6850 - val_loss: 0.7240 - val_binary_accuracy: 0.5289\n",
      "Epoch 6/100\n",
      "7/7 [==============================] - 0s 18ms/step - loss: 0.5960 - binary_accuracy: 0.7225 - val_loss: 0.7175 - val_binary_accuracy: 0.5339\n",
      "Epoch 7/100\n",
      "7/7 [==============================] - 0s 15ms/step - loss: 0.5736 - binary_accuracy: 0.7450 - val_loss: 0.7138 - val_binary_accuracy: 0.5372\n",
      "Epoch 8/100\n",
      "7/7 [==============================] - 0s 22ms/step - loss: 0.5536 - binary_accuracy: 0.7750 - val_loss: 0.7102 - val_binary_accuracy: 0.5504\n",
      "Epoch 9/100\n",
      "7/7 [==============================] - 0s 18ms/step - loss: 0.5339 - binary_accuracy: 0.7850 - val_loss: 0.7062 - val_binary_accuracy: 0.5603\n",
      "Epoch 10/100\n",
      "7/7 [==============================] - 0s 16ms/step - loss: 0.5150 - binary_accuracy: 0.8125 - val_loss: 0.7040 - val_binary_accuracy: 0.5587\n",
      "Epoch 11/100\n",
      "7/7 [==============================] - 0s 16ms/step - loss: 0.4961 - binary_accuracy: 0.8375 - val_loss: 0.7028 - val_binary_accuracy: 0.5636\n",
      "Epoch 12/100\n",
      "7/7 [==============================] - 0s 17ms/step - loss: 0.4774 - binary_accuracy: 0.8550 - val_loss: 0.7025 - val_binary_accuracy: 0.5653\n",
      "Epoch 13/100\n",
      "7/7 [==============================] - 0s 14ms/step - loss: 0.4578 - binary_accuracy: 0.8625 - val_loss: 0.7025 - val_binary_accuracy: 0.5719\n",
      "Epoch 14/100\n",
      "7/7 [==============================] - 0s 14ms/step - loss: 0.4387 - binary_accuracy: 0.8650 - val_loss: 0.7037 - val_binary_accuracy: 0.5785\n",
      "Epoch 15/100\n",
      "7/7 [==============================] - 0s 14ms/step - loss: 0.4196 - binary_accuracy: 0.8750 - val_loss: 0.7055 - val_binary_accuracy: 0.5884\n",
      "Epoch 16/100\n",
      "7/7 [==============================] - 0s 13ms/step - loss: 0.4003 - binary_accuracy: 0.8925 - val_loss: 0.7065 - val_binary_accuracy: 0.5851\n",
      "Epoch 17/100\n",
      "7/7 [==============================] - 0s 13ms/step - loss: 0.3808 - binary_accuracy: 0.9050 - val_loss: 0.7089 - val_binary_accuracy: 0.5901\n",
      "Epoch 18/100\n",
      "7/7 [==============================] - 0s 14ms/step - loss: 0.3618 - binary_accuracy: 0.9175 - val_loss: 0.7133 - val_binary_accuracy: 0.5967\n",
      "Epoch 19/100\n",
      "7/7 [==============================] - 0s 13ms/step - loss: 0.3433 - binary_accuracy: 0.9200 - val_loss: 0.7192 - val_binary_accuracy: 0.6083\n",
      "Epoch 20/100\n",
      "7/7 [==============================] - 0s 14ms/step - loss: 0.3258 - binary_accuracy: 0.9275 - val_loss: 0.7253 - val_binary_accuracy: 0.6132\n",
      "Epoch 21/100\n",
      "7/7 [==============================] - 0s 14ms/step - loss: 0.3083 - binary_accuracy: 0.9375 - val_loss: 0.7331 - val_binary_accuracy: 0.6165\n",
      "Epoch 22/100\n",
      "7/7 [==============================] - 0s 14ms/step - loss: 0.2917 - binary_accuracy: 0.9400 - val_loss: 0.7407 - val_binary_accuracy: 0.6198\n",
      "Epoch 23/100\n",
      "7/7 [==============================] - 0s 14ms/step - loss: 0.2758 - binary_accuracy: 0.9425 - val_loss: 0.7498 - val_binary_accuracy: 0.6132\n",
      "Epoch 24/100\n",
      "7/7 [==============================] - 0s 13ms/step - loss: 0.2589 - binary_accuracy: 0.9525 - val_loss: 0.7583 - val_binary_accuracy: 0.6132\n",
      "Epoch 25/100\n",
      "7/7 [==============================] - 0s 14ms/step - loss: 0.2439 - binary_accuracy: 0.9625 - val_loss: 0.7679 - val_binary_accuracy: 0.6165\n",
      "Epoch 26/100\n",
      "7/7 [==============================] - 0s 13ms/step - loss: 0.2293 - binary_accuracy: 0.9625 - val_loss: 0.7784 - val_binary_accuracy: 0.6099\n",
      "Epoch 27/100\n",
      "7/7 [==============================] - 0s 14ms/step - loss: 0.2147 - binary_accuracy: 0.9700 - val_loss: 0.7896 - val_binary_accuracy: 0.6165\n",
      "Epoch 28/100\n",
      "7/7 [==============================] - 0s 13ms/step - loss: 0.2008 - binary_accuracy: 0.9675 - val_loss: 0.8004 - val_binary_accuracy: 0.6198\n",
      "Epoch 29/100\n",
      "7/7 [==============================] - 0s 13ms/step - loss: 0.1879 - binary_accuracy: 0.9750 - val_loss: 0.8124 - val_binary_accuracy: 0.6198\n",
      "Epoch 30/100\n",
      "7/7 [==============================] - 0s 12ms/step - loss: 0.1760 - binary_accuracy: 0.9775 - val_loss: 0.8250 - val_binary_accuracy: 0.6248\n",
      "Epoch 31/100\n",
      "7/7 [==============================] - 0s 13ms/step - loss: 0.1645 - binary_accuracy: 0.9775 - val_loss: 0.8381 - val_binary_accuracy: 0.6231\n",
      "Epoch 32/100\n",
      "7/7 [==============================] - 0s 13ms/step - loss: 0.1543 - binary_accuracy: 0.9800 - val_loss: 0.8520 - val_binary_accuracy: 0.6264\n",
      "Epoch 33/100\n",
      "7/7 [==============================] - 0s 14ms/step - loss: 0.1440 - binary_accuracy: 0.9800 - val_loss: 0.8668 - val_binary_accuracy: 0.6298\n",
      "Epoch 34/100\n",
      "7/7 [==============================] - 0s 17ms/step - loss: 0.1350 - binary_accuracy: 0.9800 - val_loss: 0.8812 - val_binary_accuracy: 0.6314\n",
      "Epoch 35/100\n",
      "7/7 [==============================] - 0s 16ms/step - loss: 0.1264 - binary_accuracy: 0.9850 - val_loss: 0.8952 - val_binary_accuracy: 0.6331\n",
      "Epoch 36/100\n",
      "7/7 [==============================] - 0s 36ms/step - loss: 0.1180 - binary_accuracy: 0.9900 - val_loss: 0.9106 - val_binary_accuracy: 0.6331\n",
      "Epoch 37/100\n",
      "7/7 [==============================] - 0s 17ms/step - loss: 0.1100 - binary_accuracy: 0.9900 - val_loss: 0.9262 - val_binary_accuracy: 0.6364\n",
      "Epoch 38/100\n",
      "7/7 [==============================] - 0s 14ms/step - loss: 0.1024 - binary_accuracy: 0.9925 - val_loss: 0.9397 - val_binary_accuracy: 0.6331\n",
      "Epoch 39/100\n",
      "7/7 [==============================] - 0s 16ms/step - loss: 0.0953 - binary_accuracy: 0.9950 - val_loss: 0.9547 - val_binary_accuracy: 0.6264\n",
      "Epoch 40/100\n",
      "7/7 [==============================] - 0s 17ms/step - loss: 0.0888 - binary_accuracy: 0.9950 - val_loss: 0.9696 - val_binary_accuracy: 0.6264\n",
      "Epoch 41/100\n",
      "7/7 [==============================] - 0s 16ms/step - loss: 0.0827 - binary_accuracy: 0.9950 - val_loss: 0.9887 - val_binary_accuracy: 0.6281\n",
      "Epoch 42/100\n",
      "7/7 [==============================] - 0s 13ms/step - loss: 0.0773 - binary_accuracy: 0.9975 - val_loss: 1.0065 - val_binary_accuracy: 0.6281\n",
      "Epoch 43/100\n",
      "7/7 [==============================] - 0s 13ms/step - loss: 0.0718 - binary_accuracy: 1.0000 - val_loss: 1.0229 - val_binary_accuracy: 0.6248\n",
      "Epoch 44/100\n",
      "7/7 [==============================] - 0s 17ms/step - loss: 0.0668 - binary_accuracy: 1.0000 - val_loss: 1.0399 - val_binary_accuracy: 0.6248\n",
      "Epoch 45/100\n",
      "7/7 [==============================] - 0s 16ms/step - loss: 0.0623 - binary_accuracy: 1.0000 - val_loss: 1.0528 - val_binary_accuracy: 0.6198\n",
      "Epoch 46/100\n",
      "7/7 [==============================] - 0s 14ms/step - loss: 0.0577 - binary_accuracy: 1.0000 - val_loss: 1.0688 - val_binary_accuracy: 0.6231\n",
      "Epoch 47/100\n",
      "7/7 [==============================] - 0s 15ms/step - loss: 0.0537 - binary_accuracy: 1.0000 - val_loss: 1.0862 - val_binary_accuracy: 0.6215\n",
      "Epoch 48/100\n",
      "7/7 [==============================] - 0s 14ms/step - loss: 0.0501 - binary_accuracy: 1.0000 - val_loss: 1.1027 - val_binary_accuracy: 0.6198\n",
      "Epoch 49/100\n",
      "7/7 [==============================] - 0s 15ms/step - loss: 0.0466 - binary_accuracy: 1.0000 - val_loss: 1.1176 - val_binary_accuracy: 0.6198\n",
      "Epoch 50/100\n",
      "7/7 [==============================] - 0s 12ms/step - loss: 0.0434 - binary_accuracy: 1.0000 - val_loss: 1.1340 - val_binary_accuracy: 0.6198\n",
      "Epoch 51/100\n",
      "7/7 [==============================] - 0s 13ms/step - loss: 0.0405 - binary_accuracy: 1.0000 - val_loss: 1.1523 - val_binary_accuracy: 0.6165\n",
      "Epoch 52/100\n",
      "7/7 [==============================] - 0s 13ms/step - loss: 0.0379 - binary_accuracy: 1.0000 - val_loss: 1.1705 - val_binary_accuracy: 0.6198\n",
      "Epoch 53/100\n",
      "7/7 [==============================] - 0s 14ms/step - loss: 0.0355 - binary_accuracy: 1.0000 - val_loss: 1.1871 - val_binary_accuracy: 0.6198\n",
      "Epoch 54/100\n",
      "7/7 [==============================] - 0s 16ms/step - loss: 0.0334 - binary_accuracy: 1.0000 - val_loss: 1.2036 - val_binary_accuracy: 0.6165\n",
      "Epoch 55/100\n",
      "7/7 [==============================] - 0s 17ms/step - loss: 0.0315 - binary_accuracy: 1.0000 - val_loss: 1.2196 - val_binary_accuracy: 0.6132\n",
      "Epoch 56/100\n",
      "7/7 [==============================] - 0s 12ms/step - loss: 0.0296 - binary_accuracy: 1.0000 - val_loss: 1.2343 - val_binary_accuracy: 0.6149\n",
      "Epoch 57/100\n",
      "7/7 [==============================] - 0s 13ms/step - loss: 0.0279 - binary_accuracy: 1.0000 - val_loss: 1.2488 - val_binary_accuracy: 0.6116\n",
      "Epoch 58/100\n",
      "7/7 [==============================] - 0s 15ms/step - loss: 0.0265 - binary_accuracy: 1.0000 - val_loss: 1.2639 - val_binary_accuracy: 0.6116\n",
      "Epoch 59/100\n",
      "7/7 [==============================] - 0s 13ms/step - loss: 0.0251 - binary_accuracy: 1.0000 - val_loss: 1.2779 - val_binary_accuracy: 0.6083\n",
      "Epoch 60/100\n",
      "7/7 [==============================] - 0s 14ms/step - loss: 0.0237 - binary_accuracy: 1.0000 - val_loss: 1.2923 - val_binary_accuracy: 0.6083\n",
      "Epoch 61/100\n",
      "7/7 [==============================] - 0s 14ms/step - loss: 0.0224 - binary_accuracy: 1.0000 - val_loss: 1.3065 - val_binary_accuracy: 0.6083\n",
      "Epoch 62/100\n",
      "7/7 [==============================] - 0s 15ms/step - loss: 0.0213 - binary_accuracy: 1.0000 - val_loss: 1.3193 - val_binary_accuracy: 0.6083\n",
      "Epoch 63/100\n",
      "7/7 [==============================] - 0s 13ms/step - loss: 0.0202 - binary_accuracy: 1.0000 - val_loss: 1.3334 - val_binary_accuracy: 0.6083\n",
      "Epoch 64/100\n",
      "7/7 [==============================] - 0s 14ms/step - loss: 0.0192 - binary_accuracy: 1.0000 - val_loss: 1.3469 - val_binary_accuracy: 0.6099\n",
      "Epoch 65/100\n",
      "7/7 [==============================] - 0s 14ms/step - loss: 0.0183 - binary_accuracy: 1.0000 - val_loss: 1.3600 - val_binary_accuracy: 0.6099\n",
      "Epoch 66/100\n",
      "7/7 [==============================] - 0s 14ms/step - loss: 0.0175 - binary_accuracy: 1.0000 - val_loss: 1.3721 - val_binary_accuracy: 0.6099\n",
      "Epoch 67/100\n",
      "7/7 [==============================] - 0s 15ms/step - loss: 0.0167 - binary_accuracy: 1.0000 - val_loss: 1.3837 - val_binary_accuracy: 0.6083\n",
      "Epoch 68/100\n",
      "7/7 [==============================] - 0s 14ms/step - loss: 0.0159 - binary_accuracy: 1.0000 - val_loss: 1.3951 - val_binary_accuracy: 0.6099\n",
      "Epoch 69/100\n",
      "7/7 [==============================] - 0s 14ms/step - loss: 0.0153 - binary_accuracy: 1.0000 - val_loss: 1.4073 - val_binary_accuracy: 0.6099\n",
      "Epoch 70/100\n",
      "7/7 [==============================] - 0s 13ms/step - loss: 0.0147 - binary_accuracy: 1.0000 - val_loss: 1.4199 - val_binary_accuracy: 0.6083\n",
      "Epoch 71/100\n",
      "7/7 [==============================] - 0s 24ms/step - loss: 0.0141 - binary_accuracy: 1.0000 - val_loss: 1.4324 - val_binary_accuracy: 0.6099\n",
      "Epoch 72/100\n",
      "7/7 [==============================] - 0s 16ms/step - loss: 0.0135 - binary_accuracy: 1.0000 - val_loss: 1.4438 - val_binary_accuracy: 0.6083\n",
      "Epoch 73/100\n",
      "7/7 [==============================] - 0s 14ms/step - loss: 0.0129 - binary_accuracy: 1.0000 - val_loss: 1.4552 - val_binary_accuracy: 0.6099\n",
      "Epoch 74/100\n",
      "7/7 [==============================] - 0s 14ms/step - loss: 0.0124 - binary_accuracy: 1.0000 - val_loss: 1.4661 - val_binary_accuracy: 0.6099\n",
      "Epoch 75/100\n",
      "7/7 [==============================] - 0s 15ms/step - loss: 0.0119 - binary_accuracy: 1.0000 - val_loss: 1.4767 - val_binary_accuracy: 0.6066\n",
      "Epoch 76/100\n",
      "7/7 [==============================] - 0s 16ms/step - loss: 0.0114 - binary_accuracy: 1.0000 - val_loss: 1.4864 - val_binary_accuracy: 0.6066\n",
      "Epoch 77/100\n",
      "7/7 [==============================] - 0s 29ms/step - loss: 0.0109 - binary_accuracy: 1.0000 - val_loss: 1.4961 - val_binary_accuracy: 0.6083\n",
      "Epoch 78/100\n",
      "7/7 [==============================] - 0s 15ms/step - loss: 0.0101 - binary_accuracy: 1.0000 - val_loss: 1.5068 - val_binary_accuracy: 0.6116\n",
      "Epoch 79/100\n",
      "7/7 [==============================] - 0s 14ms/step - loss: 0.0097 - binary_accuracy: 1.0000 - val_loss: 1.5181 - val_binary_accuracy: 0.6132\n",
      "Epoch 80/100\n",
      "7/7 [==============================] - 0s 17ms/step - loss: 0.0093 - binary_accuracy: 1.0000 - val_loss: 1.5276 - val_binary_accuracy: 0.6132\n",
      "Epoch 81/100\n",
      "7/7 [==============================] - 0s 17ms/step - loss: 0.0088 - binary_accuracy: 1.0000 - val_loss: 1.5375 - val_binary_accuracy: 0.6132\n",
      "Epoch 82/100\n",
      "7/7 [==============================] - 0s 17ms/step - loss: 0.0085 - binary_accuracy: 1.0000 - val_loss: 1.5467 - val_binary_accuracy: 0.6116\n",
      "Epoch 83/100\n",
      "7/7 [==============================] - 0s 14ms/step - loss: 0.0081 - binary_accuracy: 1.0000 - val_loss: 1.5556 - val_binary_accuracy: 0.6116\n",
      "Epoch 84/100\n",
      "7/7 [==============================] - 0s 15ms/step - loss: 0.0079 - binary_accuracy: 1.0000 - val_loss: 1.5644 - val_binary_accuracy: 0.6116\n",
      "Epoch 85/100\n",
      "7/7 [==============================] - 0s 16ms/step - loss: 0.0076 - binary_accuracy: 1.0000 - val_loss: 1.5735 - val_binary_accuracy: 0.6116\n",
      "Epoch 86/100\n",
      "7/7 [==============================] - 0s 14ms/step - loss: 0.0073 - binary_accuracy: 1.0000 - val_loss: 1.5819 - val_binary_accuracy: 0.6099\n",
      "Epoch 87/100\n",
      "7/7 [==============================] - 0s 15ms/step - loss: 0.0071 - binary_accuracy: 1.0000 - val_loss: 1.5903 - val_binary_accuracy: 0.6083\n",
      "Epoch 88/100\n",
      "7/7 [==============================] - 0s 14ms/step - loss: 0.0068 - binary_accuracy: 1.0000 - val_loss: 1.5989 - val_binary_accuracy: 0.6066\n",
      "Epoch 89/100\n",
      "7/7 [==============================] - 0s 14ms/step - loss: 0.0066 - binary_accuracy: 1.0000 - val_loss: 1.6080 - val_binary_accuracy: 0.6083\n",
      "Epoch 90/100\n",
      "7/7 [==============================] - 0s 14ms/step - loss: 0.0064 - binary_accuracy: 1.0000 - val_loss: 1.6166 - val_binary_accuracy: 0.6083\n",
      "Epoch 91/100\n",
      "7/7 [==============================] - 0s 14ms/step - loss: 0.0062 - binary_accuracy: 1.0000 - val_loss: 1.6245 - val_binary_accuracy: 0.6083\n",
      "Epoch 92/100\n",
      "7/7 [==============================] - 0s 15ms/step - loss: 0.0060 - binary_accuracy: 1.0000 - val_loss: 1.6327 - val_binary_accuracy: 0.6083\n",
      "Epoch 93/100\n",
      "7/7 [==============================] - 0s 16ms/step - loss: 0.0058 - binary_accuracy: 1.0000 - val_loss: 1.6406 - val_binary_accuracy: 0.6083\n",
      "Epoch 94/100\n",
      "7/7 [==============================] - 0s 15ms/step - loss: 0.0056 - binary_accuracy: 1.0000 - val_loss: 1.6481 - val_binary_accuracy: 0.6083\n",
      "Epoch 95/100\n",
      "7/7 [==============================] - 0s 17ms/step - loss: 0.0055 - binary_accuracy: 1.0000 - val_loss: 1.6557 - val_binary_accuracy: 0.6083\n",
      "Epoch 96/100\n",
      "7/7 [==============================] - 0s 16ms/step - loss: 0.0053 - binary_accuracy: 1.0000 - val_loss: 1.6628 - val_binary_accuracy: 0.6066\n",
      "Epoch 97/100\n",
      "7/7 [==============================] - 0s 15ms/step - loss: 0.0052 - binary_accuracy: 1.0000 - val_loss: 1.6695 - val_binary_accuracy: 0.6050\n",
      "Epoch 98/100\n",
      "7/7 [==============================] - 0s 14ms/step - loss: 0.0050 - binary_accuracy: 1.0000 - val_loss: 1.6771 - val_binary_accuracy: 0.6050\n",
      "Epoch 99/100\n",
      "7/7 [==============================] - 0s 14ms/step - loss: 0.0049 - binary_accuracy: 1.0000 - val_loss: 1.6843 - val_binary_accuracy: 0.6033\n",
      "Epoch 100/100\n",
      "7/7 [==============================] - 0s 13ms/step - loss: 0.0047 - binary_accuracy: 1.0000 - val_loss: 1.6917 - val_binary_accuracy: 0.6033\n"
     ]
    }
   ],
   "source": [
    "train_size = 400\n",
    "X_train_, y_train_ = X_train[:train_size], y_train[:train_size]\n",
    "history = predinet_model.fit(X_train_, y_train_, validation_data=(X_val, y_val),\n",
    "    verbose=1, epochs=100, batch_size=64)"
   ]
  },
  {
   "cell_type": "code",
   "execution_count": 23,
   "metadata": {},
   "outputs": [
    {
     "data": {
      "image/png": "[encoded data removed]",
      "text/plain": [
       "<Figure size 640x480 with 2 Axes>"
      ]
     },
     "metadata": {},
     "output_type": "display_data"
    }
   ],
   "source": [
    "utils.plot_history(history, ('loss', 'binary_accuracy'));"
   ]
  },
  {
   "cell_type": "code",
   "execution_count": 24,
   "metadata": {},
   "outputs": [
    {
     "name": "stdout",
     "output_type": "stream",
     "text": [
      "63/63 [==============================] - 0s 4ms/step - loss: 1.2114 - binary_accuracy: 0.7002\n"
     ]
    },
    {
     "data": {
      "text/plain": [
       "[1.2114335298538208, 0.700248122215271]"
      ]
     },
     "execution_count": 24,
     "metadata": {},
     "output_type": "execute_result"
    }
   ],
   "source": [
    "predinet_model.evaluate(X_train, y_train)"
   ]
  },
  {
   "cell_type": "code",
   "execution_count": 25,
   "metadata": {},
   "outputs": [
    {
     "name": "stdout",
     "output_type": "stream",
     "text": [
      "45/45 [==============================] - 0s 3ms/step - loss: 1.4721 - binary_accuracy: 0.6516\n"
     ]
    },
    {
     "data": {
      "text/plain": [
       "[1.4720784425735474, 0.6515581011772156]"
      ]
     },
     "execution_count": 25,
     "metadata": {},
     "output_type": "execute_result"
    }
   ],
   "source": [
    "predinet_model.evaluate(X_test, y_test)"
   ]
  },
  {
   "cell_type": "markdown",
   "metadata": {},
   "source": [
    "## CorelNet (Symmetric; Stanard)"
   ]
  },
  {
   "cell_type": "code",
   "execution_count": 26,
   "metadata": {},
   "outputs": [],
   "source": [
    "from multi_head_relation import MultiHeadRelation\n",
    "from tensorflow.keras import layers"
   ]
  },
  {
   "cell_type": "code",
   "execution_count": 27,
   "metadata": {},
   "outputs": [
    {
     "name": "stdout",
     "output_type": "stream",
     "text": [
      "Model: \"model_2\"\n",
      "_________________________________________________________________\n",
      " Layer (type)                Output Shape              Param #   \n",
      "=================================================================\n",
      " input_4 (InputLayer)        [(None, 2, 32)]           0         \n",
      "                                                                 \n",
      " dense_19 (Dense)            (None, 2, 64)             2112      \n",
      "                                                                 \n",
      " multi_head_relation_1 (Mult  (None, 2, 2, 1)          4096      \n",
      " iHeadRelation)                                                  \n",
      "                                                                 \n",
      " tf.nn.softmax (TFOpLambda)  (None, 2, 2, 1)           0         \n",
      "                                                                 \n",
      " flatten_5 (Flatten)         (None, 4)                 0         \n",
      "                                                                 \n",
      " hidden_layer (Dense)        (None, 32)                160       \n",
      "                                                                 \n",
      " final_layer (Dense)         (None, 1)                 33        \n",
      "                                                                 \n",
      "=================================================================\n",
      "Total params: 6,401\n",
      "Trainable params: 6,401\n",
      "Non-trainable params: 0\n",
      "_________________________________________________________________\n",
      "None\n"
     ]
    }
   ],
   "source": [
    "embedding_dim = 64\n",
    "ordercorelnet_kwargs = dict(embedding_dim=embedding_dim)\n",
    "\n",
    "class CorelNetModel(tf.keras.Model):\n",
    "    def __init__(self, embedding_dim, name=None):\n",
    "        super().__init__(name=name)\n",
    "        self.embedder = layers.Dense(embedding_dim)\n",
    "        self.mhr = MultiHeadRelation(rel_dim=1, proj_dim=None, symmetric=True, dense_kwargs=dict(use_bias=False))\n",
    "        self.flatten = layers.Flatten()\n",
    "        self.hidden_dense = layers.Dense(32, activation='relu', name='hidden_layer')\n",
    "        self.final_layer = layers.Dense(1, activation='sigmoid', name='final_layer')\n",
    "\n",
    "    def call(self, inputs):\n",
    "        x = self.embedder(inputs)\n",
    "        x = self.mhr(x)\n",
    "        x = tf.nn.softmax(x, axis=1)\n",
    "        x = self.flatten(x)\n",
    "        x = self.hidden_dense(x)\n",
    "        x = self.final_layer(x)\n",
    "\n",
    "        return x\n",
    "\n",
    "    def print_summary(self, input_shape):\n",
    "        inputs = layers.Input(input_shape)\n",
    "        outputs = self.call(inputs)\n",
    "        print(tf.keras.Model(inputs, outputs).summary())\n",
    "\n",
    "loss = tf.keras.losses.SparseCategoricalCrossentropy(from_logits=True, name='binary_crossentropy')\n",
    "create_opt = lambda : tf.keras.optimizers.Adam(learning_rate=0.001)\n",
    "\n",
    "corelnet_model = CorelNetModel(**ordercorelnet_kwargs, name='order_corelnet')\n",
    "corelnet_model.compile(loss='binary_crossentropy', optimizer=create_opt(), metrics=['binary_accuracy'])\n",
    "corelnet_model(X_train[:32]);\n",
    "corelnet_model.print_summary(X.shape[1:]);"
   ]
  },
  {
   "cell_type": "code",
   "execution_count": 28,
   "metadata": {},
   "outputs": [
    {
     "name": "stdout",
     "output_type": "stream",
     "text": [
      "Epoch 1/100\n",
      "7/7 [==============================] - 2s 92ms/step - loss: 0.6939 - binary_accuracy: 0.4475 - val_loss: 0.6932 - val_binary_accuracy: 0.5041\n",
      "Epoch 2/100\n",
      "7/7 [==============================] - 0s 13ms/step - loss: 0.6930 - binary_accuracy: 0.5025 - val_loss: 0.6933 - val_binary_accuracy: 0.5041\n",
      "Epoch 3/100\n",
      "7/7 [==============================] - 0s 13ms/step - loss: 0.6928 - binary_accuracy: 0.4900 - val_loss: 0.6935 - val_binary_accuracy: 0.4926\n",
      "Epoch 4/100\n",
      "7/7 [==============================] - 0s 14ms/step - loss: 0.6927 - binary_accuracy: 0.5025 - val_loss: 0.6934 - val_binary_accuracy: 0.4926\n",
      "Epoch 5/100\n",
      "7/7 [==============================] - 0s 15ms/step - loss: 0.6925 - binary_accuracy: 0.5025 - val_loss: 0.6934 - val_binary_accuracy: 0.4926\n",
      "Epoch 6/100\n",
      "7/7 [==============================] - 0s 16ms/step - loss: 0.6925 - binary_accuracy: 0.5025 - val_loss: 0.6935 - val_binary_accuracy: 0.4926\n",
      "Epoch 7/100\n",
      "7/7 [==============================] - 0s 15ms/step - loss: 0.6924 - binary_accuracy: 0.5025 - val_loss: 0.6935 - val_binary_accuracy: 0.4926\n",
      "Epoch 8/100\n",
      "7/7 [==============================] - 0s 16ms/step - loss: 0.6926 - binary_accuracy: 0.5025 - val_loss: 0.6937 - val_binary_accuracy: 0.4926\n",
      "Epoch 9/100\n",
      "7/7 [==============================] - 0s 15ms/step - loss: 0.6925 - binary_accuracy: 0.5025 - val_loss: 0.6935 - val_binary_accuracy: 0.4926\n",
      "Epoch 10/100\n",
      "7/7 [==============================] - 0s 16ms/step - loss: 0.6922 - binary_accuracy: 0.5050 - val_loss: 0.6934 - val_binary_accuracy: 0.5008\n",
      "Epoch 11/100\n",
      "7/7 [==============================] - 0s 15ms/step - loss: 0.6923 - binary_accuracy: 0.5025 - val_loss: 0.6933 - val_binary_accuracy: 0.5025\n",
      "Epoch 12/100\n",
      "7/7 [==============================] - 0s 17ms/step - loss: 0.6923 - binary_accuracy: 0.5025 - val_loss: 0.6934 - val_binary_accuracy: 0.5008\n",
      "Epoch 13/100\n",
      "7/7 [==============================] - 0s 18ms/step - loss: 0.6921 - binary_accuracy: 0.4950 - val_loss: 0.6937 - val_binary_accuracy: 0.4926\n",
      "Epoch 14/100\n",
      "7/7 [==============================] - 0s 15ms/step - loss: 0.6921 - binary_accuracy: 0.5025 - val_loss: 0.6939 - val_binary_accuracy: 0.4926\n",
      "Epoch 15/100\n",
      "7/7 [==============================] - 0s 15ms/step - loss: 0.6915 - binary_accuracy: 0.5025 - val_loss: 0.6939 - val_binary_accuracy: 0.4926\n",
      "Epoch 16/100\n",
      "7/7 [==============================] - 0s 15ms/step - loss: 0.6915 - binary_accuracy: 0.4750 - val_loss: 0.6939 - val_binary_accuracy: 0.5025\n",
      "Epoch 17/100\n",
      "7/7 [==============================] - 0s 15ms/step - loss: 0.6915 - binary_accuracy: 0.5050 - val_loss: 0.6939 - val_binary_accuracy: 0.5025\n",
      "Epoch 18/100\n",
      "7/7 [==============================] - 0s 15ms/step - loss: 0.6915 - binary_accuracy: 0.5050 - val_loss: 0.6939 - val_binary_accuracy: 0.5025\n",
      "Epoch 19/100\n",
      "7/7 [==============================] - 0s 15ms/step - loss: 0.6912 - binary_accuracy: 0.5050 - val_loss: 0.6940 - val_binary_accuracy: 0.5025\n",
      "Epoch 20/100\n",
      "7/7 [==============================] - 0s 16ms/step - loss: 0.6909 - binary_accuracy: 0.5075 - val_loss: 0.6942 - val_binary_accuracy: 0.5008\n",
      "Epoch 21/100\n",
      "7/7 [==============================] - 0s 15ms/step - loss: 0.6908 - binary_accuracy: 0.5100 - val_loss: 0.6942 - val_binary_accuracy: 0.5041\n",
      "Epoch 22/100\n",
      "7/7 [==============================] - 0s 14ms/step - loss: 0.6907 - binary_accuracy: 0.5100 - val_loss: 0.6939 - val_binary_accuracy: 0.5058\n",
      "Epoch 23/100\n",
      "7/7 [==============================] - 0s 15ms/step - loss: 0.6896 - binary_accuracy: 0.5175 - val_loss: 0.6940 - val_binary_accuracy: 0.4926\n",
      "Epoch 24/100\n",
      "7/7 [==============================] - 0s 14ms/step - loss: 0.6897 - binary_accuracy: 0.5025 - val_loss: 0.6942 - val_binary_accuracy: 0.4926\n",
      "Epoch 25/100\n",
      "7/7 [==============================] - 0s 16ms/step - loss: 0.6896 - binary_accuracy: 0.5025 - val_loss: 0.6939 - val_binary_accuracy: 0.4926\n",
      "Epoch 26/100\n",
      "7/7 [==============================] - 0s 16ms/step - loss: 0.6892 - binary_accuracy: 0.4825 - val_loss: 0.6939 - val_binary_accuracy: 0.5074\n",
      "Epoch 27/100\n",
      "7/7 [==============================] - 0s 18ms/step - loss: 0.6890 - binary_accuracy: 0.5100 - val_loss: 0.6939 - val_binary_accuracy: 0.5074\n",
      "Epoch 28/100\n",
      "7/7 [==============================] - 0s 16ms/step - loss: 0.6893 - binary_accuracy: 0.5100 - val_loss: 0.6941 - val_binary_accuracy: 0.5074\n",
      "Epoch 29/100\n",
      "7/7 [==============================] - 0s 16ms/step - loss: 0.6891 - binary_accuracy: 0.5100 - val_loss: 0.6942 - val_binary_accuracy: 0.5074\n",
      "Epoch 30/100\n",
      "7/7 [==============================] - 0s 17ms/step - loss: 0.6889 - binary_accuracy: 0.5100 - val_loss: 0.6943 - val_binary_accuracy: 0.5074\n",
      "Epoch 31/100\n",
      "7/7 [==============================] - 0s 17ms/step - loss: 0.6889 - binary_accuracy: 0.4950 - val_loss: 0.6947 - val_binary_accuracy: 0.4926\n",
      "Epoch 32/100\n",
      "7/7 [==============================] - 0s 14ms/step - loss: 0.6887 - binary_accuracy: 0.5025 - val_loss: 0.6947 - val_binary_accuracy: 0.4926\n",
      "Epoch 33/100\n",
      "7/7 [==============================] - 0s 14ms/step - loss: 0.6885 - binary_accuracy: 0.4875 - val_loss: 0.6945 - val_binary_accuracy: 0.5074\n",
      "Epoch 34/100\n",
      "7/7 [==============================] - 0s 15ms/step - loss: 0.6885 - binary_accuracy: 0.5100 - val_loss: 0.6946 - val_binary_accuracy: 0.5074\n",
      "Epoch 35/100\n",
      "7/7 [==============================] - 0s 15ms/step - loss: 0.6885 - binary_accuracy: 0.5100 - val_loss: 0.6948 - val_binary_accuracy: 0.5074\n",
      "Epoch 36/100\n",
      "7/7 [==============================] - 0s 15ms/step - loss: 0.6888 - binary_accuracy: 0.5100 - val_loss: 0.6949 - val_binary_accuracy: 0.5074\n",
      "Epoch 37/100\n",
      "7/7 [==============================] - 0s 16ms/step - loss: 0.6889 - binary_accuracy: 0.5100 - val_loss: 0.6949 - val_binary_accuracy: 0.5074\n",
      "Epoch 38/100\n",
      "7/7 [==============================] - 0s 16ms/step - loss: 0.6884 - binary_accuracy: 0.5100 - val_loss: 0.6949 - val_binary_accuracy: 0.5074\n",
      "Epoch 39/100\n",
      "7/7 [==============================] - 0s 16ms/step - loss: 0.6880 - binary_accuracy: 0.5100 - val_loss: 0.6949 - val_binary_accuracy: 0.5074\n",
      "Epoch 40/100\n",
      "7/7 [==============================] - 0s 15ms/step - loss: 0.6880 - binary_accuracy: 0.5100 - val_loss: 0.6950 - val_binary_accuracy: 0.5074\n",
      "Epoch 41/100\n",
      "7/7 [==============================] - 0s 15ms/step - loss: 0.6878 - binary_accuracy: 0.4875 - val_loss: 0.6954 - val_binary_accuracy: 0.4926\n",
      "Epoch 42/100\n",
      "7/7 [==============================] - 0s 16ms/step - loss: 0.6879 - binary_accuracy: 0.5025 - val_loss: 0.6955 - val_binary_accuracy: 0.4926\n",
      "Epoch 43/100\n",
      "7/7 [==============================] - 0s 15ms/step - loss: 0.6878 - binary_accuracy: 0.5025 - val_loss: 0.6955 - val_binary_accuracy: 0.4926\n",
      "Epoch 44/100\n",
      "7/7 [==============================] - 0s 15ms/step - loss: 0.6876 - binary_accuracy: 0.5025 - val_loss: 0.6956 - val_binary_accuracy: 0.4926\n",
      "Epoch 45/100\n",
      "7/7 [==============================] - 0s 15ms/step - loss: 0.6876 - binary_accuracy: 0.5025 - val_loss: 0.6955 - val_binary_accuracy: 0.4926\n",
      "Epoch 46/100\n",
      "7/7 [==============================] - 0s 14ms/step - loss: 0.6876 - binary_accuracy: 0.5025 - val_loss: 0.6957 - val_binary_accuracy: 0.4926\n",
      "Epoch 47/100\n",
      "7/7 [==============================] - 0s 14ms/step - loss: 0.6875 - binary_accuracy: 0.5025 - val_loss: 0.6958 - val_binary_accuracy: 0.4926\n",
      "Epoch 48/100\n",
      "7/7 [==============================] - 0s 14ms/step - loss: 0.6874 - binary_accuracy: 0.5025 - val_loss: 0.6960 - val_binary_accuracy: 0.4926\n",
      "Epoch 49/100\n",
      "7/7 [==============================] - 0s 16ms/step - loss: 0.6877 - binary_accuracy: 0.5025 - val_loss: 0.6961 - val_binary_accuracy: 0.4926\n",
      "Epoch 50/100\n",
      "7/7 [==============================] - 0s 17ms/step - loss: 0.6877 - binary_accuracy: 0.4900 - val_loss: 0.6957 - val_binary_accuracy: 0.5074\n",
      "Epoch 51/100\n",
      "7/7 [==============================] - 0s 18ms/step - loss: 0.6872 - binary_accuracy: 0.5100 - val_loss: 0.6958 - val_binary_accuracy: 0.5074\n",
      "Epoch 52/100\n",
      "7/7 [==============================] - 0s 18ms/step - loss: 0.6873 - binary_accuracy: 0.5100 - val_loss: 0.6959 - val_binary_accuracy: 0.5074\n",
      "Epoch 53/100\n",
      "7/7 [==============================] - 0s 17ms/step - loss: 0.6873 - binary_accuracy: 0.5100 - val_loss: 0.6959 - val_binary_accuracy: 0.5074\n",
      "Epoch 54/100\n",
      "7/7 [==============================] - 0s 17ms/step - loss: 0.6870 - binary_accuracy: 0.5100 - val_loss: 0.6960 - val_binary_accuracy: 0.5074\n",
      "Epoch 55/100\n",
      "7/7 [==============================] - 0s 18ms/step - loss: 0.6872 - binary_accuracy: 0.5100 - val_loss: 0.6961 - val_binary_accuracy: 0.5074\n",
      "Epoch 56/100\n",
      "7/7 [==============================] - 0s 17ms/step - loss: 0.6872 - binary_accuracy: 0.5100 - val_loss: 0.6962 - val_binary_accuracy: 0.5058\n",
      "Epoch 57/100\n",
      "7/7 [==============================] - 0s 17ms/step - loss: 0.6868 - binary_accuracy: 0.5100 - val_loss: 0.6963 - val_binary_accuracy: 0.5025\n",
      "Epoch 58/100\n",
      "7/7 [==============================] - 0s 18ms/step - loss: 0.6868 - binary_accuracy: 0.5100 - val_loss: 0.6964 - val_binary_accuracy: 0.5041\n",
      "Epoch 59/100\n",
      "7/7 [==============================] - 0s 18ms/step - loss: 0.6870 - binary_accuracy: 0.5100 - val_loss: 0.6964 - val_binary_accuracy: 0.5058\n",
      "Epoch 60/100\n",
      "7/7 [==============================] - 0s 17ms/step - loss: 0.6866 - binary_accuracy: 0.5350 - val_loss: 0.6985 - val_binary_accuracy: 0.4926\n",
      "Epoch 61/100\n",
      "7/7 [==============================] - 0s 18ms/step - loss: 0.6862 - binary_accuracy: 0.5025 - val_loss: 0.7001 - val_binary_accuracy: 0.4926\n",
      "Epoch 62/100\n",
      "7/7 [==============================] - 0s 17ms/step - loss: 0.6863 - binary_accuracy: 0.5025 - val_loss: 0.6995 - val_binary_accuracy: 0.4926\n",
      "Epoch 63/100\n",
      "7/7 [==============================] - 0s 17ms/step - loss: 0.6858 - binary_accuracy: 0.5025 - val_loss: 0.6987 - val_binary_accuracy: 0.4926\n",
      "Epoch 64/100\n",
      "7/7 [==============================] - 0s 17ms/step - loss: 0.6853 - binary_accuracy: 0.5025 - val_loss: 0.6982 - val_binary_accuracy: 0.4926\n",
      "Epoch 65/100\n",
      "7/7 [==============================] - 0s 16ms/step - loss: 0.6872 - binary_accuracy: 0.4700 - val_loss: 0.6986 - val_binary_accuracy: 0.5041\n",
      "Epoch 66/100\n",
      "7/7 [==============================] - 0s 16ms/step - loss: 0.6841 - binary_accuracy: 0.5100 - val_loss: 0.7011 - val_binary_accuracy: 0.4992\n",
      "Epoch 67/100\n",
      "7/7 [==============================] - 0s 14ms/step - loss: 0.6830 - binary_accuracy: 0.5150 - val_loss: 0.7006 - val_binary_accuracy: 0.4992\n",
      "Epoch 68/100\n",
      "7/7 [==============================] - 0s 16ms/step - loss: 0.6825 - binary_accuracy: 0.5175 - val_loss: 0.7017 - val_binary_accuracy: 0.5008\n",
      "Epoch 69/100\n",
      "7/7 [==============================] - 0s 16ms/step - loss: 0.6823 - binary_accuracy: 0.5175 - val_loss: 0.7018 - val_binary_accuracy: 0.4992\n",
      "Epoch 70/100\n",
      "7/7 [==============================] - 0s 14ms/step - loss: 0.6823 - binary_accuracy: 0.5175 - val_loss: 0.7019 - val_binary_accuracy: 0.4992\n",
      "Epoch 71/100\n",
      "7/7 [==============================] - 0s 14ms/step - loss: 0.6821 - binary_accuracy: 0.5175 - val_loss: 0.7021 - val_binary_accuracy: 0.4975\n",
      "Epoch 72/100\n",
      "7/7 [==============================] - 0s 14ms/step - loss: 0.6819 - binary_accuracy: 0.5175 - val_loss: 0.7024 - val_binary_accuracy: 0.4992\n",
      "Epoch 73/100\n",
      "7/7 [==============================] - 0s 13ms/step - loss: 0.6819 - binary_accuracy: 0.5175 - val_loss: 0.7025 - val_binary_accuracy: 0.4975\n",
      "Epoch 74/100\n",
      "7/7 [==============================] - 0s 14ms/step - loss: 0.6818 - binary_accuracy: 0.5175 - val_loss: 0.7028 - val_binary_accuracy: 0.4992\n",
      "Epoch 75/100\n",
      "7/7 [==============================] - 0s 15ms/step - loss: 0.6817 - binary_accuracy: 0.5175 - val_loss: 0.7031 - val_binary_accuracy: 0.5008\n",
      "Epoch 76/100\n",
      "7/7 [==============================] - 0s 16ms/step - loss: 0.6817 - binary_accuracy: 0.5175 - val_loss: 0.7033 - val_binary_accuracy: 0.4975\n",
      "Epoch 77/100\n",
      "7/7 [==============================] - 0s 15ms/step - loss: 0.6816 - binary_accuracy: 0.5175 - val_loss: 0.7036 - val_binary_accuracy: 0.4992\n",
      "Epoch 78/100\n",
      "7/7 [==============================] - 0s 16ms/step - loss: 0.6815 - binary_accuracy: 0.5075 - val_loss: 0.7040 - val_binary_accuracy: 0.4926\n",
      "Epoch 79/100\n",
      "7/7 [==============================] - 0s 18ms/step - loss: 0.6815 - binary_accuracy: 0.5025 - val_loss: 0.7042 - val_binary_accuracy: 0.5025\n",
      "Epoch 80/100\n",
      "7/7 [==============================] - 0s 17ms/step - loss: 0.6816 - binary_accuracy: 0.5175 - val_loss: 0.7043 - val_binary_accuracy: 0.4992\n",
      "Epoch 81/100\n",
      "7/7 [==============================] - 0s 17ms/step - loss: 0.6813 - binary_accuracy: 0.5175 - val_loss: 0.7046 - val_binary_accuracy: 0.4975\n",
      "Epoch 82/100\n",
      "7/7 [==============================] - 0s 18ms/step - loss: 0.6812 - binary_accuracy: 0.5200 - val_loss: 0.7049 - val_binary_accuracy: 0.5008\n",
      "Epoch 83/100\n",
      "7/7 [==============================] - 0s 16ms/step - loss: 0.6808 - binary_accuracy: 0.5150 - val_loss: 0.7051 - val_binary_accuracy: 0.4926\n",
      "Epoch 84/100\n",
      "7/7 [==============================] - 0s 16ms/step - loss: 0.6797 - binary_accuracy: 0.5100 - val_loss: 0.7047 - val_binary_accuracy: 0.5008\n",
      "Epoch 85/100\n",
      "7/7 [==============================] - 0s 16ms/step - loss: 0.6797 - binary_accuracy: 0.5225 - val_loss: 0.7037 - val_binary_accuracy: 0.5025\n",
      "Epoch 86/100\n",
      "7/7 [==============================] - 0s 18ms/step - loss: 0.6794 - binary_accuracy: 0.5200 - val_loss: 0.7031 - val_binary_accuracy: 0.5041\n",
      "Epoch 87/100\n",
      "7/7 [==============================] - 0s 16ms/step - loss: 0.6783 - binary_accuracy: 0.5225 - val_loss: 0.6977 - val_binary_accuracy: 0.5091\n",
      "Epoch 88/100\n",
      "7/7 [==============================] - 0s 32ms/step - loss: 0.6786 - binary_accuracy: 0.5225 - val_loss: 0.6986 - val_binary_accuracy: 0.5140\n",
      "Epoch 89/100\n",
      "7/7 [==============================] - 0s 20ms/step - loss: 0.6781 - binary_accuracy: 0.5225 - val_loss: 0.6984 - val_binary_accuracy: 0.5140\n",
      "Epoch 90/100\n",
      "7/7 [==============================] - 0s 17ms/step - loss: 0.6785 - binary_accuracy: 0.5225 - val_loss: 0.6984 - val_binary_accuracy: 0.5124\n",
      "Epoch 91/100\n",
      "7/7 [==============================] - 0s 16ms/step - loss: 0.6780 - binary_accuracy: 0.5225 - val_loss: 0.6983 - val_binary_accuracy: 0.5124\n",
      "Epoch 92/100\n",
      "7/7 [==============================] - 0s 17ms/step - loss: 0.6781 - binary_accuracy: 0.5225 - val_loss: 0.6987 - val_binary_accuracy: 0.5074\n",
      "Epoch 93/100\n",
      "7/7 [==============================] - 0s 16ms/step - loss: 0.6781 - binary_accuracy: 0.4875 - val_loss: 0.6989 - val_binary_accuracy: 0.4926\n",
      "Epoch 94/100\n",
      "7/7 [==============================] - 0s 16ms/step - loss: 0.6778 - binary_accuracy: 0.5250 - val_loss: 0.6988 - val_binary_accuracy: 0.5107\n",
      "Epoch 95/100\n",
      "7/7 [==============================] - 0s 17ms/step - loss: 0.6779 - binary_accuracy: 0.4850 - val_loss: 0.6981 - val_binary_accuracy: 0.4926\n",
      "Epoch 96/100\n",
      "7/7 [==============================] - 0s 18ms/step - loss: 0.6762 - binary_accuracy: 0.5025 - val_loss: 0.6980 - val_binary_accuracy: 0.5107\n",
      "Epoch 97/100\n",
      "7/7 [==============================] - 0s 16ms/step - loss: 0.6758 - binary_accuracy: 0.5275 - val_loss: 0.6978 - val_binary_accuracy: 0.5107\n",
      "Epoch 98/100\n",
      "7/7 [==============================] - 0s 16ms/step - loss: 0.6759 - binary_accuracy: 0.5250 - val_loss: 0.6979 - val_binary_accuracy: 0.5107\n",
      "Epoch 99/100\n",
      "7/7 [==============================] - 0s 16ms/step - loss: 0.6762 - binary_accuracy: 0.5250 - val_loss: 0.6981 - val_binary_accuracy: 0.5107\n",
      "Epoch 100/100\n",
      "7/7 [==============================] - 0s 16ms/step - loss: 0.6758 - binary_accuracy: 0.5275 - val_loss: 0.7037 - val_binary_accuracy: 0.5124\n"
     ]
    }
   ],
   "source": [
    "train_size = 400\n",
    "X_train_, y_train_ = X_train[:train_size], y_train[:train_size]\n",
    "history = corelnet_model.fit(X_train_, y_train_, validation_data=(X_val, y_val),\n",
    "    verbose=1, epochs=100, batch_size=64)"
   ]
  },
  {
   "cell_type": "code",
   "execution_count": 29,
   "metadata": {},
   "outputs": [
    {
     "data": {
      "image/png": "[encoded data removed]",
      "text/plain": [
       "<Figure size 640x480 with 2 Axes>"
      ]
     },
     "metadata": {},
     "output_type": "display_data"
    }
   ],
   "source": [
    "utils.plot_history(history, ('loss', 'binary_accuracy'));"
   ]
  },
  {
   "cell_type": "code",
   "execution_count": 30,
   "metadata": {},
   "outputs": [
    {
     "name": "stdout",
     "output_type": "stream",
     "text": [
      "63/63 [==============================] - 0s 2ms/step - loss: 0.6994 - binary_accuracy: 0.5027\n"
     ]
    },
    {
     "data": {
      "text/plain": [
       "[0.6994447112083435, 0.5027295351028442]"
      ]
     },
     "execution_count": 30,
     "metadata": {},
     "output_type": "execute_result"
    }
   ],
   "source": [
    "corelnet_model.evaluate(X_train, y_train)"
   ]
  },
  {
   "cell_type": "code",
   "execution_count": 31,
   "metadata": {},
   "outputs": [
    {
     "name": "stdout",
     "output_type": "stream",
     "text": [
      "45/45 [==============================] - 0s 3ms/step - loss: 0.7177 - binary_accuracy: 0.4901\n"
     ]
    },
    {
     "data": {
      "text/plain": [
       "[0.7176824808120728, 0.4900849759578705]"
      ]
     },
     "execution_count": 31,
     "metadata": {},
     "output_type": "execute_result"
    }
   ],
   "source": [
    "corelnet_model.evaluate(X_test, y_test)"
   ]
  },
  {
   "cell_type": "markdown",
   "metadata": {},
   "source": [
    "## CorelNet (Asymmetric)"
   ]
  },
  {
   "cell_type": "code",
   "execution_count": 32,
   "metadata": {},
   "outputs": [],
   "source": [
    "from multi_head_relation import MultiHeadRelation\n",
    "from tensorflow.keras import layers"
   ]
  },
  {
   "cell_type": "code",
   "execution_count": 33,
   "metadata": {},
   "outputs": [
    {
     "name": "stdout",
     "output_type": "stream",
     "text": [
      "Model: \"model_3\"\n",
      "_________________________________________________________________\n",
      " Layer (type)                Output Shape              Param #   \n",
      "=================================================================\n",
      " input_5 (InputLayer)        [(None, 2, 32)]           0         \n",
      "                                                                 \n",
      " dense_21 (Dense)            (None, 2, 64)             2112      \n",
      "                                                                 \n",
      " multi_head_relation_2 (Mult  (None, 2, 2, 1)          8192      \n",
      " iHeadRelation)                                                  \n",
      "                                                                 \n",
      " tf.nn.softmax_1 (TFOpLambda  (None, 2, 2, 1)          0         \n",
      " )                                                               \n",
      "                                                                 \n",
      " flatten_6 (Flatten)         (None, 4)                 0         \n",
      "                                                                 \n",
      " hidden_layer (Dense)        (None, 32)                160       \n",
      "                                                                 \n",
      " final_layer (Dense)         (None, 1)                 33        \n",
      "                                                                 \n",
      "=================================================================\n",
      "Total params: 10,497\n",
      "Trainable params: 10,497\n",
      "Non-trainable params: 0\n",
      "_________________________________________________________________\n",
      "None\n"
     ]
    }
   ],
   "source": [
    "embedding_dim = 64\n",
    "ordercorelnet_kwargs = dict(embedding_dim=embedding_dim)\n",
    "\n",
    "class CorelNetModelAsymmetric(tf.keras.Model):\n",
    "    def __init__(self, embedding_dim, name=None):\n",
    "        super().__init__(name=name)\n",
    "        self.embedder = layers.Dense(embedding_dim)\n",
    "        self.mhr = MultiHeadRelation(rel_dim=1, proj_dim=None, symmetric=False, dense_kwargs=dict(use_bias=False))\n",
    "        self.flatten = layers.Flatten()\n",
    "        self.hidden_dense = layers.Dense(32, activation='relu', name='hidden_layer')\n",
    "        self.final_layer = layers.Dense(1, activation='sigmoid', name='final_layer')\n",
    "\n",
    "    def call(self, inputs):\n",
    "        x = self.embedder(inputs)\n",
    "        x = self.mhr(x)\n",
    "        x = tf.nn.softmax(x, axis=1)\n",
    "        x = self.flatten(x)\n",
    "        x = self.hidden_dense(x)\n",
    "        x = self.final_layer(x)\n",
    "\n",
    "        return x\n",
    "\n",
    "    def print_summary(self, input_shape):\n",
    "        inputs = layers.Input(input_shape)\n",
    "        outputs = self.call(inputs)\n",
    "        print(tf.keras.Model(inputs, outputs).summary())\n",
    "\n",
    "loss = tf.keras.losses.SparseCategoricalCrossentropy(from_logits=True, name='binary_crossentropy')\n",
    "create_opt = lambda : tf.keras.optimizers.Adam(learning_rate=0.001)\n",
    "\n",
    "corelnet_model = CorelNetModelAsymmetric(**ordercorelnet_kwargs, name='order_corelnet')\n",
    "corelnet_model.compile(loss='binary_crossentropy', optimizer=create_opt(), metrics=['binary_accuracy'])\n",
    "corelnet_model(X_train[:32]);\n",
    "corelnet_model.print_summary(X.shape[1:]);"
   ]
  },
  {
   "cell_type": "code",
   "execution_count": 34,
   "metadata": {},
   "outputs": [
    {
     "name": "stdout",
     "output_type": "stream",
     "text": [
      "Epoch 1/100\n",
      "7/7 [==============================] - 3s 135ms/step - loss: 0.6933 - binary_accuracy: 0.5050 - val_loss: 0.6886 - val_binary_accuracy: 0.5570\n",
      "Epoch 2/100\n",
      "7/7 [==============================] - 0s 16ms/step - loss: 0.6731 - binary_accuracy: 0.6225 - val_loss: 0.6800 - val_binary_accuracy: 0.5752\n",
      "Epoch 3/100\n",
      "7/7 [==============================] - 0s 12ms/step - loss: 0.6568 - binary_accuracy: 0.6825 - val_loss: 0.6729 - val_binary_accuracy: 0.6050\n",
      "Epoch 4/100\n",
      "7/7 [==============================] - 0s 13ms/step - loss: 0.6393 - binary_accuracy: 0.7250 - val_loss: 0.6624 - val_binary_accuracy: 0.6165\n",
      "Epoch 5/100\n",
      "7/7 [==============================] - 0s 14ms/step - loss: 0.6213 - binary_accuracy: 0.7575 - val_loss: 0.6508 - val_binary_accuracy: 0.6446\n",
      "Epoch 6/100\n",
      "7/7 [==============================] - 0s 16ms/step - loss: 0.6023 - binary_accuracy: 0.7750 - val_loss: 0.6404 - val_binary_accuracy: 0.6545\n",
      "Epoch 7/100\n",
      "7/7 [==============================] - 0s 18ms/step - loss: 0.5828 - binary_accuracy: 0.8025 - val_loss: 0.6320 - val_binary_accuracy: 0.6512\n",
      "Epoch 8/100\n",
      "7/7 [==============================] - 0s 18ms/step - loss: 0.5648 - binary_accuracy: 0.8050 - val_loss: 0.6257 - val_binary_accuracy: 0.6496\n",
      "Epoch 9/100\n",
      "7/7 [==============================] - 0s 21ms/step - loss: 0.5471 - binary_accuracy: 0.8125 - val_loss: 0.6149 - val_binary_accuracy: 0.6579\n",
      "Epoch 10/100\n",
      "7/7 [==============================] - 0s 22ms/step - loss: 0.5274 - binary_accuracy: 0.8150 - val_loss: 0.6000 - val_binary_accuracy: 0.6793\n",
      "Epoch 11/100\n",
      "7/7 [==============================] - 0s 24ms/step - loss: 0.5080 - binary_accuracy: 0.8275 - val_loss: 0.5877 - val_binary_accuracy: 0.6777\n",
      "Epoch 12/100\n",
      "7/7 [==============================] - 0s 18ms/step - loss: 0.4908 - binary_accuracy: 0.8325 - val_loss: 0.5778 - val_binary_accuracy: 0.6810\n",
      "Epoch 13/100\n",
      "7/7 [==============================] - 0s 18ms/step - loss: 0.4713 - binary_accuracy: 0.8450 - val_loss: 0.5735 - val_binary_accuracy: 0.6893\n",
      "Epoch 14/100\n",
      "7/7 [==============================] - 0s 17ms/step - loss: 0.4574 - binary_accuracy: 0.8375 - val_loss: 0.5680 - val_binary_accuracy: 0.6926\n",
      "Epoch 15/100\n",
      "7/7 [==============================] - 0s 22ms/step - loss: 0.4400 - binary_accuracy: 0.8400 - val_loss: 0.5608 - val_binary_accuracy: 0.6942\n",
      "Epoch 16/100\n",
      "7/7 [==============================] - 0s 20ms/step - loss: 0.4190 - binary_accuracy: 0.8550 - val_loss: 0.5610 - val_binary_accuracy: 0.6909\n",
      "Epoch 17/100\n",
      "7/7 [==============================] - 0s 19ms/step - loss: 0.4032 - binary_accuracy: 0.8575 - val_loss: 0.5580 - val_binary_accuracy: 0.6926\n",
      "Epoch 18/100\n",
      "7/7 [==============================] - 0s 17ms/step - loss: 0.3915 - binary_accuracy: 0.8525 - val_loss: 0.5476 - val_binary_accuracy: 0.6926\n",
      "Epoch 19/100\n",
      "7/7 [==============================] - 0s 18ms/step - loss: 0.3740 - binary_accuracy: 0.8650 - val_loss: 0.5403 - val_binary_accuracy: 0.6926\n",
      "Epoch 20/100\n",
      "7/7 [==============================] - 0s 18ms/step - loss: 0.3598 - binary_accuracy: 0.8675 - val_loss: 0.5398 - val_binary_accuracy: 0.6975\n",
      "Epoch 21/100\n",
      "7/7 [==============================] - 0s 16ms/step - loss: 0.3462 - binary_accuracy: 0.8700 - val_loss: 0.5428 - val_binary_accuracy: 0.6942\n",
      "Epoch 22/100\n",
      "7/7 [==============================] - 0s 16ms/step - loss: 0.3340 - binary_accuracy: 0.8725 - val_loss: 0.5513 - val_binary_accuracy: 0.6860\n",
      "Epoch 23/100\n",
      "7/7 [==============================] - 0s 20ms/step - loss: 0.3226 - binary_accuracy: 0.8775 - val_loss: 0.5502 - val_binary_accuracy: 0.6760\n",
      "Epoch 24/100\n",
      "7/7 [==============================] - 0s 18ms/step - loss: 0.3084 - binary_accuracy: 0.8825 - val_loss: 0.5511 - val_binary_accuracy: 0.6843\n",
      "Epoch 25/100\n",
      "7/7 [==============================] - 0s 17ms/step - loss: 0.2974 - binary_accuracy: 0.8825 - val_loss: 0.5659 - val_binary_accuracy: 0.6777\n",
      "Epoch 26/100\n",
      "7/7 [==============================] - 0s 28ms/step - loss: 0.2872 - binary_accuracy: 0.8900 - val_loss: 0.5774 - val_binary_accuracy: 0.6711\n",
      "Epoch 27/100\n",
      "7/7 [==============================] - 0s 18ms/step - loss: 0.2804 - binary_accuracy: 0.8900 - val_loss: 0.5720 - val_binary_accuracy: 0.6727\n",
      "Epoch 28/100\n",
      "7/7 [==============================] - 0s 20ms/step - loss: 0.2707 - binary_accuracy: 0.8925 - val_loss: 0.5637 - val_binary_accuracy: 0.6760\n",
      "Epoch 29/100\n",
      "7/7 [==============================] - 0s 22ms/step - loss: 0.2648 - binary_accuracy: 0.8925 - val_loss: 0.5621 - val_binary_accuracy: 0.6777\n",
      "Epoch 30/100\n",
      "7/7 [==============================] - 0s 19ms/step - loss: 0.2580 - binary_accuracy: 0.8950 - val_loss: 0.5628 - val_binary_accuracy: 0.6793\n",
      "Epoch 31/100\n",
      "7/7 [==============================] - 0s 18ms/step - loss: 0.2513 - binary_accuracy: 0.8975 - val_loss: 0.5617 - val_binary_accuracy: 0.6744\n",
      "Epoch 32/100\n",
      "7/7 [==============================] - 0s 17ms/step - loss: 0.2452 - binary_accuracy: 0.9000 - val_loss: 0.5619 - val_binary_accuracy: 0.6744\n",
      "Epoch 33/100\n",
      "7/7 [==============================] - 0s 18ms/step - loss: 0.2421 - binary_accuracy: 0.9000 - val_loss: 0.5636 - val_binary_accuracy: 0.6793\n",
      "Epoch 34/100\n",
      "7/7 [==============================] - 0s 17ms/step - loss: 0.2391 - binary_accuracy: 0.9025 - val_loss: 0.5696 - val_binary_accuracy: 0.6777\n",
      "Epoch 35/100\n",
      "7/7 [==============================] - 0s 18ms/step - loss: 0.2355 - binary_accuracy: 0.9025 - val_loss: 0.5753 - val_binary_accuracy: 0.6744\n",
      "Epoch 36/100\n",
      "7/7 [==============================] - 0s 17ms/step - loss: 0.2350 - binary_accuracy: 0.9050 - val_loss: 0.5711 - val_binary_accuracy: 0.6760\n",
      "Epoch 37/100\n",
      "7/7 [==============================] - 0s 20ms/step - loss: 0.2291 - binary_accuracy: 0.9050 - val_loss: 0.5760 - val_binary_accuracy: 0.6711\n",
      "Epoch 38/100\n",
      "7/7 [==============================] - 0s 18ms/step - loss: 0.2259 - binary_accuracy: 0.9075 - val_loss: 0.5673 - val_binary_accuracy: 0.6727\n",
      "Epoch 39/100\n",
      "7/7 [==============================] - 0s 20ms/step - loss: 0.2215 - binary_accuracy: 0.9075 - val_loss: 0.5627 - val_binary_accuracy: 0.6843\n",
      "Epoch 40/100\n",
      "7/7 [==============================] - 0s 23ms/step - loss: 0.2152 - binary_accuracy: 0.9125 - val_loss: 0.5761 - val_binary_accuracy: 0.6810\n",
      "Epoch 41/100\n",
      "7/7 [==============================] - 0s 23ms/step - loss: 0.2121 - binary_accuracy: 0.9125 - val_loss: 0.5814 - val_binary_accuracy: 0.6810\n",
      "Epoch 42/100\n",
      "7/7 [==============================] - 0s 22ms/step - loss: 0.2083 - binary_accuracy: 0.9150 - val_loss: 0.5854 - val_binary_accuracy: 0.6843\n",
      "Epoch 43/100\n",
      "7/7 [==============================] - 0s 17ms/step - loss: 0.2031 - binary_accuracy: 0.9175 - val_loss: 0.5731 - val_binary_accuracy: 0.6893\n",
      "Epoch 44/100\n",
      "7/7 [==============================] - 0s 20ms/step - loss: 0.1813 - binary_accuracy: 0.9275 - val_loss: 0.5720 - val_binary_accuracy: 0.6826\n",
      "Epoch 45/100\n",
      "7/7 [==============================] - 0s 19ms/step - loss: 0.1805 - binary_accuracy: 0.9275 - val_loss: 0.5931 - val_binary_accuracy: 0.6744\n",
      "Epoch 46/100\n",
      "7/7 [==============================] - 0s 17ms/step - loss: 0.1734 - binary_accuracy: 0.9275 - val_loss: 0.6005 - val_binary_accuracy: 0.6744\n",
      "Epoch 47/100\n",
      "7/7 [==============================] - 0s 16ms/step - loss: 0.1723 - binary_accuracy: 0.9275 - val_loss: 0.6020 - val_binary_accuracy: 0.6826\n",
      "Epoch 48/100\n",
      "7/7 [==============================] - 0s 17ms/step - loss: 0.1720 - binary_accuracy: 0.9275 - val_loss: 0.6035 - val_binary_accuracy: 0.6810\n",
      "Epoch 49/100\n",
      "7/7 [==============================] - 0s 20ms/step - loss: 0.1691 - binary_accuracy: 0.9275 - val_loss: 0.6013 - val_binary_accuracy: 0.6860\n",
      "Epoch 50/100\n",
      "7/7 [==============================] - 0s 17ms/step - loss: 0.1764 - binary_accuracy: 0.9225 - val_loss: 0.6043 - val_binary_accuracy: 0.6860\n",
      "Epoch 51/100\n",
      "7/7 [==============================] - 0s 17ms/step - loss: 0.1681 - binary_accuracy: 0.9275 - val_loss: 0.6142 - val_binary_accuracy: 0.6711\n",
      "Epoch 52/100\n",
      "7/7 [==============================] - 0s 17ms/step - loss: 0.1692 - binary_accuracy: 0.9250 - val_loss: 0.6189 - val_binary_accuracy: 0.6727\n",
      "Epoch 53/100\n",
      "7/7 [==============================] - 0s 19ms/step - loss: 0.1697 - binary_accuracy: 0.9250 - val_loss: 0.6212 - val_binary_accuracy: 0.6727\n",
      "Epoch 54/100\n",
      "7/7 [==============================] - 0s 22ms/step - loss: 0.1668 - binary_accuracy: 0.9250 - val_loss: 0.6204 - val_binary_accuracy: 0.6810\n",
      "Epoch 55/100\n",
      "7/7 [==============================] - 0s 19ms/step - loss: 0.1638 - binary_accuracy: 0.9275 - val_loss: 0.6253 - val_binary_accuracy: 0.6793\n",
      "Epoch 56/100\n",
      "7/7 [==============================] - 0s 25ms/step - loss: 0.1623 - binary_accuracy: 0.9275 - val_loss: 0.6280 - val_binary_accuracy: 0.6810\n",
      "Epoch 57/100\n",
      "7/7 [==============================] - 0s 23ms/step - loss: 0.1619 - binary_accuracy: 0.9275 - val_loss: 0.6293 - val_binary_accuracy: 0.6777\n",
      "Epoch 58/100\n",
      "7/7 [==============================] - 0s 17ms/step - loss: 0.1610 - binary_accuracy: 0.9275 - val_loss: 0.6316 - val_binary_accuracy: 0.6793\n",
      "Epoch 59/100\n",
      "7/7 [==============================] - 0s 17ms/step - loss: 0.1607 - binary_accuracy: 0.9275 - val_loss: 0.6310 - val_binary_accuracy: 0.6810\n",
      "Epoch 60/100\n",
      "7/7 [==============================] - 0s 21ms/step - loss: 0.1604 - binary_accuracy: 0.9275 - val_loss: 0.6344 - val_binary_accuracy: 0.6793\n",
      "Epoch 61/100\n",
      "7/7 [==============================] - 0s 20ms/step - loss: 0.1598 - binary_accuracy: 0.9275 - val_loss: 0.6399 - val_binary_accuracy: 0.6793\n",
      "Epoch 62/100\n",
      "7/7 [==============================] - 0s 25ms/step - loss: 0.1596 - binary_accuracy: 0.9275 - val_loss: 0.6352 - val_binary_accuracy: 0.6760\n",
      "Epoch 63/100\n",
      "7/7 [==============================] - 0s 22ms/step - loss: 0.1599 - binary_accuracy: 0.9275 - val_loss: 0.6344 - val_binary_accuracy: 0.6760\n",
      "Epoch 64/100\n",
      "7/7 [==============================] - 0s 39ms/step - loss: 0.1593 - binary_accuracy: 0.9275 - val_loss: 0.6361 - val_binary_accuracy: 0.6777\n",
      "Epoch 65/100\n",
      "7/7 [==============================] - 0s 20ms/step - loss: 0.1585 - binary_accuracy: 0.9275 - val_loss: 0.6371 - val_binary_accuracy: 0.6777\n",
      "Epoch 66/100\n",
      "7/7 [==============================] - 0s 19ms/step - loss: 0.1584 - binary_accuracy: 0.9275 - val_loss: 0.6381 - val_binary_accuracy: 0.6777\n",
      "Epoch 67/100\n",
      "7/7 [==============================] - 0s 20ms/step - loss: 0.1579 - binary_accuracy: 0.9275 - val_loss: 0.6408 - val_binary_accuracy: 0.6777\n",
      "Epoch 68/100\n",
      "7/7 [==============================] - 0s 17ms/step - loss: 0.1577 - binary_accuracy: 0.9275 - val_loss: 0.6432 - val_binary_accuracy: 0.6777\n",
      "Epoch 69/100\n",
      "7/7 [==============================] - 0s 17ms/step - loss: 0.1574 - binary_accuracy: 0.9275 - val_loss: 0.6428 - val_binary_accuracy: 0.6777\n",
      "Epoch 70/100\n",
      "7/7 [==============================] - 0s 22ms/step - loss: 0.1573 - binary_accuracy: 0.9275 - val_loss: 0.6420 - val_binary_accuracy: 0.6744\n",
      "Epoch 71/100\n",
      "7/7 [==============================] - 0s 20ms/step - loss: 0.1546 - binary_accuracy: 0.9300 - val_loss: 0.6432 - val_binary_accuracy: 0.6760\n",
      "Epoch 72/100\n",
      "7/7 [==============================] - 0s 19ms/step - loss: 0.1543 - binary_accuracy: 0.9300 - val_loss: 0.6455 - val_binary_accuracy: 0.6777\n",
      "Epoch 73/100\n",
      "7/7 [==============================] - 0s 20ms/step - loss: 0.1538 - binary_accuracy: 0.9300 - val_loss: 0.6469 - val_binary_accuracy: 0.6777\n",
      "Epoch 74/100\n",
      "7/7 [==============================] - 0s 20ms/step - loss: 0.1536 - binary_accuracy: 0.9300 - val_loss: 0.6482 - val_binary_accuracy: 0.6777\n",
      "Epoch 75/100\n",
      "7/7 [==============================] - 0s 19ms/step - loss: 0.1534 - binary_accuracy: 0.9300 - val_loss: 0.6497 - val_binary_accuracy: 0.6777\n",
      "Epoch 76/100\n",
      "7/7 [==============================] - 0s 19ms/step - loss: 0.1533 - binary_accuracy: 0.9300 - val_loss: 0.6534 - val_binary_accuracy: 0.6793\n",
      "Epoch 77/100\n",
      "7/7 [==============================] - 0s 31ms/step - loss: 0.1531 - binary_accuracy: 0.9300 - val_loss: 0.6551 - val_binary_accuracy: 0.6793\n",
      "Epoch 78/100\n",
      "7/7 [==============================] - 0s 20ms/step - loss: 0.1530 - binary_accuracy: 0.9300 - val_loss: 0.6586 - val_binary_accuracy: 0.6843\n",
      "Epoch 79/100\n",
      "7/7 [==============================] - 0s 18ms/step - loss: 0.1528 - binary_accuracy: 0.9300 - val_loss: 0.6596 - val_binary_accuracy: 0.6843\n",
      "Epoch 80/100\n",
      "7/7 [==============================] - 0s 18ms/step - loss: 0.1526 - binary_accuracy: 0.9300 - val_loss: 0.6575 - val_binary_accuracy: 0.6843\n",
      "Epoch 81/100\n",
      "7/7 [==============================] - 0s 19ms/step - loss: 0.1529 - binary_accuracy: 0.9300 - val_loss: 0.6577 - val_binary_accuracy: 0.6860\n",
      "Epoch 82/100\n",
      "7/7 [==============================] - 0s 18ms/step - loss: 0.1525 - binary_accuracy: 0.9300 - val_loss: 0.6569 - val_binary_accuracy: 0.6843\n",
      "Epoch 83/100\n",
      "7/7 [==============================] - 0s 19ms/step - loss: 0.1522 - binary_accuracy: 0.9300 - val_loss: 0.6605 - val_binary_accuracy: 0.6826\n",
      "Epoch 84/100\n",
      "7/7 [==============================] - 0s 19ms/step - loss: 0.1534 - binary_accuracy: 0.9300 - val_loss: 0.6520 - val_binary_accuracy: 0.6810\n",
      "Epoch 85/100\n",
      "7/7 [==============================] - 0s 19ms/step - loss: 0.1537 - binary_accuracy: 0.9300 - val_loss: 0.6516 - val_binary_accuracy: 0.6909\n",
      "Epoch 86/100\n",
      "7/7 [==============================] - 0s 16ms/step - loss: 0.1512 - binary_accuracy: 0.9300 - val_loss: 0.6576 - val_binary_accuracy: 0.6942\n",
      "Epoch 87/100\n",
      "7/7 [==============================] - 0s 16ms/step - loss: 0.1554 - binary_accuracy: 0.9275 - val_loss: 0.6464 - val_binary_accuracy: 0.6942\n",
      "Epoch 88/100\n",
      "7/7 [==============================] - 0s 16ms/step - loss: 0.1531 - binary_accuracy: 0.9275 - val_loss: 0.6322 - val_binary_accuracy: 0.6926\n",
      "Epoch 89/100\n",
      "7/7 [==============================] - 0s 17ms/step - loss: 0.1487 - binary_accuracy: 0.9325 - val_loss: 0.6251 - val_binary_accuracy: 0.6926\n",
      "Epoch 90/100\n",
      "7/7 [==============================] - 0s 16ms/step - loss: 0.1527 - binary_accuracy: 0.9275 - val_loss: 0.6366 - val_binary_accuracy: 0.6942\n",
      "Epoch 91/100\n",
      "7/7 [==============================] - 0s 16ms/step - loss: 0.1574 - binary_accuracy: 0.9275 - val_loss: 0.6383 - val_binary_accuracy: 0.6926\n",
      "Epoch 92/100\n",
      "7/7 [==============================] - 0s 16ms/step - loss: 0.1658 - binary_accuracy: 0.9200 - val_loss: 0.6565 - val_binary_accuracy: 0.6843\n",
      "Epoch 93/100\n",
      "7/7 [==============================] - 0s 16ms/step - loss: 0.1559 - binary_accuracy: 0.9250 - val_loss: 0.6321 - val_binary_accuracy: 0.7025\n",
      "Epoch 94/100\n",
      "7/7 [==============================] - 0s 16ms/step - loss: 0.1567 - binary_accuracy: 0.9225 - val_loss: 0.6439 - val_binary_accuracy: 0.6959\n",
      "Epoch 95/100\n",
      "7/7 [==============================] - 0s 17ms/step - loss: 0.1607 - binary_accuracy: 0.9175 - val_loss: 0.6496 - val_binary_accuracy: 0.6810\n",
      "Epoch 96/100\n",
      "7/7 [==============================] - 0s 18ms/step - loss: 0.1604 - binary_accuracy: 0.9225 - val_loss: 0.6326 - val_binary_accuracy: 0.6876\n",
      "Epoch 97/100\n",
      "7/7 [==============================] - 0s 18ms/step - loss: 0.1554 - binary_accuracy: 0.9250 - val_loss: 0.6282 - val_binary_accuracy: 0.6975\n",
      "Epoch 98/100\n",
      "7/7 [==============================] - 0s 18ms/step - loss: 0.1524 - binary_accuracy: 0.9250 - val_loss: 0.6240 - val_binary_accuracy: 0.7107\n",
      "Epoch 99/100\n",
      "7/7 [==============================] - 0s 19ms/step - loss: 0.1584 - binary_accuracy: 0.9225 - val_loss: 0.5942 - val_binary_accuracy: 0.7124\n",
      "Epoch 100/100\n",
      "7/7 [==============================] - 0s 19ms/step - loss: 0.1570 - binary_accuracy: 0.9225 - val_loss: 0.5787 - val_binary_accuracy: 0.7140\n"
     ]
    }
   ],
   "source": [
    "train_size = 400\n",
    "X_train_, y_train_ = X_train[:train_size], y_train[:train_size]\n",
    "history = corelnet_model.fit(X_train_, y_train_, validation_data=(X_val, y_val),\n",
    "    verbose=1, epochs=100, batch_size=64)"
   ]
  },
  {
   "cell_type": "code",
   "execution_count": 35,
   "metadata": {},
   "outputs": [
    {
     "data": {
      "image/png": "[encoded data removed]",
      "text/plain": [
       "<Figure size 640x480 with 2 Axes>"
      ]
     },
     "metadata": {},
     "output_type": "display_data"
    }
   ],
   "source": [
    "utils.plot_history(history, ('loss', 'binary_accuracy'));"
   ]
  },
  {
   "cell_type": "code",
   "execution_count": 36,
   "metadata": {},
   "outputs": [
    {
     "name": "stdout",
     "output_type": "stream",
     "text": [
      "63/63 [==============================] - 0s 3ms/step - loss: 0.5142 - binary_accuracy: 0.7628\n"
     ]
    },
    {
     "data": {
      "text/plain": [
       "[0.5141657590866089, 0.762779176235199]"
      ]
     },
     "execution_count": 36,
     "metadata": {},
     "output_type": "execute_result"
    }
   ],
   "source": [
    "corelnet_model.evaluate(X_train, y_train)"
   ]
  },
  {
   "cell_type": "code",
   "execution_count": 37,
   "metadata": {},
   "outputs": [
    {
     "name": "stdout",
     "output_type": "stream",
     "text": [
      "45/45 [==============================] - 0s 3ms/step - loss: 0.6895 - binary_accuracy: 0.7082\n"
     ]
    },
    {
     "data": {
      "text/plain": [
       "[0.6894798874855042, 0.7082152962684631]"
      ]
     },
     "execution_count": 37,
     "metadata": {},
     "output_type": "execute_result"
    }
   ],
   "source": [
    "corelnet_model.evaluate(X_test, y_test)"
   ]
  },
  {
   "cell_type": "markdown",
   "metadata": {},
   "source": [
    "## Learning curve evaluation"
   ]
  },
  {
   "cell_type": "code",
   "execution_count": 38,
   "metadata": {},
   "outputs": [],
   "source": [
    "def create_callbacks(use_wandb=False, patience=10):\n",
    "    callbacks = []\n",
    "    callbacks.append(tf.keras.callbacks.EarlyStopping(monitor='val_loss', \n",
    "        patience=patience, min_delta=1e-2, baseline=0.6, mode='auto',\n",
    "        restore_best_weights=True, verbose=False))\n",
    "    if use_wandb: callbacks.append(wandb.keras.WandbMetricsLogger(log_freq='epoch'))\n",
    "    return callbacks\n",
    "\n",
    "def evaluate_model(model, X_test, y_test):\n",
    "    eval_dict = model.evaluate(X_test, y_test, return_dict=True, verbose=False)\n",
    "    return eval_dict\n",
    "\n",
    "def log_to_wandb(evaluation_dict):\n",
    "    wandb.log(evaluation_dict)"
   ]
  },
  {
   "cell_type": "code",
   "execution_count": 39,
   "metadata": {},
   "outputs": [],
   "source": [
    "start_trial = 0\n",
    "wandb_project_name = 'abstractor_pairwise_order'\n",
    "\n",
    "fit_kwargs = {'epochs': 100, 'batch_size': 64}\n",
    "\n",
    "def evaluate_learning_curves(\n",
    "    create_model, group_name,\n",
    "    X_train, y_train, X_val, y_val, X_test, y_test,\n",
    "    train_sizes, num_trials, use_wandb=False):\n",
    "\n",
    "    eval_dicts =[]\n",
    "\n",
    "    for train_size in tqdm(train_sizes, desc='train size'):\n",
    "\n",
    "        for trial in trange(start_trial, start_trial + num_trials, desc='trial', leave=False):\n",
    "\n",
    "            if use_wandb:\n",
    "                run = wandb.init(project=wandb_project_name, group=group_name, name=f'train size = {train_size}; trial = {trial}',\n",
    "                    config={'train size': train_size, 'trial': trial, 'group': group_name})\n",
    "            model = create_model()\n",
    "\n",
    "            sample_idx = np.random.choice(len(X_train), train_size, replace=False)\n",
    "            X_train_ = X_train[sample_idx]\n",
    "            y_train_ = y_train[sample_idx]\n",
    "\n",
    "            history = model.fit(X_train_, y_train_, validation_data=(X_val, y_val), verbose=0,\n",
    "                callbacks=create_callbacks(use_wandb=use_wandb), **fit_kwargs)\n",
    "\n",
    "            eval_dict = evaluate_model(model, X_test, y_test)\n",
    "\n",
    "            if use_wandb:\n",
    "                log_to_wandb(eval_dict)\n",
    "                wandb.finish(quiet=True)\n",
    "\n",
    "            eval_dict.update({'group': group_name, 'train_size': train_size, 'trial': trial})\n",
    "            eval_dicts.append(eval_dict)\n",
    "\n",
    "            del model\n",
    "\n",
    "    return eval_dicts\n"
   ]
  },
  {
   "cell_type": "code",
   "execution_count": 40,
   "metadata": {},
   "outputs": [],
   "source": [
    "def create_abstractor():\n",
    "    abstractor_model = AbstractorOrderModel(**orderabstractor_kwargs, name='order_abstractor')\n",
    "    abstractor_model.compile(loss='binary_crossentropy', optimizer=create_opt(), metrics=['binary_accuracy'])\n",
    "    abstractor_model(X_train[:32])\n",
    "\n",
    "    return abstractor_model\n",
    "\n",
    "def create_mlp():\n",
    "    mlp_model = MLPModel(**mlp_kwargs, name='mlp')\n",
    "    mlp_model.compile(loss='binary_crossentropy', optimizer=create_opt(), metrics=['binary_accuracy']);\n",
    "    mlp_model(X_train[:32]);\n",
    "    return mlp_model\n",
    "\n",
    "def create_predinet():\n",
    "    predinet_model = PrediNetModel(**predinet_kwargs, name='predinet')\n",
    "    predinet_model.compile(loss='binary_crossentropy', optimizer=create_opt(), metrics=['binary_accuracy']);\n",
    "    predinet_model(X_train[:32]);\n",
    "    return predinet_model\n",
    "\n",
    "def create_corelnet():\n",
    "    corelnet_model = CorelNetModel(**ordercorelnet_kwargs, name='order_corelnet')\n",
    "    corelnet_model.compile(loss='binary_crossentropy', optimizer=create_opt(), metrics=['binary_accuracy'])\n",
    "    corelnet_model(X_train[:32])\n",
    "    return corelnet_model\n",
    "\n",
    "def create_asymmetric_corelnet():\n",
    "    corelnet_model = CorelNetModelAsymmetric(**ordercorelnet_kwargs, name='order_corelnet')\n",
    "    corelnet_model.compile(loss='binary_crossentropy', optimizer=create_opt(), metrics=['binary_accuracy'])\n",
    "    corelnet_model(X_train[:32])\n",
    "    return corelnet_model\n"
   ]
  },
  {
   "cell_type": "code",
   "execution_count": 41,
   "metadata": {},
   "outputs": [
    {
     "name": "stderr",
     "output_type": "stream",
     "text": [
      "Failed to detect the name of this notebook, you can set it manually with the WANDB_NOTEBOOK_NAME environment variable to enable code saving.\n"
     ]
    },
    {
     "name": "stderr",
     "output_type": "stream",
     "text": [
      "\u001b[34m\u001b[1mwandb\u001b[0m: Currently logged in as: \u001b[33magastyasamayrana\u001b[0m. Use \u001b[1m`wandb login --relogin`\u001b[0m to force relogin\n"
     ]
    },
    {
     "data": {
      "text/plain": [
       "True"
      ]
     },
     "execution_count": 41,
     "metadata": {},
     "output_type": "execute_result"
    }
   ],
   "source": [
    "wandb.login()"
   ]
  },
  {
   "cell_type": "code",
   "execution_count": 42,
   "metadata": {},
   "outputs": [
    {
     "name": "stdout",
     "output_type": "stream",
     "text": [
      "evaluating abstractor\n"
     ]
    },
    {
     "name": "stderr",
     "output_type": "stream",
     "text": [
      "train size: 100%|██████████| 7/7 [08:50<00:00, 75.81s/it]\n"
     ]
    },
    {
     "name": "stdout",
     "output_type": "stream",
     "text": [
      "evaluating MLP\n"
     ]
    },
    {
     "name": "stderr",
     "output_type": "stream",
     "text": [
      "train size: 100%|██████████| 7/7 [03:17<00:00, 28.22s/it]\n"
     ]
    },
    {
     "name": "stdout",
     "output_type": "stream",
     "text": [
      "evaluating PrediNet\n"
     ]
    },
    {
     "name": "stderr",
     "output_type": "stream",
     "text": [
      "train size: 100%|██████████| 7/7 [04:17<00:00, 36.79s/it]\n"
     ]
    },
    {
     "name": "stdout",
     "output_type": "stream",
     "text": [
      "evaluating corelnet\n"
     ]
    },
    {
     "name": "stderr",
     "output_type": "stream",
     "text": [
      "train size: 100%|██████████| 7/7 [03:30<00:00, 30.14s/it]\n"
     ]
    },
    {
     "name": "stdout",
     "output_type": "stream",
     "text": [
      "evaluating asymmetric corelnet\n"
     ]
    },
    {
     "name": "stderr",
     "output_type": "stream",
     "text": [
      "train size: 100%|██████████| 7/7 [05:09<00:00, 44.28s/it]\n"
     ]
    }
   ],
   "source": [
    "num_trials = 10\n",
    "train_sizes = [5, 100, 200, 500, 1000, 1500, len(X_train)]\n",
    "\n",
    "print('evaluating abstractor')\n",
    "\n",
    "abstractor_eval_dicts = evaluate_learning_curves(\n",
    "    create_abstractor, 'abstractor',\n",
    "    X_train, y_train, X_val, y_val, X_test, y_test,\n",
    "    train_sizes, num_trials, use_wandb=False)\n",
    "\n",
    "print('evaluating MLP')\n",
    "\n",
    "mlp_eval_dicts = evaluate_learning_curves(\n",
    "    create_corelnet, 'mlp',\n",
    "    X_train, y_train, X_val, y_val, X_test, y_test,\n",
    "    train_sizes, num_trials, use_wandb=False)\n",
    "\n",
    "print('evaluating PrediNet')\n",
    "\n",
    "predinet_eval_dicts = evaluate_learning_curves(\n",
    "    create_predinet, 'predinet',\n",
    "    X_train, y_train, X_val, y_val, X_test, y_test,\n",
    "    train_sizes, num_trials, use_wandb=False)\n",
    "\n",
    "print('evaluating corelnet')\n",
    "\n",
    "corelnet_eval_dicts = evaluate_learning_curves(\n",
    "    create_corelnet, 'corelnet',\n",
    "    X_train, y_train, X_val, y_val, X_test, y_test,\n",
    "    train_sizes, num_trials, use_wandb=False)\n",
    "\n",
    "print('evaluating asymmetric corelnet')\n",
    "\n",
    "asymcorelnet_eval_dicts = evaluate_learning_curves(\n",
    "    create_asymmetric_corelnet, 'asymmetric_corelnet',\n",
    "    X_train, y_train, X_val, y_val, X_test, y_test,\n",
    "    train_sizes, num_trials, use_wandb=False)\n"
   ]
  },
  {
   "cell_type": "code",
   "execution_count": 43,
   "metadata": {},
   "outputs": [
    {
     "data": {
      "text/html": [
       "<div>\n",
       "<style scoped>\n",
       "    .dataframe tbody tr th:only-of-type {\n",
       "        vertical-align: middle;\n",
       "    }\n",
       "\n",
       "    .dataframe tbody tr th {\n",
       "        vertical-align: top;\n",
       "    }\n",
       "\n",
       "    .dataframe thead th {\n",
       "        text-align: right;\n",
       "    }\n",
       "</style>\n",
       "<table border=\"1\" class=\"dataframe\">\n",
       "  <thead>\n",
       "    <tr style=\"text-align: right;\">\n",
       "      <th></th>\n",
       "      <th>loss</th>\n",
       "      <th>binary_accuracy</th>\n",
       "      <th>group</th>\n",
       "      <th>train_size</th>\n",
       "      <th>trial</th>\n",
       "    </tr>\n",
       "  </thead>\n",
       "  <tbody>\n",
       "    <tr>\n",
       "      <th>0</th>\n",
       "      <td>0.731912</td>\n",
       "      <td>0.524788</td>\n",
       "      <td>abstractor</td>\n",
       "      <td>5</td>\n",
       "      <td>0</td>\n",
       "    </tr>\n",
       "    <tr>\n",
       "      <th>1</th>\n",
       "      <td>0.699542</td>\n",
       "      <td>0.529745</td>\n",
       "      <td>abstractor</td>\n",
       "      <td>5</td>\n",
       "      <td>1</td>\n",
       "    </tr>\n",
       "    <tr>\n",
       "      <th>2</th>\n",
       "      <td>0.771320</td>\n",
       "      <td>0.480878</td>\n",
       "      <td>abstractor</td>\n",
       "      <td>5</td>\n",
       "      <td>2</td>\n",
       "    </tr>\n",
       "    <tr>\n",
       "      <th>3</th>\n",
       "      <td>0.734152</td>\n",
       "      <td>0.513456</td>\n",
       "      <td>abstractor</td>\n",
       "      <td>5</td>\n",
       "      <td>3</td>\n",
       "    </tr>\n",
       "    <tr>\n",
       "      <th>4</th>\n",
       "      <td>0.766206</td>\n",
       "      <td>0.509207</td>\n",
       "      <td>abstractor</td>\n",
       "      <td>5</td>\n",
       "      <td>4</td>\n",
       "    </tr>\n",
       "    <tr>\n",
       "      <th>...</th>\n",
       "      <td>...</td>\n",
       "      <td>...</td>\n",
       "      <td>...</td>\n",
       "      <td>...</td>\n",
       "      <td>...</td>\n",
       "    </tr>\n",
       "    <tr>\n",
       "      <th>65</th>\n",
       "      <td>0.312104</td>\n",
       "      <td>0.827904</td>\n",
       "      <td>asymmetric_corelnet</td>\n",
       "      <td>2015</td>\n",
       "      <td>5</td>\n",
       "    </tr>\n",
       "    <tr>\n",
       "      <th>66</th>\n",
       "      <td>0.250696</td>\n",
       "      <td>0.859065</td>\n",
       "      <td>asymmetric_corelnet</td>\n",
       "      <td>2015</td>\n",
       "      <td>6</td>\n",
       "    </tr>\n",
       "    <tr>\n",
       "      <th>67</th>\n",
       "      <td>0.258037</td>\n",
       "      <td>0.843484</td>\n",
       "      <td>asymmetric_corelnet</td>\n",
       "      <td>2015</td>\n",
       "      <td>7</td>\n",
       "    </tr>\n",
       "    <tr>\n",
       "      <th>68</th>\n",
       "      <td>0.280612</td>\n",
       "      <td>0.854108</td>\n",
       "      <td>asymmetric_corelnet</td>\n",
       "      <td>2015</td>\n",
       "      <td>8</td>\n",
       "    </tr>\n",
       "    <tr>\n",
       "      <th>69</th>\n",
       "      <td>0.310548</td>\n",
       "      <td>0.828612</td>\n",
       "      <td>asymmetric_corelnet</td>\n",
       "      <td>2015</td>\n",
       "      <td>9</td>\n",
       "    </tr>\n",
       "  </tbody>\n",
       "</table>\n",
       "<p>350 rows × 5 columns</p>\n",
       "</div>"
      ],
      "text/plain": [
       "        loss  binary_accuracy                group  train_size  trial\n",
       "0   0.731912         0.524788           abstractor           5      0\n",
       "1   0.699542         0.529745           abstractor           5      1\n",
       "2   0.771320         0.480878           abstractor           5      2\n",
       "3   0.734152         0.513456           abstractor           5      3\n",
       "4   0.766206         0.509207           abstractor           5      4\n",
       "..       ...              ...                  ...         ...    ...\n",
       "65  0.312104         0.827904  asymmetric_corelnet        2015      5\n",
       "66  0.250696         0.859065  asymmetric_corelnet        2015      6\n",
       "67  0.258037         0.843484  asymmetric_corelnet        2015      7\n",
       "68  0.280612         0.854108  asymmetric_corelnet        2015      8\n",
       "69  0.310548         0.828612  asymmetric_corelnet        2015      9\n",
       "\n",
       "[350 rows x 5 columns]"
      ]
     },
     "execution_count": 43,
     "metadata": {},
     "output_type": "execute_result"
    }
   ],
   "source": [
    "import pandas as pd\n",
    "dfs = [pd.DataFrame(eval_dict) for eval_dict in (abstractor_eval_dicts, mlp_eval_dicts, predinet_eval_dicts, corelnet_eval_dicts, asymcorelnet_eval_dicts)]\n",
    "learning_curves_df = pd.concat(dfs)\n",
    "learning_curves_df"
   ]
  },
  {
   "cell_type": "code",
   "execution_count": 44,
   "metadata": {},
   "outputs": [],
   "source": [
    "import datetime\n",
    "datetimestr = datetime.datetime.now().strftime(\"%Y-%m-%d-%H%M\")\n",
    "learning_curves_df.to_csv(f'learning_curves_data_{datetimestr}.csv')"
   ]
  },
  {
   "cell_type": "code",
   "execution_count": 45,
   "metadata": {},
   "outputs": [],
   "source": [
    "%%capture\n",
    "import scipy\n",
    "learning_curves_agg_df = learning_curves_df.groupby(['group', 'train_size'])\n",
    "metrics = ['binary_accuracy']\n",
    "learning_curves_agg_df = learning_curves_agg_df[metrics].agg(\n",
    "    [np.mean, np.max, scipy.stats.sem, len])\n",
    "learning_curves_agg_df = learning_curves_agg_df.reset_index()\n",
    "learning_curves_agg_df.columns = [' '.join(col).strip() for col in learning_curves_agg_df.columns.values]"
   ]
  },
  {
   "cell_type": "code",
   "execution_count": 46,
   "metadata": {},
   "outputs": [
    {
     "ename": "ValueError",
     "evalue": "Mime type rendering requires nbformat>=4.2.0 but it is not installed",
     "output_type": "error",
     "traceback": [
      "\u001b[1;31m---------------------------------------------------------------------------\u001b[0m",
      "\u001b[1;31mValueError\u001b[0m                                Traceback (most recent call last)",
      "File \u001b[1;32mc:\\Users\\agast\\anaconda3\\envs\\plume-rl\\lib\\site-packages\\IPython\\core\\formatters.py:922\u001b[0m, in \u001b[0;36mIPythonDisplayFormatter.__call__\u001b[1;34m(self, obj)\u001b[0m\n\u001b[0;32m    920\u001b[0m method \u001b[38;5;241m=\u001b[39m get_real_method(obj, \u001b[38;5;28mself\u001b[39m\u001b[38;5;241m.\u001b[39mprint_method)\n\u001b[0;32m    921\u001b[0m \u001b[38;5;28;01mif\u001b[39;00m method \u001b[38;5;129;01mis\u001b[39;00m \u001b[38;5;129;01mnot\u001b[39;00m \u001b[38;5;28;01mNone\u001b[39;00m:\n\u001b[1;32m--> 922\u001b[0m     \u001b[43mmethod\u001b[49m\u001b[43m(\u001b[49m\u001b[43m)\u001b[49m\n\u001b[0;32m    923\u001b[0m     \u001b[38;5;28;01mreturn\u001b[39;00m \u001b[38;5;28;01mTrue\u001b[39;00m\n",
      "File \u001b[1;32mc:\\Users\\agast\\anaconda3\\envs\\plume-rl\\lib\\site-packages\\plotly\\basedatatypes.py:832\u001b[0m, in \u001b[0;36mBaseFigure._ipython_display_\u001b[1;34m(self)\u001b[0m\n\u001b[0;32m    829\u001b[0m \u001b[38;5;28;01mimport\u001b[39;00m \u001b[38;5;21;01mplotly\u001b[39;00m\u001b[38;5;21;01m.\u001b[39;00m\u001b[38;5;21;01mio\u001b[39;00m \u001b[38;5;28;01mas\u001b[39;00m \u001b[38;5;21;01mpio\u001b[39;00m\n\u001b[0;32m    831\u001b[0m \u001b[38;5;28;01mif\u001b[39;00m pio\u001b[38;5;241m.\u001b[39mrenderers\u001b[38;5;241m.\u001b[39mrender_on_display \u001b[38;5;129;01mand\u001b[39;00m pio\u001b[38;5;241m.\u001b[39mrenderers\u001b[38;5;241m.\u001b[39mdefault:\n\u001b[1;32m--> 832\u001b[0m     \u001b[43mpio\u001b[49m\u001b[38;5;241;43m.\u001b[39;49m\u001b[43mshow\u001b[49m\u001b[43m(\u001b[49m\u001b[38;5;28;43mself\u001b[39;49m\u001b[43m)\u001b[49m\n\u001b[0;32m    833\u001b[0m \u001b[38;5;28;01melse\u001b[39;00m:\n\u001b[0;32m    834\u001b[0m     \u001b[38;5;28mprint\u001b[39m(\u001b[38;5;28mrepr\u001b[39m(\u001b[38;5;28mself\u001b[39m))\n",
      "File \u001b[1;32mc:\\Users\\agast\\anaconda3\\envs\\plume-rl\\lib\\site-packages\\plotly\\io\\_renderers.py:394\u001b[0m, in \u001b[0;36mshow\u001b[1;34m(fig, renderer, validate, **kwargs)\u001b[0m\n\u001b[0;32m    389\u001b[0m         \u001b[38;5;28;01mraise\u001b[39;00m \u001b[38;5;167;01mValueError\u001b[39;00m(\n\u001b[0;32m    390\u001b[0m             \u001b[38;5;124m\"\u001b[39m\u001b[38;5;124mMime type rendering requires ipython but it is not installed\u001b[39m\u001b[38;5;124m\"\u001b[39m\n\u001b[0;32m    391\u001b[0m         )\n\u001b[0;32m    393\u001b[0m     \u001b[38;5;28;01mif\u001b[39;00m \u001b[38;5;129;01mnot\u001b[39;00m nbformat \u001b[38;5;129;01mor\u001b[39;00m Version(nbformat\u001b[38;5;241m.\u001b[39m__version__) \u001b[38;5;241m<\u001b[39m Version(\u001b[38;5;124m\"\u001b[39m\u001b[38;5;124m4.2.0\u001b[39m\u001b[38;5;124m\"\u001b[39m):\n\u001b[1;32m--> 394\u001b[0m         \u001b[38;5;28;01mraise\u001b[39;00m \u001b[38;5;167;01mValueError\u001b[39;00m(\n\u001b[0;32m    395\u001b[0m             \u001b[38;5;124m\"\u001b[39m\u001b[38;5;124mMime type rendering requires nbformat>=4.2.0 but it is not installed\u001b[39m\u001b[38;5;124m\"\u001b[39m\n\u001b[0;32m    396\u001b[0m         )\n\u001b[0;32m    398\u001b[0m     ipython_display\u001b[38;5;241m.\u001b[39mdisplay(bundle, raw\u001b[38;5;241m=\u001b[39m\u001b[38;5;28;01mTrue\u001b[39;00m)\n\u001b[0;32m    400\u001b[0m \u001b[38;5;66;03m# external renderers\u001b[39;00m\n",
      "\u001b[1;31mValueError\u001b[0m: Mime type rendering requires nbformat>=4.2.0 but it is not installed"
     ]
    },
    {
     "data": {
      "application/vnd.plotly.v1+json": {
       "config": {
        "plotlyServerURL": "https://plot.ly"
       },
       "data": [
        {
         "customdata": [
          [
           10
          ],
          [
           10
          ],
          [
           10
          ],
          [
           10
          ],
          [
           10
          ],
          [
           10
          ],
          [
           10
          ]
         ],
         "error_y": {
          "array": [
           0.005810243483072903,
           0.01594985653323685,
           0.01653035172441802,
           0.007654005015937872,
           0.004632605625915235,
           0.004871381454649504,
           0.0051042285102301235
          ]
         },
         "hovertemplate": "Model=abstractor<br>Training Set Size=%{x}<br>binary_accuracy=%{y}<br># of trials=%{customdata[0]}<extra></extra>",
         "legendgroup": "abstractor",
         "line": {
          "color": "#636efa",
          "dash": "solid"
         },
         "marker": {
          "symbol": "circle"
         },
         "mode": "lines+markers",
         "name": "abstractor",
         "orientation": "v",
         "showlegend": true,
         "type": "scatter",
         "x": [
          5,
          100,
          200,
          500,
          1000,
          1500,
          2015
         ],
         "xaxis": "x",
         "y": [
          0.5111898005008697,
          0.5548158705234527,
          0.645325779914856,
          0.8061614692211151,
          0.8696175575256347,
          0.9003540992736816,
          0.9207507073879242
         ],
         "yaxis": "y"
        },
        {
         "customdata": [
          [
           10
          ],
          [
           10
          ],
          [
           10
          ],
          [
           10
          ],
          [
           10
          ],
          [
           10
          ],
          [
           10
          ]
         ],
         "error_y": {
          "array": [
           0.007893979190532795,
           0.012211917408388884,
           0.01907313747445911,
           0.03511694174006862,
           0.02913630467675841,
           0.0024306266563900373,
           0.0055806901323165225
          ]
         },
         "hovertemplate": "Model=asymmetric_corelnet<br>Training Set Size=%{x}<br>binary_accuracy=%{y}<br># of trials=%{customdata[0]}<extra></extra>",
         "legendgroup": "asymmetric_corelnet",
         "line": {
          "color": "#EF553B",
          "dash": "solid"
         },
         "marker": {
          "symbol": "diamond"
         },
         "mode": "lines+markers",
         "name": "asymmetric_corelnet",
         "orientation": "v",
         "showlegend": true,
         "type": "scatter",
         "x": [
          5,
          100,
          200,
          500,
          1000,
          1500,
          2015
         ],
         "xaxis": "x",
         "y": [
          0.5090651601552963,
          0.5161473214626312,
          0.5604815900325775,
          0.6311614632606506,
          0.7594900816679001,
          0.8132436275482178,
          0.8388102054595947
         ],
         "yaxis": "y"
        },
        {
         "customdata": [
          [
           10
          ],
          [
           10
          ],
          [
           10
          ],
          [
           10
          ],
          [
           10
          ],
          [
           10
          ],
          [
           10
          ]
         ],
         "error_y": {
          "array": [
           0.0006046406038869968,
           0.0006490920613742781,
           0.0005763263296604895,
           0.000677656430068586,
           0.0034676066097596757,
           0.007966676518122943,
           0.018461958385677362
          ]
         },
         "hovertemplate": "Model=corelnet<br>Training Set Size=%{x}<br>binary_accuracy=%{y}<br># of trials=%{customdata[0]}<extra></extra>",
         "legendgroup": "corelnet",
         "line": {
          "color": "#00cc96",
          "dash": "solid"
         },
         "marker": {
          "symbol": "square"
         },
         "mode": "lines+markers",
         "name": "corelnet",
         "orientation": "v",
         "showlegend": true,
         "type": "scatter",
         "x": [
          5,
          100,
          200,
          500,
          1000,
          1500,
          2015
         ],
         "xaxis": "x",
         "y": [
          0.499150151014328,
          0.5005665868520737,
          0.49915014803409574,
          0.49900850355625154,
          0.5041076570749283,
          0.5102691233158112,
          0.5516997158527375
         ],
         "yaxis": "y"
        },
        {
         "customdata": [
          [
           10
          ],
          [
           10
          ],
          [
           10
          ],
          [
           10
          ],
          [
           10
          ],
          [
           10
          ],
          [
           10
          ]
         ],
         "error_y": {
          "array": [
           0.0006743587751595477,
           0.0007375113993453749,
           0.0007743729696002687,
           0.0006959140998590088,
           0.0008112801300505251,
           0.010617485528792228,
           0.008507134484306738
          ]
         },
         "hovertemplate": "Model=mlp<br>Training Set Size=%{x}<br>binary_accuracy=%{y}<br># of trials=%{customdata[0]}<extra></extra>",
         "legendgroup": "mlp",
         "line": {
          "color": "#ab63fa",
          "dash": "solid"
         },
         "marker": {
          "symbol": "x"
         },
         "mode": "lines+markers",
         "name": "mlp",
         "orientation": "v",
         "showlegend": true,
         "type": "scatter",
         "x": [
          5,
          100,
          200,
          500,
          1000,
          1500,
          2015
         ],
         "xaxis": "x",
         "y": [
          0.49915014803409574,
          0.4998583644628525,
          0.5005665838718414,
          0.49992918968200684,
          0.5002124786376954,
          0.536331444978714,
          0.5412889540195465
         ],
         "yaxis": "y"
        },
        {
         "customdata": [
          [
           10
          ],
          [
           10
          ],
          [
           10
          ],
          [
           10
          ],
          [
           10
          ],
          [
           10
          ],
          [
           10
          ]
         ],
         "error_y": {
          "array": [
           0.005894281191264899,
           0.004352691644079741,
           0.004599704067909963,
           0.006215641017912483,
           0.008141602070204158,
           0.00879366557462048,
           0.008415685428782968
          ]
         },
         "hovertemplate": "Model=predinet<br>Training Set Size=%{x}<br>binary_accuracy=%{y}<br># of trials=%{customdata[0]}<extra></extra>",
         "legendgroup": "predinet",
         "line": {
          "color": "#FFA15A",
          "dash": "solid"
         },
         "marker": {
          "symbol": "cross"
         },
         "mode": "lines+markers",
         "name": "predinet",
         "orientation": "v",
         "showlegend": true,
         "type": "scatter",
         "x": [
          5,
          100,
          200,
          500,
          1000,
          1500,
          2015
         ],
         "xaxis": "x",
         "y": [
          0.5044617503881454,
          0.5093484401702881,
          0.5194051027297973,
          0.549150139093399,
          0.6088526844978333,
          0.6577903747558593,
          0.6873937726020813
         ],
         "yaxis": "y"
        }
       ],
       "layout": {
        "height": 600,
        "legend": {
         "title": {
          "text": "Model"
         },
         "tracegroupgap": 0
        },
        "template": {
         "data": {
          "bar": [
           {
            "error_x": {
             "color": "#2a3f5f"
            },
            "error_y": {
             "color": "#2a3f5f"
            },
            "marker": {
             "line": {
              "color": "#E5ECF6",
              "width": 0.5
             },
             "pattern": {
              "fillmode": "overlay",
              "size": 10,
              "solidity": 0.2
             }
            },
            "type": "bar"
           }
          ],
          "barpolar": [
           {
            "marker": {
             "line": {
              "color": "#E5ECF6",
              "width": 0.5
             },
             "pattern": {
              "fillmode": "overlay",
              "size": 10,
              "solidity": 0.2
             }
            },
            "type": "barpolar"
           }
          ],
          "carpet": [
           {
            "aaxis": {
             "endlinecolor": "#2a3f5f",
             "gridcolor": "white",
             "linecolor": "white",
             "minorgridcolor": "white",
             "startlinecolor": "#2a3f5f"
            },
            "baxis": {
             "endlinecolor": "#2a3f5f",
             "gridcolor": "white",
             "linecolor": "white",
             "minorgridcolor": "white",
             "startlinecolor": "#2a3f5f"
            },
            "type": "carpet"
           }
          ],
          "choropleth": [
           {
            "colorbar": {
             "outlinewidth": 0,
             "ticks": ""
            },
            "type": "choropleth"
           }
          ],
          "contour": [
           {
            "colorbar": {
             "outlinewidth": 0,
             "ticks": ""
            },
            "colorscale": [
             [
              0,
              "#0d0887"
             ],
             [
              0.1111111111111111,
              "#46039f"
             ],
             [
              0.2222222222222222,
              "#7201a8"
             ],
             [
              0.3333333333333333,
              "#9c179e"
             ],
             [
              0.4444444444444444,
              "#bd3786"
             ],
             [
              0.5555555555555556,
              "#d8576b"
             ],
             [
              0.6666666666666666,
              "#ed7953"
             ],
             [
              0.7777777777777778,
              "#fb9f3a"
             ],
             [
              0.8888888888888888,
              "#fdca26"
             ],
             [
              1,
              "#f0f921"
             ]
            ],
            "type": "contour"
           }
          ],
          "contourcarpet": [
           {
            "colorbar": {
             "outlinewidth": 0,
             "ticks": ""
            },
            "type": "contourcarpet"
           }
          ],
          "heatmap": [
           {
            "colorbar": {
             "outlinewidth": 0,
             "ticks": ""
            },
            "colorscale": [
             [
              0,
              "#0d0887"
             ],
             [
              0.1111111111111111,
              "#46039f"
             ],
             [
              0.2222222222222222,
              "#7201a8"
             ],
             [
              0.3333333333333333,
              "#9c179e"
             ],
             [
              0.4444444444444444,
              "#bd3786"
             ],
             [
              0.5555555555555556,
              "#d8576b"
             ],
             [
              0.6666666666666666,
              "#ed7953"
             ],
             [
              0.7777777777777778,
              "#fb9f3a"
             ],
             [
              0.8888888888888888,
              "#fdca26"
             ],
             [
              1,
              "#f0f921"
             ]
            ],
            "type": "heatmap"
           }
          ],
          "heatmapgl": [
           {
            "colorbar": {
             "outlinewidth": 0,
             "ticks": ""
            },
            "colorscale": [
             [
              0,
              "#0d0887"
             ],
             [
              0.1111111111111111,
              "#46039f"
             ],
             [
              0.2222222222222222,
              "#7201a8"
             ],
             [
              0.3333333333333333,
              "#9c179e"
             ],
             [
              0.4444444444444444,
              "#bd3786"
             ],
             [
              0.5555555555555556,
              "#d8576b"
             ],
             [
              0.6666666666666666,
              "#ed7953"
             ],
             [
              0.7777777777777778,
              "#fb9f3a"
             ],
             [
              0.8888888888888888,
              "#fdca26"
             ],
             [
              1,
              "#f0f921"
             ]
            ],
            "type": "heatmapgl"
           }
          ],
          "histogram": [
           {
            "marker": {
             "pattern": {
              "fillmode": "overlay",
              "size": 10,
              "solidity": 0.2
             }
            },
            "type": "histogram"
           }
          ],
          "histogram2d": [
           {
            "colorbar": {
             "outlinewidth": 0,
             "ticks": ""
            },
            "colorscale": [
             [
              0,
              "#0d0887"
             ],
             [
              0.1111111111111111,
              "#46039f"
             ],
             [
              0.2222222222222222,
              "#7201a8"
             ],
             [
              0.3333333333333333,
              "#9c179e"
             ],
             [
              0.4444444444444444,
              "#bd3786"
             ],
             [
              0.5555555555555556,
              "#d8576b"
             ],
             [
              0.6666666666666666,
              "#ed7953"
             ],
             [
              0.7777777777777778,
              "#fb9f3a"
             ],
             [
              0.8888888888888888,
              "#fdca26"
             ],
             [
              1,
              "#f0f921"
             ]
            ],
            "type": "histogram2d"
           }
          ],
          "histogram2dcontour": [
           {
            "colorbar": {
             "outlinewidth": 0,
             "ticks": ""
            },
            "colorscale": [
             [
              0,
              "#0d0887"
             ],
             [
              0.1111111111111111,
              "#46039f"
             ],
             [
              0.2222222222222222,
              "#7201a8"
             ],
             [
              0.3333333333333333,
              "#9c179e"
             ],
             [
              0.4444444444444444,
              "#bd3786"
             ],
             [
              0.5555555555555556,
              "#d8576b"
             ],
             [
              0.6666666666666666,
              "#ed7953"
             ],
             [
              0.7777777777777778,
              "#fb9f3a"
             ],
             [
              0.8888888888888888,
              "#fdca26"
             ],
             [
              1,
              "#f0f921"
             ]
            ],
            "type": "histogram2dcontour"
           }
          ],
          "mesh3d": [
           {
            "colorbar": {
             "outlinewidth": 0,
             "ticks": ""
            },
            "type": "mesh3d"
           }
          ],
          "parcoords": [
           {
            "line": {
             "colorbar": {
              "outlinewidth": 0,
              "ticks": ""
             }
            },
            "type": "parcoords"
           }
          ],
          "pie": [
           {
            "automargin": true,
            "type": "pie"
           }
          ],
          "scatter": [
           {
            "fillpattern": {
             "fillmode": "overlay",
             "size": 10,
             "solidity": 0.2
            },
            "type": "scatter"
           }
          ],
          "scatter3d": [
           {
            "line": {
             "colorbar": {
              "outlinewidth": 0,
              "ticks": ""
             }
            },
            "marker": {
             "colorbar": {
              "outlinewidth": 0,
              "ticks": ""
             }
            },
            "type": "scatter3d"
           }
          ],
          "scattercarpet": [
           {
            "marker": {
             "colorbar": {
              "outlinewidth": 0,
              "ticks": ""
             }
            },
            "type": "scattercarpet"
           }
          ],
          "scattergeo": [
           {
            "marker": {
             "colorbar": {
              "outlinewidth": 0,
              "ticks": ""
             }
            },
            "type": "scattergeo"
           }
          ],
          "scattergl": [
           {
            "marker": {
             "colorbar": {
              "outlinewidth": 0,
              "ticks": ""
             }
            },
            "type": "scattergl"
           }
          ],
          "scattermapbox": [
           {
            "marker": {
             "colorbar": {
              "outlinewidth": 0,
              "ticks": ""
             }
            },
            "type": "scattermapbox"
           }
          ],
          "scatterpolar": [
           {
            "marker": {
             "colorbar": {
              "outlinewidth": 0,
              "ticks": ""
             }
            },
            "type": "scatterpolar"
           }
          ],
          "scatterpolargl": [
           {
            "marker": {
             "colorbar": {
              "outlinewidth": 0,
              "ticks": ""
             }
            },
            "type": "scatterpolargl"
           }
          ],
          "scatterternary": [
           {
            "marker": {
             "colorbar": {
              "outlinewidth": 0,
              "ticks": ""
             }
            },
            "type": "scatterternary"
           }
          ],
          "surface": [
           {
            "colorbar": {
             "outlinewidth": 0,
             "ticks": ""
            },
            "colorscale": [
             [
              0,
              "#0d0887"
             ],
             [
              0.1111111111111111,
              "#46039f"
             ],
             [
              0.2222222222222222,
              "#7201a8"
             ],
             [
              0.3333333333333333,
              "#9c179e"
             ],
             [
              0.4444444444444444,
              "#bd3786"
             ],
             [
              0.5555555555555556,
              "#d8576b"
             ],
             [
              0.6666666666666666,
              "#ed7953"
             ],
             [
              0.7777777777777778,
              "#fb9f3a"
             ],
             [
              0.8888888888888888,
              "#fdca26"
             ],
             [
              1,
              "#f0f921"
             ]
            ],
            "type": "surface"
           }
          ],
          "table": [
           {
            "cells": {
             "fill": {
              "color": "#EBF0F8"
             },
             "line": {
              "color": "white"
             }
            },
            "header": {
             "fill": {
              "color": "#C8D4E3"
             },
             "line": {
              "color": "white"
             }
            },
            "type": "table"
           }
          ]
         },
         "layout": {
          "annotationdefaults": {
           "arrowcolor": "#2a3f5f",
           "arrowhead": 0,
           "arrowwidth": 1
          },
          "autotypenumbers": "strict",
          "coloraxis": {
           "colorbar": {
            "outlinewidth": 0,
            "ticks": ""
           }
          },
          "colorscale": {
           "diverging": [
            [
             0,
             "#8e0152"
            ],
            [
             0.1,
             "#c51b7d"
            ],
            [
             0.2,
             "#de77ae"
            ],
            [
             0.3,
             "#f1b6da"
            ],
            [
             0.4,
             "#fde0ef"
            ],
            [
             0.5,
             "#f7f7f7"
            ],
            [
             0.6,
             "#e6f5d0"
            ],
            [
             0.7,
             "#b8e186"
            ],
            [
             0.8,
             "#7fbc41"
            ],
            [
             0.9,
             "#4d9221"
            ],
            [
             1,
             "#276419"
            ]
           ],
           "sequential": [
            [
             0,
             "#0d0887"
            ],
            [
             0.1111111111111111,
             "#46039f"
            ],
            [
             0.2222222222222222,
             "#7201a8"
            ],
            [
             0.3333333333333333,
             "#9c179e"
            ],
            [
             0.4444444444444444,
             "#bd3786"
            ],
            [
             0.5555555555555556,
             "#d8576b"
            ],
            [
             0.6666666666666666,
             "#ed7953"
            ],
            [
             0.7777777777777778,
             "#fb9f3a"
            ],
            [
             0.8888888888888888,
             "#fdca26"
            ],
            [
             1,
             "#f0f921"
            ]
           ],
           "sequentialminus": [
            [
             0,
             "#0d0887"
            ],
            [
             0.1111111111111111,
             "#46039f"
            ],
            [
             0.2222222222222222,
             "#7201a8"
            ],
            [
             0.3333333333333333,
             "#9c179e"
            ],
            [
             0.4444444444444444,
             "#bd3786"
            ],
            [
             0.5555555555555556,
             "#d8576b"
            ],
            [
             0.6666666666666666,
             "#ed7953"
            ],
            [
             0.7777777777777778,
             "#fb9f3a"
            ],
            [
             0.8888888888888888,
             "#fdca26"
            ],
            [
             1,
             "#f0f921"
            ]
           ]
          },
          "colorway": [
           "#636efa",
           "#EF553B",
           "#00cc96",
           "#ab63fa",
           "#FFA15A",
           "#19d3f3",
           "#FF6692",
           "#B6E880",
           "#FF97FF",
           "#FECB52"
          ],
          "font": {
           "color": "#2a3f5f"
          },
          "geo": {
           "bgcolor": "white",
           "lakecolor": "white",
           "landcolor": "#E5ECF6",
           "showlakes": true,
           "showland": true,
           "subunitcolor": "white"
          },
          "hoverlabel": {
           "align": "left"
          },
          "hovermode": "closest",
          "mapbox": {
           "style": "light"
          },
          "paper_bgcolor": "white",
          "plot_bgcolor": "#E5ECF6",
          "polar": {
           "angularaxis": {
            "gridcolor": "white",
            "linecolor": "white",
            "ticks": ""
           },
           "bgcolor": "#E5ECF6",
           "radialaxis": {
            "gridcolor": "white",
            "linecolor": "white",
            "ticks": ""
           }
          },
          "scene": {
           "xaxis": {
            "backgroundcolor": "#E5ECF6",
            "gridcolor": "white",
            "gridwidth": 2,
            "linecolor": "white",
            "showbackground": true,
            "ticks": "",
            "zerolinecolor": "white"
           },
           "yaxis": {
            "backgroundcolor": "#E5ECF6",
            "gridcolor": "white",
            "gridwidth": 2,
            "linecolor": "white",
            "showbackground": true,
            "ticks": "",
            "zerolinecolor": "white"
           },
           "zaxis": {
            "backgroundcolor": "#E5ECF6",
            "gridcolor": "white",
            "gridwidth": 2,
            "linecolor": "white",
            "showbackground": true,
            "ticks": "",
            "zerolinecolor": "white"
           }
          },
          "shapedefaults": {
           "line": {
            "color": "#2a3f5f"
           }
          },
          "ternary": {
           "aaxis": {
            "gridcolor": "white",
            "linecolor": "white",
            "ticks": ""
           },
           "baxis": {
            "gridcolor": "white",
            "linecolor": "white",
            "ticks": ""
           },
           "bgcolor": "#E5ECF6",
           "caxis": {
            "gridcolor": "white",
            "linecolor": "white",
            "ticks": ""
           }
          },
          "title": {
           "x": 0.05
          },
          "xaxis": {
           "automargin": true,
           "gridcolor": "white",
           "linecolor": "white",
           "ticks": "",
           "title": {
            "standoff": 15
           },
           "zerolinecolor": "white",
           "zerolinewidth": 2
          },
          "yaxis": {
           "automargin": true,
           "gridcolor": "white",
           "linecolor": "white",
           "ticks": "",
           "title": {
            "standoff": 15
           },
           "zerolinecolor": "white",
           "zerolinewidth": 2
          }
         }
        },
        "title": {
         "text": "Pairwise Order Relation Learning Curves"
        },
        "width": 1000,
        "xaxis": {
         "anchor": "y",
         "domain": [
          0,
          1
         ],
         "title": {
          "text": "Training Set Size"
         }
        },
        "yaxis": {
         "anchor": "x",
         "domain": [
          0,
          1
         ],
         "title": {
          "text": "binary_accuracy"
         }
        }
       }
      },
      "text/html": [
       "<div>                        <script type=\"text/javascript\">window.PlotlyConfig = {MathJaxConfig: 'local'};</script>\n",
       "        <script charset=\"utf-8\" src=\"https://cdn.plot.ly/plotly-2.29.1.min.js\"></script>                <div id=\"8e7ee9a3-2ef5-4207-8648-159ec3680c95\" class=\"plotly-graph-div\" style=\"height:600px; width:1000px;\"></div>            <script type=\"text/javascript\">                                    window.PLOTLYENV=window.PLOTLYENV || {};                                    if (document.getElementById(\"8e7ee9a3-2ef5-4207-8648-159ec3680c95\")) {                    Plotly.newPlot(                        \"8e7ee9a3-2ef5-4207-8648-159ec3680c95\",                        [{\"customdata\":[[10],[10],[10],[10],[10],[10],[10]],\"error_y\":{\"array\":[0.005810243483072903,0.01594985653323685,0.01653035172441802,0.007654005015937872,0.004632605625915235,0.004871381454649504,0.0051042285102301235]},\"hovertemplate\":\"Model=abstractor\\u003cbr\\u003eTraining Set Size=%{x}\\u003cbr\\u003ebinary_accuracy=%{y}\\u003cbr\\u003e# of trials=%{customdata[0]}\\u003cextra\\u003e\\u003c\\u002fextra\\u003e\",\"legendgroup\":\"abstractor\",\"line\":{\"color\":\"#636efa\",\"dash\":\"solid\"},\"marker\":{\"symbol\":\"circle\"},\"mode\":\"lines+markers\",\"name\":\"abstractor\",\"orientation\":\"v\",\"showlegend\":true,\"x\":[5,100,200,500,1000,1500,2015],\"xaxis\":\"x\",\"y\":[0.5111898005008697,0.5548158705234527,0.645325779914856,0.8061614692211151,0.8696175575256347,0.9003540992736816,0.9207507073879242],\"yaxis\":\"y\",\"type\":\"scatter\"},{\"customdata\":[[10],[10],[10],[10],[10],[10],[10]],\"error_y\":{\"array\":[0.007893979190532795,0.012211917408388884,0.01907313747445911,0.03511694174006862,0.02913630467675841,0.0024306266563900373,0.0055806901323165225]},\"hovertemplate\":\"Model=asymmetric_corelnet\\u003cbr\\u003eTraining Set Size=%{x}\\u003cbr\\u003ebinary_accuracy=%{y}\\u003cbr\\u003e# of trials=%{customdata[0]}\\u003cextra\\u003e\\u003c\\u002fextra\\u003e\",\"legendgroup\":\"asymmetric_corelnet\",\"line\":{\"color\":\"#EF553B\",\"dash\":\"solid\"},\"marker\":{\"symbol\":\"diamond\"},\"mode\":\"lines+markers\",\"name\":\"asymmetric_corelnet\",\"orientation\":\"v\",\"showlegend\":true,\"x\":[5,100,200,500,1000,1500,2015],\"xaxis\":\"x\",\"y\":[0.5090651601552963,0.5161473214626312,0.5604815900325775,0.6311614632606506,0.7594900816679001,0.8132436275482178,0.8388102054595947],\"yaxis\":\"y\",\"type\":\"scatter\"},{\"customdata\":[[10],[10],[10],[10],[10],[10],[10]],\"error_y\":{\"array\":[0.0006046406038869968,0.0006490920613742781,0.0005763263296604895,0.000677656430068586,0.0034676066097596757,0.007966676518122943,0.018461958385677362]},\"hovertemplate\":\"Model=corelnet\\u003cbr\\u003eTraining Set Size=%{x}\\u003cbr\\u003ebinary_accuracy=%{y}\\u003cbr\\u003e# of trials=%{customdata[0]}\\u003cextra\\u003e\\u003c\\u002fextra\\u003e\",\"legendgroup\":\"corelnet\",\"line\":{\"color\":\"#00cc96\",\"dash\":\"solid\"},\"marker\":{\"symbol\":\"square\"},\"mode\":\"lines+markers\",\"name\":\"corelnet\",\"orientation\":\"v\",\"showlegend\":true,\"x\":[5,100,200,500,1000,1500,2015],\"xaxis\":\"x\",\"y\":[0.499150151014328,0.5005665868520737,0.49915014803409574,0.49900850355625154,0.5041076570749283,0.5102691233158112,0.5516997158527375],\"yaxis\":\"y\",\"type\":\"scatter\"},{\"customdata\":[[10],[10],[10],[10],[10],[10],[10]],\"error_y\":{\"array\":[0.0006743587751595477,0.0007375113993453749,0.0007743729696002687,0.0006959140998590088,0.0008112801300505251,0.010617485528792228,0.008507134484306738]},\"hovertemplate\":\"Model=mlp\\u003cbr\\u003eTraining Set Size=%{x}\\u003cbr\\u003ebinary_accuracy=%{y}\\u003cbr\\u003e# of trials=%{customdata[0]}\\u003cextra\\u003e\\u003c\\u002fextra\\u003e\",\"legendgroup\":\"mlp\",\"line\":{\"color\":\"#ab63fa\",\"dash\":\"solid\"},\"marker\":{\"symbol\":\"x\"},\"mode\":\"lines+markers\",\"name\":\"mlp\",\"orientation\":\"v\",\"showlegend\":true,\"x\":[5,100,200,500,1000,1500,2015],\"xaxis\":\"x\",\"y\":[0.49915014803409574,0.4998583644628525,0.5005665838718414,0.49992918968200684,0.5002124786376954,0.536331444978714,0.5412889540195465],\"yaxis\":\"y\",\"type\":\"scatter\"},{\"customdata\":[[10],[10],[10],[10],[10],[10],[10]],\"error_y\":{\"array\":[0.005894281191264899,0.004352691644079741,0.004599704067909963,0.006215641017912483,0.008141602070204158,0.00879366557462048,0.008415685428782968]},\"hovertemplate\":\"Model=predinet\\u003cbr\\u003eTraining Set Size=%{x}\\u003cbr\\u003ebinary_accuracy=%{y}\\u003cbr\\u003e# of trials=%{customdata[0]}\\u003cextra\\u003e\\u003c\\u002fextra\\u003e\",\"legendgroup\":\"predinet\",\"line\":{\"color\":\"#FFA15A\",\"dash\":\"solid\"},\"marker\":{\"symbol\":\"cross\"},\"mode\":\"lines+markers\",\"name\":\"predinet\",\"orientation\":\"v\",\"showlegend\":true,\"x\":[5,100,200,500,1000,1500,2015],\"xaxis\":\"x\",\"y\":[0.5044617503881454,0.5093484401702881,0.5194051027297973,0.549150139093399,0.6088526844978333,0.6577903747558593,0.6873937726020813],\"yaxis\":\"y\",\"type\":\"scatter\"}],                        {\"template\":{\"data\":{\"histogram2dcontour\":[{\"type\":\"histogram2dcontour\",\"colorbar\":{\"outlinewidth\":0,\"ticks\":\"\"},\"colorscale\":[[0.0,\"#0d0887\"],[0.1111111111111111,\"#46039f\"],[0.2222222222222222,\"#7201a8\"],[0.3333333333333333,\"#9c179e\"],[0.4444444444444444,\"#bd3786\"],[0.5555555555555556,\"#d8576b\"],[0.6666666666666666,\"#ed7953\"],[0.7777777777777778,\"#fb9f3a\"],[0.8888888888888888,\"#fdca26\"],[1.0,\"#f0f921\"]]}],\"choropleth\":[{\"type\":\"choropleth\",\"colorbar\":{\"outlinewidth\":0,\"ticks\":\"\"}}],\"histogram2d\":[{\"type\":\"histogram2d\",\"colorbar\":{\"outlinewidth\":0,\"ticks\":\"\"},\"colorscale\":[[0.0,\"#0d0887\"],[0.1111111111111111,\"#46039f\"],[0.2222222222222222,\"#7201a8\"],[0.3333333333333333,\"#9c179e\"],[0.4444444444444444,\"#bd3786\"],[0.5555555555555556,\"#d8576b\"],[0.6666666666666666,\"#ed7953\"],[0.7777777777777778,\"#fb9f3a\"],[0.8888888888888888,\"#fdca26\"],[1.0,\"#f0f921\"]]}],\"heatmap\":[{\"type\":\"heatmap\",\"colorbar\":{\"outlinewidth\":0,\"ticks\":\"\"},\"colorscale\":[[0.0,\"#0d0887\"],[0.1111111111111111,\"#46039f\"],[0.2222222222222222,\"#7201a8\"],[0.3333333333333333,\"#9c179e\"],[0.4444444444444444,\"#bd3786\"],[0.5555555555555556,\"#d8576b\"],[0.6666666666666666,\"#ed7953\"],[0.7777777777777778,\"#fb9f3a\"],[0.8888888888888888,\"#fdca26\"],[1.0,\"#f0f921\"]]}],\"heatmapgl\":[{\"type\":\"heatmapgl\",\"colorbar\":{\"outlinewidth\":0,\"ticks\":\"\"},\"colorscale\":[[0.0,\"#0d0887\"],[0.1111111111111111,\"#46039f\"],[0.2222222222222222,\"#7201a8\"],[0.3333333333333333,\"#9c179e\"],[0.4444444444444444,\"#bd3786\"],[0.5555555555555556,\"#d8576b\"],[0.6666666666666666,\"#ed7953\"],[0.7777777777777778,\"#fb9f3a\"],[0.8888888888888888,\"#fdca26\"],[1.0,\"#f0f921\"]]}],\"contourcarpet\":[{\"type\":\"contourcarpet\",\"colorbar\":{\"outlinewidth\":0,\"ticks\":\"\"}}],\"contour\":[{\"type\":\"contour\",\"colorbar\":{\"outlinewidth\":0,\"ticks\":\"\"},\"colorscale\":[[0.0,\"#0d0887\"],[0.1111111111111111,\"#46039f\"],[0.2222222222222222,\"#7201a8\"],[0.3333333333333333,\"#9c179e\"],[0.4444444444444444,\"#bd3786\"],[0.5555555555555556,\"#d8576b\"],[0.6666666666666666,\"#ed7953\"],[0.7777777777777778,\"#fb9f3a\"],[0.8888888888888888,\"#fdca26\"],[1.0,\"#f0f921\"]]}],\"surface\":[{\"type\":\"surface\",\"colorbar\":{\"outlinewidth\":0,\"ticks\":\"\"},\"colorscale\":[[0.0,\"#0d0887\"],[0.1111111111111111,\"#46039f\"],[0.2222222222222222,\"#7201a8\"],[0.3333333333333333,\"#9c179e\"],[0.4444444444444444,\"#bd3786\"],[0.5555555555555556,\"#d8576b\"],[0.6666666666666666,\"#ed7953\"],[0.7777777777777778,\"#fb9f3a\"],[0.8888888888888888,\"#fdca26\"],[1.0,\"#f0f921\"]]}],\"mesh3d\":[{\"type\":\"mesh3d\",\"colorbar\":{\"outlinewidth\":0,\"ticks\":\"\"}}],\"scatter\":[{\"fillpattern\":{\"fillmode\":\"overlay\",\"size\":10,\"solidity\":0.2},\"type\":\"scatter\"}],\"parcoords\":[{\"type\":\"parcoords\",\"line\":{\"colorbar\":{\"outlinewidth\":0,\"ticks\":\"\"}}}],\"scatterpolargl\":[{\"type\":\"scatterpolargl\",\"marker\":{\"colorbar\":{\"outlinewidth\":0,\"ticks\":\"\"}}}],\"bar\":[{\"error_x\":{\"color\":\"#2a3f5f\"},\"error_y\":{\"color\":\"#2a3f5f\"},\"marker\":{\"line\":{\"color\":\"#E5ECF6\",\"width\":0.5},\"pattern\":{\"fillmode\":\"overlay\",\"size\":10,\"solidity\":0.2}},\"type\":\"bar\"}],\"scattergeo\":[{\"type\":\"scattergeo\",\"marker\":{\"colorbar\":{\"outlinewidth\":0,\"ticks\":\"\"}}}],\"scatterpolar\":[{\"type\":\"scatterpolar\",\"marker\":{\"colorbar\":{\"outlinewidth\":0,\"ticks\":\"\"}}}],\"histogram\":[{\"marker\":{\"pattern\":{\"fillmode\":\"overlay\",\"size\":10,\"solidity\":0.2}},\"type\":\"histogram\"}],\"scattergl\":[{\"type\":\"scattergl\",\"marker\":{\"colorbar\":{\"outlinewidth\":0,\"ticks\":\"\"}}}],\"scatter3d\":[{\"type\":\"scatter3d\",\"line\":{\"colorbar\":{\"outlinewidth\":0,\"ticks\":\"\"}},\"marker\":{\"colorbar\":{\"outlinewidth\":0,\"ticks\":\"\"}}}],\"scattermapbox\":[{\"type\":\"scattermapbox\",\"marker\":{\"colorbar\":{\"outlinewidth\":0,\"ticks\":\"\"}}}],\"scatterternary\":[{\"type\":\"scatterternary\",\"marker\":{\"colorbar\":{\"outlinewidth\":0,\"ticks\":\"\"}}}],\"scattercarpet\":[{\"type\":\"scattercarpet\",\"marker\":{\"colorbar\":{\"outlinewidth\":0,\"ticks\":\"\"}}}],\"carpet\":[{\"aaxis\":{\"endlinecolor\":\"#2a3f5f\",\"gridcolor\":\"white\",\"linecolor\":\"white\",\"minorgridcolor\":\"white\",\"startlinecolor\":\"#2a3f5f\"},\"baxis\":{\"endlinecolor\":\"#2a3f5f\",\"gridcolor\":\"white\",\"linecolor\":\"white\",\"minorgridcolor\":\"white\",\"startlinecolor\":\"#2a3f5f\"},\"type\":\"carpet\"}],\"table\":[{\"cells\":{\"fill\":{\"color\":\"#EBF0F8\"},\"line\":{\"color\":\"white\"}},\"header\":{\"fill\":{\"color\":\"#C8D4E3\"},\"line\":{\"color\":\"white\"}},\"type\":\"table\"}],\"barpolar\":[{\"marker\":{\"line\":{\"color\":\"#E5ECF6\",\"width\":0.5},\"pattern\":{\"fillmode\":\"overlay\",\"size\":10,\"solidity\":0.2}},\"type\":\"barpolar\"}],\"pie\":[{\"automargin\":true,\"type\":\"pie\"}]},\"layout\":{\"autotypenumbers\":\"strict\",\"colorway\":[\"#636efa\",\"#EF553B\",\"#00cc96\",\"#ab63fa\",\"#FFA15A\",\"#19d3f3\",\"#FF6692\",\"#B6E880\",\"#FF97FF\",\"#FECB52\"],\"font\":{\"color\":\"#2a3f5f\"},\"hovermode\":\"closest\",\"hoverlabel\":{\"align\":\"left\"},\"paper_bgcolor\":\"white\",\"plot_bgcolor\":\"#E5ECF6\",\"polar\":{\"bgcolor\":\"#E5ECF6\",\"angularaxis\":{\"gridcolor\":\"white\",\"linecolor\":\"white\",\"ticks\":\"\"},\"radialaxis\":{\"gridcolor\":\"white\",\"linecolor\":\"white\",\"ticks\":\"\"}},\"ternary\":{\"bgcolor\":\"#E5ECF6\",\"aaxis\":{\"gridcolor\":\"white\",\"linecolor\":\"white\",\"ticks\":\"\"},\"baxis\":{\"gridcolor\":\"white\",\"linecolor\":\"white\",\"ticks\":\"\"},\"caxis\":{\"gridcolor\":\"white\",\"linecolor\":\"white\",\"ticks\":\"\"}},\"coloraxis\":{\"colorbar\":{\"outlinewidth\":0,\"ticks\":\"\"}},\"colorscale\":{\"sequential\":[[0.0,\"#0d0887\"],[0.1111111111111111,\"#46039f\"],[0.2222222222222222,\"#7201a8\"],[0.3333333333333333,\"#9c179e\"],[0.4444444444444444,\"#bd3786\"],[0.5555555555555556,\"#d8576b\"],[0.6666666666666666,\"#ed7953\"],[0.7777777777777778,\"#fb9f3a\"],[0.8888888888888888,\"#fdca26\"],[1.0,\"#f0f921\"]],\"sequentialminus\":[[0.0,\"#0d0887\"],[0.1111111111111111,\"#46039f\"],[0.2222222222222222,\"#7201a8\"],[0.3333333333333333,\"#9c179e\"],[0.4444444444444444,\"#bd3786\"],[0.5555555555555556,\"#d8576b\"],[0.6666666666666666,\"#ed7953\"],[0.7777777777777778,\"#fb9f3a\"],[0.8888888888888888,\"#fdca26\"],[1.0,\"#f0f921\"]],\"diverging\":[[0,\"#8e0152\"],[0.1,\"#c51b7d\"],[0.2,\"#de77ae\"],[0.3,\"#f1b6da\"],[0.4,\"#fde0ef\"],[0.5,\"#f7f7f7\"],[0.6,\"#e6f5d0\"],[0.7,\"#b8e186\"],[0.8,\"#7fbc41\"],[0.9,\"#4d9221\"],[1,\"#276419\"]]},\"xaxis\":{\"gridcolor\":\"white\",\"linecolor\":\"white\",\"ticks\":\"\",\"title\":{\"standoff\":15},\"zerolinecolor\":\"white\",\"automargin\":true,\"zerolinewidth\":2},\"yaxis\":{\"gridcolor\":\"white\",\"linecolor\":\"white\",\"ticks\":\"\",\"title\":{\"standoff\":15},\"zerolinecolor\":\"white\",\"automargin\":true,\"zerolinewidth\":2},\"scene\":{\"xaxis\":{\"backgroundcolor\":\"#E5ECF6\",\"gridcolor\":\"white\",\"linecolor\":\"white\",\"showbackground\":true,\"ticks\":\"\",\"zerolinecolor\":\"white\",\"gridwidth\":2},\"yaxis\":{\"backgroundcolor\":\"#E5ECF6\",\"gridcolor\":\"white\",\"linecolor\":\"white\",\"showbackground\":true,\"ticks\":\"\",\"zerolinecolor\":\"white\",\"gridwidth\":2},\"zaxis\":{\"backgroundcolor\":\"#E5ECF6\",\"gridcolor\":\"white\",\"linecolor\":\"white\",\"showbackground\":true,\"ticks\":\"\",\"zerolinecolor\":\"white\",\"gridwidth\":2}},\"shapedefaults\":{\"line\":{\"color\":\"#2a3f5f\"}},\"annotationdefaults\":{\"arrowcolor\":\"#2a3f5f\",\"arrowhead\":0,\"arrowwidth\":1},\"geo\":{\"bgcolor\":\"white\",\"landcolor\":\"#E5ECF6\",\"subunitcolor\":\"white\",\"showland\":true,\"showlakes\":true,\"lakecolor\":\"white\"},\"title\":{\"x\":0.05},\"mapbox\":{\"style\":\"light\"}}},\"xaxis\":{\"anchor\":\"y\",\"domain\":[0.0,1.0],\"title\":{\"text\":\"Training Set Size\"}},\"yaxis\":{\"anchor\":\"x\",\"domain\":[0.0,1.0],\"title\":{\"text\":\"binary_accuracy\"}},\"legend\":{\"title\":{\"text\":\"Model\"},\"tracegroupgap\":0},\"title\":{\"text\":\"Pairwise Order Relation Learning Curves\"},\"height\":600,\"width\":1000},                        {\"responsive\": true}                    )                };                            </script>        </div>"
      ],
      "text/plain": [
       "Figure({\n",
       "    'data': [{'customdata': array([[10],\n",
       "                                   [10],\n",
       "                                   [10],\n",
       "                                   [10],\n",
       "                                   [10],\n",
       "                                   [10],\n",
       "                                   [10]], dtype=int64),\n",
       "              'error_y': {'array': array([0.00581024, 0.01594986, 0.01653035, 0.00765401, 0.00463261, 0.00487138,\n",
       "                                          0.00510423])},\n",
       "              'hovertemplate': ('Model=abstractor<br>Training S' ... '{customdata[0]}<extra></extra>'),\n",
       "              'legendgroup': 'abstractor',\n",
       "              'line': {'color': '#636efa', 'dash': 'solid'},\n",
       "              'marker': {'symbol': 'circle'},\n",
       "              'mode': 'lines+markers',\n",
       "              'name': 'abstractor',\n",
       "              'orientation': 'v',\n",
       "              'showlegend': True,\n",
       "              'type': 'scatter',\n",
       "              'x': array([   5,  100,  200,  500, 1000, 1500, 2015], dtype=int64),\n",
       "              'xaxis': 'x',\n",
       "              'y': array([0.5111898 , 0.55481587, 0.64532578, 0.80616147, 0.86961756, 0.9003541 ,\n",
       "                          0.92075071]),\n",
       "              'yaxis': 'y'},\n",
       "             {'customdata': array([[10],\n",
       "                                   [10],\n",
       "                                   [10],\n",
       "                                   [10],\n",
       "                                   [10],\n",
       "                                   [10],\n",
       "                                   [10]], dtype=int64),\n",
       "              'error_y': {'array': array([0.00789398, 0.01221192, 0.01907314, 0.03511694, 0.0291363 , 0.00243063,\n",
       "                                          0.00558069])},\n",
       "              'hovertemplate': ('Model=asymmetric_corelnet<br>T' ... '{customdata[0]}<extra></extra>'),\n",
       "              'legendgroup': 'asymmetric_corelnet',\n",
       "              'line': {'color': '#EF553B', 'dash': 'solid'},\n",
       "              'marker': {'symbol': 'diamond'},\n",
       "              'mode': 'lines+markers',\n",
       "              'name': 'asymmetric_corelnet',\n",
       "              'orientation': 'v',\n",
       "              'showlegend': True,\n",
       "              'type': 'scatter',\n",
       "              'x': array([   5,  100,  200,  500, 1000, 1500, 2015], dtype=int64),\n",
       "              'xaxis': 'x',\n",
       "              'y': array([0.50906516, 0.51614732, 0.56048159, 0.63116146, 0.75949008, 0.81324363,\n",
       "                          0.83881021]),\n",
       "              'yaxis': 'y'},\n",
       "             {'customdata': array([[10],\n",
       "                                   [10],\n",
       "                                   [10],\n",
       "                                   [10],\n",
       "                                   [10],\n",
       "                                   [10],\n",
       "                                   [10]], dtype=int64),\n",
       "              'error_y': {'array': array([0.00060464, 0.00064909, 0.00057633, 0.00067766, 0.00346761, 0.00796668,\n",
       "                                          0.01846196])},\n",
       "              'hovertemplate': ('Model=corelnet<br>Training Set' ... '{customdata[0]}<extra></extra>'),\n",
       "              'legendgroup': 'corelnet',\n",
       "              'line': {'color': '#00cc96', 'dash': 'solid'},\n",
       "              'marker': {'symbol': 'square'},\n",
       "              'mode': 'lines+markers',\n",
       "              'name': 'corelnet',\n",
       "              'orientation': 'v',\n",
       "              'showlegend': True,\n",
       "              'type': 'scatter',\n",
       "              'x': array([   5,  100,  200,  500, 1000, 1500, 2015], dtype=int64),\n",
       "              'xaxis': 'x',\n",
       "              'y': array([0.49915015, 0.50056659, 0.49915015, 0.4990085 , 0.50410766, 0.51026912,\n",
       "                          0.55169972]),\n",
       "              'yaxis': 'y'},\n",
       "             {'customdata': array([[10],\n",
       "                                   [10],\n",
       "                                   [10],\n",
       "                                   [10],\n",
       "                                   [10],\n",
       "                                   [10],\n",
       "                                   [10]], dtype=int64),\n",
       "              'error_y': {'array': array([0.00067436, 0.00073751, 0.00077437, 0.00069591, 0.00081128, 0.01061749,\n",
       "                                          0.00850713])},\n",
       "              'hovertemplate': ('Model=mlp<br>Training Set Size' ... '{customdata[0]}<extra></extra>'),\n",
       "              'legendgroup': 'mlp',\n",
       "              'line': {'color': '#ab63fa', 'dash': 'solid'},\n",
       "              'marker': {'symbol': 'x'},\n",
       "              'mode': 'lines+markers',\n",
       "              'name': 'mlp',\n",
       "              'orientation': 'v',\n",
       "              'showlegend': True,\n",
       "              'type': 'scatter',\n",
       "              'x': array([   5,  100,  200,  500, 1000, 1500, 2015], dtype=int64),\n",
       "              'xaxis': 'x',\n",
       "              'y': array([0.49915015, 0.49985836, 0.50056658, 0.49992919, 0.50021248, 0.53633144,\n",
       "                          0.54128895]),\n",
       "              'yaxis': 'y'},\n",
       "             {'customdata': array([[10],\n",
       "                                   [10],\n",
       "                                   [10],\n",
       "                                   [10],\n",
       "                                   [10],\n",
       "                                   [10],\n",
       "                                   [10]], dtype=int64),\n",
       "              'error_y': {'array': array([0.00589428, 0.00435269, 0.0045997 , 0.00621564, 0.0081416 , 0.00879367,\n",
       "                                          0.00841569])},\n",
       "              'hovertemplate': ('Model=predinet<br>Training Set' ... '{customdata[0]}<extra></extra>'),\n",
       "              'legendgroup': 'predinet',\n",
       "              'line': {'color': '#FFA15A', 'dash': 'solid'},\n",
       "              'marker': {'symbol': 'cross'},\n",
       "              'mode': 'lines+markers',\n",
       "              'name': 'predinet',\n",
       "              'orientation': 'v',\n",
       "              'showlegend': True,\n",
       "              'type': 'scatter',\n",
       "              'x': array([   5,  100,  200,  500, 1000, 1500, 2015], dtype=int64),\n",
       "              'xaxis': 'x',\n",
       "              'y': array([0.50446175, 0.50934844, 0.5194051 , 0.54915014, 0.60885268, 0.65779037,\n",
       "                          0.68739377]),\n",
       "              'yaxis': 'y'}],\n",
       "    'layout': {'height': 600,\n",
       "               'legend': {'title': {'text': 'Model'}, 'tracegroupgap': 0},\n",
       "               'template': '...',\n",
       "               'title': {'text': 'Pairwise Order Relation Learning Curves'},\n",
       "               'width': 1000,\n",
       "               'xaxis': {'anchor': 'y', 'domain': [0.0, 1.0], 'title': {'text': 'Training Set Size'}},\n",
       "               'yaxis': {'anchor': 'x', 'domain': [0.0, 1.0], 'title': {'text': 'binary_accuracy'}}}\n",
       "})"
      ]
     },
     "execution_count": 46,
     "metadata": {},
     "output_type": "execute_result"
    }
   ],
   "source": [
    "metric = 'binary_accuracy'\n",
    "fig = px.line(learning_curves_agg_df, color='group', symbol='group',\n",
    "    x='train_size', y=f'{metric} mean', error_y=f'{metric} sem', hover_data=[f'{metric} len'],\n",
    "    labels={f'{metric} len': '# of trials', f'{metric} mean': metric, 'group': 'Model', 'train_size': 'Training Set Size'},\n",
    "    title='Pairwise Order Relation Learning Curves', width=1000, height=600)\n",
    "# fig.write_html(f'figs/object_argsort_{metric}_learning_curves.html')\n",
    "fig"
   ]
  }
 ],
 "metadata": {
  "kernelspec": {
   "display_name": "Python 3.10.12 ('tf')",
   "language": "python",
   "name": "python3"
  },
  "language_info": {
   "codemirror_mode": {
    "name": "ipython",
    "version": 3
   },
   "file_extension": ".py",
   "mimetype": "text/x-python",
   "name": "python",
   "nbconvert_exporter": "python",
   "pygments_lexer": "ipython3",
   "version": "3.9.16"
  },
  "vscode": {
   "interpreter": {
    "hash": "c42447f1c4240406d64c4df4cca87b5465b8a2bbd2ae4f1d6d833906715d3ac1"
   }
  }
 },
 "nbformat": 4,
 "nbformat_minor": 2
}
